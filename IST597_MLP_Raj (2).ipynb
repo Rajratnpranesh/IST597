{
  "nbformat": 4,
  "nbformat_minor": 0,
  "metadata": {
    "colab": {
      "name": "IST597_MLP_Raj.ipynb",
      "provenance": [],
      "collapsed_sections": [],
      "toc_visible": true
    },
    "kernelspec": {
      "name": "python3",
      "display_name": "Python 3"
    },
    "accelerator": "GPU"
  },
  "cells": [
    {
      "cell_type": "markdown",
      "metadata": {
        "id": "view-in-github"
      },
      "source": [
        "<a href=\"https://colab.research.google.com/github/AnkurMali/IST597_Spring_2022/blob/main/IST597_MLP_collab.ipynb\" target=\"_parent\"><img src=\"https://colab.research.google.com/assets/colab-badge.svg\" alt=\"Open In Colab\"/></a>"
      ]
    },
    {
      "cell_type": "markdown",
      "metadata": {
        "id": "71kdFp0QgF4K"
      },
      "source": [
        "# IST597:- Multi-Layer Perceptron"
      ]
    },
    {
      "cell_type": "markdown",
      "source": [
        "# Case 1: \n",
        "\n",
        "Using default batch size without softmax activation in output layer, without any regularization to determine the Categorical Cross-Entropy of test dataset and determine the accuracy of default model in GPU,TPU,CPU and on default mode."
      ],
      "metadata": {
        "id": "rVS3rMVhgV4m"
      }
    },
    {
      "cell_type": "markdown",
      "metadata": {
        "id": "C2yHcl5xgPV1"
      },
      "source": [
        "## Load the libraries"
      ]
    },
    {
      "cell_type": "code",
      "metadata": {
        "id": "2DPwxLR2gSLC"
      },
      "source": [
        "#Core Libraries \n",
        "import os\n",
        "import numpy as np\n",
        "import time\n",
        "import tensorflow as tf\n",
        "#Libraries for data featching\n",
        "from sklearn.datasets import fetch_openml\n",
        "from tensorflow.keras.utils import to_categorical\n",
        "from sklearn.model_selection import train_test_split\n",
        "np.random.seed(5997)\n",
        "tf.random.set_seed(5997)"
      ],
      "execution_count": null,
      "outputs": []
    },
    {
      "cell_type": "code",
      "source": [
        "x, y = fetch_openml('mnist_784', version=1, return_X_y=True)\n",
        "x = (x/255).astype('float32')\n",
        "y = to_categorical(y)\n",
        "\n",
        "x_train, x_test, y_train, y_test = train_test_split(x, y, test_size=0.15, random_state=42)"
      ],
      "metadata": {
        "id": "B1WSN1MJ3X4-"
      },
      "execution_count": null,
      "outputs": []
    },
    {
      "cell_type": "code",
      "metadata": {
        "id": "wV-3kEaggcO8",
        "colab": {
          "base_uri": "https://localhost:8080/"
        },
        "outputId": "0a2b7cff-3797-4511-83d5-585067d4b68a"
      },
      "source": [
        "tf.config.list_physical_devices('GPU')"
      ],
      "execution_count": null,
      "outputs": [
        {
          "output_type": "execute_result",
          "data": {
            "text/plain": [
              "[PhysicalDevice(name='/physical_device:GPU:0', device_type='GPU')]"
            ]
          },
          "metadata": {},
          "execution_count": 3
        }
      ]
    },
    {
      "cell_type": "markdown",
      "metadata": {
        "id": "iw78jw6pDqSM"
      },
      "source": [
        "#Get number of Gpu's and id's in the system or else you can also use Nvidia-smi in command prompt."
      ]
    },
    {
      "cell_type": "markdown",
      "metadata": {
        "id": "7Dk_S2TMg_6_"
      },
      "source": [
        "## Define the input layer size, hidden layers size and output layer size"
      ]
    },
    {
      "cell_type": "code",
      "metadata": {
        "id": "40XlFnwho7D8"
      },
      "source": [
        "size_input = 784\n",
        "size_hidden = [128,64]\n",
        "size_output = 10\n",
        "number_of_train_examples = 60000\n",
        "number_of_test_examples = 10000"
      ],
      "execution_count": null,
      "outputs": []
    },
    {
      "cell_type": "code",
      "metadata": {
        "id": "aigqKFFF5BM2"
      },
      "source": [
        "# Split dataset into batches\n",
        "train_ds = tf.data.Dataset.from_tensor_slices((x_train, y_train)).batch(16)\n",
        "test_ds = tf.data.Dataset.from_tensor_slices((x_test, y_test)).batch(4)"
      ],
      "execution_count": null,
      "outputs": []
    },
    {
      "cell_type": "markdown",
      "metadata": {
        "id": "Eb4hOoVbnzSJ"
      },
      "source": [
        "## Build MLP using Eager Execution"
      ]
    },
    {
      "cell_type": "code",
      "metadata": {
        "id": "Ht9_qpYipgHw"
      },
      "source": [
        "# Define class to build mlp model\n",
        "class MLP(object):\n",
        "  def __init__(self, size_input, size_hidden, size_output, device=None):\n",
        "    \"\"\"\n",
        "    size_input: int, size of input layer\n",
        "    size_hidden: int, size of hidden layer\n",
        "    size_output: int, size of output layer\n",
        "    device: str or None, either 'cpu' or 'gpu' or None. If None, the device to be used will be decided automatically during Eager Execution\n",
        "    \"\"\"\n",
        "    self.size_input, self.size_hidden, self.size_output, self.device =\\\n",
        "    size_input, size_hidden, size_output, device\n",
        "    \n",
        "    # Initialize weights between input layer and hidden layer-1\n",
        "    self.W1 = tf.Variable(tf.random.normal([self.size_input, self.size_hidden[0]]))\n",
        "    # Initialize biases for hidden layer-1\n",
        "    self.b1 = tf.Variable(tf.random.normal([1, self.size_hidden[0]]))\n",
        "\n",
        "    # Initialize weights between hidden layer-1 and hidden layer-2\n",
        "    self.W2 = tf.Variable(tf.random.normal([self.size_hidden[0], self.size_hidden[1]]))\n",
        "    # Initialize biases for hidden layer-1\n",
        "    self.b2 = tf.Variable(tf.random.normal([1, self.size_hidden[1]]))\n",
        "\n",
        "     # Initialize weights between hidden layer and output layer\n",
        "    self.W3 = tf.Variable(tf.random.normal([self.size_hidden[1], self.size_output]))\n",
        "    # Initialize biases for output layer\n",
        "    self.b3 = tf.Variable(tf.random.normal([1, self.size_output]))\n",
        "    \n",
        "    # Define variables to be updated during backpropagation\n",
        "    self.variables = [self.W1, self.W2, self.W3, self.b1, self.b2, self.b3]\n",
        "    \n",
        "    \n",
        "  def forward(self, X):\n",
        "    \"\"\"\n",
        "    forward pass\n",
        "    X: Tensor, inputs\n",
        "    \"\"\"\n",
        "    if self.device is not None:\n",
        "      with tf.device('gpu:0' if self.device=='gpu' else 'cpu'):\n",
        "        self.y = self.compute_output(X)\n",
        "    else:\n",
        "      self.y = self.compute_output(X)\n",
        "      \n",
        "    return self.y\n",
        "  \n",
        "  def loss(self, y_pred, y_true):\n",
        "    '''\n",
        "    y_pred - Tensor of shape (batch_size, size_output)\n",
        "    y_true - Tensor of shape (batch_size, size_output)\n",
        "    '''\n",
        "    y_true_tf = tf.cast(tf.reshape(y_true, (-1, self.size_output)), dtype=tf.float32)\n",
        "    y_pred_tf = tf.cast(y_pred, dtype=tf.float32)\n",
        "    return tf.keras.losses.CategoricalCrossentropy()(y_true_tf, y_pred_tf)\n",
        "  \n",
        "  def backward(self, X_train, y_train):\n",
        "    \"\"\"\n",
        "    backward pass\n",
        "    \"\"\"\n",
        "    optimizer = tf.keras.optimizers.SGD(learning_rate=1e-4)\n",
        "    with tf.GradientTape() as tape:\n",
        "      predicted = self.forward(X_train)\n",
        "      current_loss = self.loss(predicted, y_train)\n",
        "    grads = tape.gradient(current_loss, self.variables)\n",
        "    optimizer.apply_gradients(zip(grads, self.variables))\n",
        "        \n",
        "        \n",
        "  def compute_output(self, X):\n",
        "    \"\"\"\n",
        "    Custom method to obtain output tensor during forward pass\n",
        "    \"\"\"\n",
        "    # Cast X to float32\n",
        "    X_tf = tf.cast(X, dtype=tf.float32)\n",
        "    #Remember to normalize your dataset before moving forward\n",
        "    # Compute values in hidden layer1\n",
        "    what1 = tf.matmul(X_tf, self.W1) + self.b1\n",
        "    hhat1 = tf.nn.relu(what1)\n",
        "    # Compute values in hidden layer2\n",
        "    what2 = tf.matmul(hhat1, self.W2) + self.b2\n",
        "    hhat2 = tf.nn.relu(what2)\n",
        "    # Compute output\n",
        "    output = tf.matmul(hhat2, self.W3) + self.b3\n",
        "    #Now consider two things , First look at inbuild loss functions if they work with softmax or not and then change this\n",
        "    #Second add tf.Softmax(output) and then return this variable\n",
        "    return output"
      ],
      "execution_count": null,
      "outputs": []
    },
    {
      "cell_type": "markdown",
      "metadata": {
        "id": "cUDFOuNk618X"
      },
      "source": [
        "## Train Model"
      ]
    },
    {
      "cell_type": "code",
      "metadata": {
        "id": "FZPVUu0YDa-_"
      },
      "source": [
        "# Set number of epochs\n",
        "NUM_EPOCHS = 10"
      ],
      "execution_count": null,
      "outputs": []
    },
    {
      "cell_type": "code",
      "metadata": {
        "id": "moAeRMJ56kr6",
        "colab": {
          "base_uri": "https://localhost:8080/"
        },
        "outputId": "b5f635b6-4b26-4fbc-fb05-0287f9622348"
      },
      "source": [
        "# Initialize model using CPU\n",
        "mlp_on_cpu = MLP(size_input, size_hidden, size_output, device='cpu')\n",
        "\n",
        "time_start = time.time()\n",
        "for epoch in range(NUM_EPOCHS):\n",
        "  loss_total = tf.zeros([1,1], dtype=tf.float32)\n",
        "  lt = 0\n",
        "  accuracy_a = tf.zeros([], dtype=tf.float32) #tensor for accumulating accuracy\n",
        "  train_ds = tf.data.Dataset.from_tensor_slices((x_train, y_train)).shuffle(25, seed=epoch*(5997)).batch(20)\n",
        "  for inputs, outputs in train_ds:\n",
        "    # Calculate accuracy\n",
        "    preds = mlp_on_cpu.forward(inputs)\n",
        "    pred = tf.nn.softmax(preds)\n",
        "    outputs = tf.cast(tf.reshape(outputs, (-1,10)), dtype=tf.float32)\n",
        "    pred = tf.cast(pred, dtype=tf.float32)\n",
        "    correct_prediction = tf.equal(tf.argmax(outputs, 1), tf.argmax(pred, 1))\n",
        "    accuracy = tf.reduce_mean(tf.cast(correct_prediction, \"float\"))\n",
        "\n",
        "\n",
        "\n",
        "    accuracy_a = accuracy_a + accuracy\n",
        "    loss_total = loss_total + mlp_on_cpu.loss(preds, outputs)\n",
        "    lt = lt + mlp_on_cpu.loss(preds, outputs)\n",
        "    mlp_on_cpu.backward(inputs, outputs)\n",
        "  print('Number of Epoch = {} - Categorical_Cross-Entropy:= {}'.format(epoch + 1, np.sum(loss_total) / x_train.shape[0]))\n",
        "  print('Number of Epoch = {} - Accuracy:= {}'.format(epoch + 1, (np.sum(accuracy_a) / x_train.shape[0])*100))\n",
        "time_taken = time.time() - time_start\n",
        "\n",
        "print('\\nTotal time taken (in seconds): {:.2f}'.format(time_taken))\n",
        "#For per epoch_time = Total_Time / Number_of_epochs"
      ],
      "execution_count": null,
      "outputs": [
        {
          "output_type": "stream",
          "name": "stdout",
          "text": [
            "Number of Epoch = 1 - Categorical_Cross-Entropy:= 0.2540452337184874\n",
            "Number of Epoch = 1 - Accuracy:= 0.4616836163176208\n",
            "Number of Epoch = 2 - Categorical_Cross-Entropy:= 0.247548959427521\n",
            "Number of Epoch = 2 - Accuracy:= 0.4713471741235557\n",
            "Number of Epoch = 3 - Categorical_Cross-Entropy:= 0.24297213103991597\n",
            "Number of Epoch = 3 - Accuracy:= 0.4810948988970588\n",
            "Number of Epoch = 4 - Categorical_Cross-Entropy:= 0.2380863149947479\n",
            "Number of Epoch = 4 - Accuracy:= 0.4897495814732143\n",
            "Number of Epoch = 5 - Categorical_Cross-Entropy:= 0.22200520286239495\n",
            "Number of Epoch = 5 - Accuracy:= 0.5048750164128152\n",
            "Number of Epoch = 6 - Categorical_Cross-Entropy:= 0.20988084296218487\n",
            "Number of Epoch = 6 - Accuracy:= 0.503530704273897\n",
            "Number of Epoch = 7 - Categorical_Cross-Entropy:= 0.1993276162027311\n",
            "Number of Epoch = 7 - Accuracy:= 0.5033629858193277\n",
            "Number of Epoch = 8 - Categorical_Cross-Entropy:= 0.19061667870273108\n",
            "Number of Epoch = 8 - Accuracy:= 0.5072281524914654\n",
            "Number of Epoch = 9 - Categorical_Cross-Entropy:= 0.18626784073004202\n",
            "Number of Epoch = 9 - Accuracy:= 0.5097490583147322\n",
            "Number of Epoch = 10 - Categorical_Cross-Entropy:= 0.18421615677521008\n",
            "Number of Epoch = 10 - Accuracy:= 0.5122703231683299\n",
            "\n",
            "Total time taken (in seconds): 722.28\n"
          ]
        }
      ]
    },
    {
      "cell_type": "code",
      "metadata": {
        "id": "SdMFAuH18Ve0",
        "colab": {
          "base_uri": "https://localhost:8080/"
        },
        "outputId": "28879956-9a74-4353-b803-8893ef3172d2"
      },
      "source": [
        "# Initialize model using GPU\n",
        "mlp_on_gpu = MLP(size_input, size_hidden, size_output, device='gpu')\n",
        "\n",
        "time_start = time.time()\n",
        "for epoch in range(NUM_EPOCHS):\n",
        "  loss_total_gpu = tf.zeros([1,1], dtype=tf.float32)\n",
        "  lt = 0\n",
        "  accuracy_a = tf.zeros([], dtype=tf.float32) #tensor for accumulating accuracy\n",
        "  train_ds = tf.data.Dataset.from_tensor_slices((x_train, y_train)).shuffle(25, seed=epoch*(5997)).batch(20)\n",
        "  for inputs, outputs in train_ds:\n",
        "    preds = mlp_on_gpu.forward(inputs)\n",
        "    pred = tf.nn.softmax(preds)\n",
        "\n",
        "\n",
        "    outputs = tf.cast(tf.reshape(outputs, (-1,10)), dtype=tf.float32)\n",
        "    pred = tf.cast(pred, dtype=tf.float32)\n",
        "\n",
        "    correct_prediction = tf.equal(tf.argmax(outputs, 1), tf.argmax(pred, 1))\n",
        "    # Calculate accuracy\n",
        "    accuracy = tf.reduce_mean(tf.cast(correct_prediction, \"float\"))\n",
        "\n",
        "\n",
        "\n",
        "    accuracy_a = accuracy_a + accuracy\n",
        "    loss_total_gpu = loss_total_gpu + mlp_on_gpu.loss(preds, outputs)\n",
        "    lt = lt + mlp_on_gpu.loss(preds, outputs)\n",
        "    mlp_on_gpu.backward(inputs, outputs)\n",
        "  print('Number of Epoch = {} - Categorical Cross-Entropy:= {}'.format(epoch + 1, np.sum(loss_total_gpu) / x_train.shape[0]))\n",
        "  print('Number of Epoch = {} - Accuracy:= {}'.format(epoch + 1, (np.sum(accuracy_a) / x_train.shape[0])*100))\n",
        "time_taken = time.time() - time_start\n",
        "\n",
        "print('\\nTotal time taken (in seconds): {:.2f}'.format(time_taken))"
      ],
      "execution_count": null,
      "outputs": [
        {
          "output_type": "stream",
          "name": "stdout",
          "text": [
            "Number of Epoch = 1 - Categorical Cross-Entropy:= 0.42788383009453784\n",
            "Number of Epoch = 1 - Accuracy:= 0.52899226340927\n",
            "Number of Epoch = 2 - Categorical Cross-Entropy:= 0.4151001181722689\n",
            "Number of Epoch = 2 - Accuracy:= 0.5319335424599527\n",
            "Number of Epoch = 3 - Categorical Cross-Entropy:= 0.3966051404936975\n",
            "Number of Epoch = 3 - Accuracy:= 0.549749191668855\n",
            "Number of Epoch = 4 - Categorical Cross-Entropy:= 0.36249474789915964\n",
            "Number of Epoch = 4 - Accuracy:= 0.5327742889147846\n",
            "Number of Epoch = 5 - Categorical Cross-Entropy:= 0.34080225840336137\n",
            "Number of Epoch = 5 - Accuracy:= 0.5390756302521008\n",
            "Number of Epoch = 6 - Categorical Cross-Entropy:= 0.32490342699579833\n",
            "Number of Epoch = 6 - Accuracy:= 0.5627730169216124\n",
            "Number of Epoch = 7 - Categorical Cross-Entropy:= 0.3074765625\n",
            "Number of Epoch = 7 - Accuracy:= 0.6010082597492121\n",
            "Number of Epoch = 8 - Categorical Cross-Entropy:= 0.2927140887605042\n",
            "Number of Epoch = 8 - Accuracy:= 0.6168062610786502\n",
            "Number of Epoch = 9 - Categorical Cross-Entropy:= 0.28597016150210086\n",
            "Number of Epoch = 9 - Accuracy:= 0.6408401104582458\n",
            "Number of Epoch = 10 - Categorical Cross-Entropy:= 0.27462944787289917\n",
            "Number of Epoch = 10 - Accuracy:= 0.6700839002593225\n",
            "\n",
            "Total time taken (in seconds): 625.89\n"
          ]
        }
      ]
    },
    {
      "cell_type": "code",
      "source": [
        "#Default mode\n",
        "mlp_on_default = MLP(size_input, size_hidden, size_output)\n",
        "\n",
        "time_start = time.time()\n",
        "for epoch in range(NUM_EPOCHS):\n",
        "  loss_total_gpu = tf.zeros([1,1], dtype=tf.float32)\n",
        "  lt = 0\n",
        "  accuracy_a = tf.zeros([], dtype=tf.float32)\n",
        "  train_ds = tf.data.Dataset.from_tensor_slices((x_train, y_train)).shuffle(25, seed=epoch*(5997)).batch(150)\n",
        "  for inputs, outputs in train_ds:\n",
        "    preds = mlp_on_default.forward(inputs)\n",
        "    pred = tf.nn.softmax(preds)  # Applying softmax to logits to get better accuracy\n",
        "\n",
        "\n",
        "    outputs = tf.cast(tf.reshape(outputs, (-1,10)), dtype=tf.float32)\n",
        "    pred = tf.cast(pred, dtype=tf.float32)\n",
        "\n",
        "    correct_prediction = tf.equal(tf.argmax(outputs, 1), tf.argmax(pred, 1))\n",
        "    # Calculate accuracy\n",
        "    accuracy = tf.reduce_mean(tf.cast(correct_prediction, \"float\"))\n",
        "\n",
        "\n",
        "\n",
        "    accuracy_a = accuracy_a + accuracy\n",
        "    loss_total_gpu = loss_total_gpu + mlp_on_default.loss(preds, outputs)\n",
        "    lt = lt + mlp_on_default.loss(preds, outputs)\n",
        "    mlp_on_default.backward(inputs, outputs)\n",
        "  print('Number of Epoch = {} - Categorical Cross-Entropy:= {}'.format(epoch + 1, np.sum(loss_total_gpu) / x_train.shape[0]))\n",
        "  print('Number of Epoch = {} - Accuracy:= {}'.format(epoch + 1, (np.sum(accuracy_a) / x_train.shape[0])*1000))\n",
        "time_taken = time.time() - time_start\n",
        "print('\\n')\n",
        "print('\\nTotal time taken (in seconds): {:.2f}'.format(time_taken))"
      ],
      "metadata": {
        "colab": {
          "base_uri": "https://localhost:8080/"
        },
        "outputId": "bc36a420-a5ee-4d2d-a5be-067ab737f33f",
        "id": "7QCntvyFt2s2"
      },
      "execution_count": null,
      "outputs": [
        {
          "output_type": "stream",
          "name": "stdout",
          "text": [
            "Number of Epoch = 1 - Categorical Cross-Entropy:= 0.029009708180147056\n",
            "Number of Epoch = 1 - Accuracy:= 0.5672555426589581\n",
            "Number of Epoch = 2 - Categorical Cross-Entropy:= 0.02849617171087185\n",
            "Number of Epoch = 2 - Accuracy:= 0.5738382881228663\n",
            "Number of Epoch = 3 - Categorical Cross-Entropy:= 0.0281072003019958\n",
            "Number of Epoch = 3 - Accuracy:= 0.5773509367614233\n",
            "Number of Epoch = 4 - Categorical Cross-Entropy:= 0.027478581276260506\n",
            "Number of Epoch = 4 - Accuracy:= 0.5914010697052258\n",
            "Number of Epoch = 5 - Categorical Cross-Entropy:= 0.02647882336528361\n",
            "Number of Epoch = 5 - Accuracy:= 0.5989332154859014\n",
            "Number of Epoch = 6 - Categorical Cross-Entropy:= 0.0253718938747374\n",
            "Number of Epoch = 6 - Accuracy:= 0.59819054983443573\n",
            "Number of Epoch = 7 - Categorical Cross-Entropy:= 0.02454001444327731\n",
            "Number of Epoch = 7 - Accuracy:= 0.6128578904095819\n",
            "Number of Epoch = 8 - Categorical Cross-Entropy:= 0.023555405560661765\n",
            "Number of Epoch = 8 - Accuracy:= 0.61438934459526\n",
            "Number of Epoch = 9 - Categorical Cross-Entropy:= 0.02241018497242647\n",
            "Number of Epoch = 9 - Accuracy:= 0.618518989883551\n",
            "Number of Epoch = 10 - Categorical Cross-Entropy:= 0.02157053817620798\n",
            "Number of Epoch = 10 - Accuracy:= 0.6209810388388754\n",
            "\n",
            "\n",
            "Total time taken (in seconds): 790.34\n"
          ]
        }
      ]
    },
    {
      "cell_type": "code",
      "source": [
        "test_loss_total = tf.Variable(0, dtype=tf.float32)\n",
        "accuracy_a = tf.zeros([], dtype=tf.float32)\n",
        "#test_loss_total = 0.0\n",
        "for inputs, outputs in test_ds:\n",
        "  preds = mlp_on_default.forward(inputs)\n",
        "\n",
        "  pred = preds\n",
        "  outputs = tf.cast(tf.reshape(outputs, (-1,10)), dtype=tf.float32)\n",
        "  pred = tf.cast(pred, dtype=tf.float32)\n",
        "\n",
        "  correct_prediction = tf.equal(tf.argmax(outputs, 1), tf.argmax(pred, 1))\n",
        "  # Calculate accuracy\n",
        "  accuracy = tf.reduce_mean(tf.cast(correct_prediction, \"float\"))\n",
        "  accuracy_a = accuracy_a + accuracy\n",
        "  #b = mlp_on_default.loss(preds, outputs)\n",
        "  test_loss_total = test_loss_total + mlp_on_default.loss(preds, outputs)\n",
        "# a = (test_loss_total.numpy() / X_train.shape[0])\n",
        "# print(X_train.shape[0])\n",
        "# print(test_loss_total.numpy())\n",
        "# print(b)\n",
        "print('Test Categorical_Cross-Entropy: {:.4f}'.format(np.sum(test_loss_total.numpy()) / x_train.shape[0]))\n",
        "print('Test Accuracy: {:.4f}'.format((np.sum(accuracy_a) / x_train.shape[0])*100))"
      ],
      "metadata": {
        "colab": {
          "base_uri": "https://localhost:8080/"
        },
        "outputId": "42991de5-c0ea-4ddc-8c16-2d2ab2cb164e",
        "id": "HVMXgsQOt2s8"
      },
      "execution_count": null,
      "outputs": [
        {
          "output_type": "stream",
          "name": "stdout",
          "text": [
            "Test Categorical_Cross-Entropy: 0.0785\n",
            "Test Accuracy: 0.6142\n"
          ]
        }
      ]
    },
    {
      "cell_type": "markdown",
      "source": [
        "## Plot"
      ],
      "metadata": {
        "id": "1sde2yiiDjbA"
      }
    },
    {
      "cell_type": "code",
      "source": [
        "acc = [0.56725,0.57383,0.57735,0.59140,0.59893,0.59819,0.61285,0.61438,0.61851,0.62098]"
      ],
      "metadata": {
        "id": "Oqe4zepst2s9"
      },
      "execution_count": 15,
      "outputs": []
    },
    {
      "cell_type": "code",
      "source": [
        "loss = [0.02900,0.02849,0.02849,0.02747,0.02647,0.02537,0.02454,0.02355,0.02241,0.02157]"
      ],
      "metadata": {
        "id": "TubdKMuUt2s9"
      },
      "execution_count": 16,
      "outputs": []
    },
    {
      "cell_type": "code",
      "source": [
        "from matplotlib import pyplot as plt\n",
        "plt.xlabel('Epochs')\n",
        "plt.ylabel('Train Accuracy')\n",
        "plt.title('MNIST-784 dataset')\n",
        "plt.plot(acc)\n",
        "# plt.plot(loss)"
      ],
      "metadata": {
        "colab": {
          "base_uri": "https://localhost:8080/",
          "height": 313
        },
        "id": "kdSyr6KtD2jU",
        "outputId": "c538d616-f52f-4296-fc39-a1e1c97da509"
      },
      "execution_count": 4,
      "outputs": [
        {
          "output_type": "execute_result",
          "data": {
            "text/plain": [
              "[<matplotlib.lines.Line2D at 0x7f98afa7d750>]"
            ]
          },
          "metadata": {},
          "execution_count": 4
        },
        {
          "output_type": "display_data",
          "data": {
            "image/png": "[encoded data removed]",
            "text/plain": [
              "<Figure size 432x288 with 1 Axes>"
            ]
          },
          "metadata": {
            "needs_background": "light"
          }
        }
      ]
    },
    {
      "cell_type": "code",
      "source": [
        "from matplotlib import pyplot as plt\n",
        "plt.xlabel('Epochs')\n",
        "plt.ylabel('Train Loss')\n",
        "plt.title('MNIST-784 dataset')\n",
        "plt.plot(loss)"
      ],
      "metadata": {
        "colab": {
          "base_uri": "https://localhost:8080/",
          "height": 313
        },
        "outputId": "97a27844-e15c-4e2c-d130-4345c231068f",
        "id": "RE44WrgLt2s9"
      },
      "execution_count": 17,
      "outputs": [
        {
          "output_type": "execute_result",
          "data": {
            "text/plain": [
              "[<matplotlib.lines.Line2D at 0x7f98af78ad10>]"
            ]
          },
          "metadata": {},
          "execution_count": 17
        },
        {
          "output_type": "display_data",
          "data": {
            "image/png": "[encoded data removed]",
            "text/plain": [
              "<Figure size 432x288 with 1 Axes>"
            ]
          },
          "metadata": {
            "needs_background": "light"
          }
        }
      ]
    },
    {
      "cell_type": "code",
      "source": [
        ""
      ],
      "metadata": {
        "id": "0nsWJvcMFS-B"
      },
      "execution_count": null,
      "outputs": []
    },
    {
      "cell_type": "markdown",
      "source": [
        "### Test values for 10 rounds"
      ],
      "metadata": {
        "id": "O-88A3n7FWPz"
      }
    },
    {
      "cell_type": "code",
      "source": [
        "acct = [60.37, 56.23, 58.81, 55.41, 58.45, 54.99, 56.86, 61.25, 59.34, 57.56]"
      ],
      "metadata": {
        "id": "HawFcI-WFS3-"
      },
      "execution_count": 7,
      "outputs": []
    },
    {
      "cell_type": "code",
      "source": [
        "from matplotlib import pyplot as plt\n",
        "plt.xlabel('Train Count')\n",
        "plt.ylabel('Test Accuracy')\n",
        "plt.title('MNIST-784 dataset')\n",
        "plt.plot(acct)\n",
        "# plt.plot(loss)"
      ],
      "metadata": {
        "colab": {
          "base_uri": "https://localhost:8080/",
          "height": 313
        },
        "id": "tytKDlk4FV4J",
        "outputId": "c4f981fb-0c9a-40d4-b67b-6736cccc6083"
      },
      "execution_count": 9,
      "outputs": [
        {
          "output_type": "execute_result",
          "data": {
            "text/plain": [
              "[<matplotlib.lines.Line2D at 0x7f98af8b3dd0>]"
            ]
          },
          "metadata": {},
          "execution_count": 9
        },
        {
          "output_type": "display_data",
          "data": {
            "image/png": "[encoded data removed]",
            "text/plain": [
              "<Figure size 432x288 with 1 Axes>"
            ]
          },
          "metadata": {
            "needs_background": "light"
          }
        }
      ]
    },
    {
      "cell_type": "markdown",
      "source": [
        "# Case 2\n",
        "\n",
        "In this case, the implementation is done using an additional layer of softmax on the top of the output layer. Softmax will Using default batch size with softmax activation in output layer, without any regularization. Softmax predict a multinomial probability distribution. That is, softmax is used as the activation function for multi-class classification problems where class membership is required on more than two class labels."
      ],
      "metadata": {
        "id": "MVYHCDjN2w49"
      }
    },
    {
      "cell_type": "code",
      "source": [
        "# Split dataset into batches\n",
        "train_ds = tf.data.Dataset.from_tensor_slices((x_train, y_train)).batch(16)\n",
        "test_ds = tf.data.Dataset.from_tensor_slices((x_test, y_test)).batch(4)"
      ],
      "metadata": {
        "id": "yFsDyDx_3CxR"
      },
      "execution_count": null,
      "outputs": []
    },
    {
      "cell_type": "code",
      "source": [
        "# Define class to build mlp model\n",
        "class MLP(object):\n",
        "  def __init__(self, size_input, size_hidden, size_output, device=None):\n",
        "    \"\"\"\n",
        "    size_input: int, size of input layer\n",
        "    size_hidden: int, size of hidden layer\n",
        "    size_output: int, size of output layer\n",
        "    device: str or None, either 'cpu' or 'gpu' or None. If None, the device to be used will be decided automatically during Eager Execution\n",
        "    \"\"\"\n",
        "    self.size_input, self.size_hidden, self.size_output, self.device =\\\n",
        "    size_input, size_hidden, size_output, device\n",
        "    \n",
        "    # Initialize weights between input layer and hidden layer-1\n",
        "    self.W1 = tf.Variable(tf.random.normal([self.size_input, self.size_hidden[0]]))\n",
        "    # Initialize biases for hidden layer-1\n",
        "    self.b1 = tf.Variable(tf.random.normal([1, self.size_hidden[0]]))\n",
        "\n",
        "    # Initialize weights between hidden layer-1 and hidden layer-2\n",
        "    self.W2 = tf.Variable(tf.random.normal([self.size_hidden[0], self.size_hidden[1]]))\n",
        "    # Initialize biases for hidden layer-1\n",
        "    self.b2 = tf.Variable(tf.random.normal([1, self.size_hidden[1]]))\n",
        "\n",
        "     # Initialize weights between hidden layer and output layer\n",
        "    self.W3 = tf.Variable(tf.random.normal([self.size_hidden[1], self.size_output]))\n",
        "    # Initialize biases for output layer\n",
        "    self.b3 = tf.Variable(tf.random.normal([1, self.size_output]))\n",
        "    \n",
        "    # Define variables to be updated during backpropagation\n",
        "    self.variables = [self.W1, self.W2, self.W3, self.b1, self.b2, self.b3]\n",
        "    \n",
        "    \n",
        "  def forward(self, X):\n",
        "    \"\"\"\n",
        "    forward pass\n",
        "    X: Tensor, inputs\n",
        "    \"\"\"\n",
        "    if self.device is not None:\n",
        "      with tf.device('gpu:0' if self.device=='gpu' else 'cpu'):\n",
        "        self.y = self.compute_output(X)\n",
        "    else:\n",
        "      self.y = self.compute_output(X)\n",
        "      \n",
        "    return self.y\n",
        "  \n",
        "  def loss(self, y_pred, y_true):\n",
        "    '''\n",
        "    y_pred - Tensor of shape (batch_size, size_output)\n",
        "    y_true - Tensor of shape (batch_size, size_output)\n",
        "    '''\n",
        "    y_true_tf = tf.cast(tf.reshape(y_true, (-1, self.size_output)), dtype=tf.float32)\n",
        "    y_pred_tf = tf.cast(y_pred, dtype=tf.float32)\n",
        "    return tf.keras.losses.CategoricalCrossentropy()(y_true_tf, y_pred_tf)\n",
        "  \n",
        "  def backward(self, X_train, y_train):\n",
        "    \"\"\"\n",
        "    backward pass\n",
        "    \"\"\"\n",
        "    optimizer = tf.keras.optimizers.SGD(learning_rate=1e-4)\n",
        "    with tf.GradientTape() as tape:\n",
        "      predicted = self.forward(X_train)\n",
        "      current_loss = self.loss(predicted, y_train)\n",
        "    grads = tape.gradient(current_loss, self.variables)\n",
        "    optimizer.apply_gradients(zip(grads, self.variables))\n",
        "        \n",
        "        \n",
        "  def compute_output(self, X):\n",
        "    \"\"\"\n",
        "    Custom method to obtain output tensor during forward pass\n",
        "    \"\"\"\n",
        "    # Cast X to float32\n",
        "    X_tf = tf.cast(X, dtype=tf.float32)\n",
        "    #Remember to normalize your dataset before moving forward\n",
        "    # Compute values in hidden layer1\n",
        "    what1 = tf.matmul(X_tf, self.W1) + self.b1\n",
        "    hhat1 = tf.nn.relu(what1)\n",
        "    # Compute values in hidden layer2\n",
        "    what2 = tf.matmul(hhat1, self.W2) + self.b2\n",
        "    hhat2 = tf.nn.relu(what2)\n",
        "    # Compute output\n",
        "    output = tf.matmul(hhat2, self.W3) + self.b3\n",
        "    output = tf.keras.activations.softmax(output)\n",
        "    #Now consider two things , First look at inbuild loss functions if they work with softmax or not and then change this\n",
        "    #Second add tf.Softmax(output) and then return this variable\n",
        "    return output"
      ],
      "metadata": {
        "id": "Y_U0O2T6DPk0"
      },
      "execution_count": null,
      "outputs": []
    },
    {
      "cell_type": "code",
      "source": [
        "# Set number of epochs\n",
        "NUM_EPOCHS = 10"
      ],
      "metadata": {
        "id": "P89jRHdSEa8f"
      },
      "execution_count": null,
      "outputs": []
    },
    {
      "cell_type": "code",
      "source": [
        "#Default mode\n",
        "mlp_on_default = MLP(size_input, size_hidden, size_output)\n",
        "\n",
        "time_start = time.time()\n",
        "for epoch in range(NUM_EPOCHS):\n",
        "  loss_total_gpu = tf.zeros([1,1], dtype=tf.float32)\n",
        "  lt = 0\n",
        "  accuracy_a = tf.zeros([], dtype=tf.float32)\n",
        "  train_ds = tf.data.Dataset.from_tensor_slices((x_train, y_train)).shuffle(25, seed=epoch*(5997)).batch(20)\n",
        "  for inputs, outputs in train_ds:\n",
        "    preds = mlp_on_default.forward(inputs)\n",
        "    pred = tf.nn.softmax(preds)  # Applying softmax to logits to get better accuracy\n",
        "\n",
        "\n",
        "    outputs = tf.cast(tf.reshape(outputs, (-1,10)), dtype=tf.float32)\n",
        "    pred = tf.cast(pred, dtype=tf.float32)\n",
        "\n",
        "    correct_prediction = tf.equal(tf.argmax(outputs, 1), tf.argmax(pred, 1))\n",
        "    # Calculate accuracy\n",
        "    accuracy = tf.reduce_mean(tf.cast(correct_prediction, \"float\"))\n",
        "\n",
        "\n",
        "\n",
        "    accuracy_a = accuracy_a + accuracy\n",
        "    loss_total_gpu = loss_total_gpu + mlp_on_default.loss(preds, outputs)\n",
        "    lt = lt + mlp_on_default.loss(preds, outputs)\n",
        "    mlp_on_default.backward(inputs, outputs)\n",
        "  print('Number of Epoch = {} - Categorical Cross-Entropy:= {}'.format(epoch + 1, np.sum(loss_total_gpu) / x_train.shape[0]))\n",
        "  print('Number of Epoch = {} - Accuracy:= {}'.format(epoch + 1, (np.sum(accuracy_a) / x_train.shape[0])*100))\n",
        "time_taken = time.time() - time_start\n",
        "\n",
        "print('\\nTotal time taken (in seconds): {:.2f}'.format(time_taken))"
      ],
      "metadata": {
        "colab": {
          "base_uri": "https://localhost:8080/"
        },
        "id": "WjuTtAtKJgmv",
        "outputId": "29695048-2664-4897-83d9-f885cbd36e0a"
      },
      "execution_count": null,
      "outputs": [
        {
          "output_type": "stream",
          "name": "stdout",
          "text": [
            "Number of Epoch = 1 - Categorical Cross-Entropy:= 0.3698112526260504\n",
            "Number of Epoch = 1 - Accuracy:= 0.489329721146271\n",
            "Number of Epoch = 2 - Categorical Cross-Entropy:= 0.36060353203781514\n",
            "Number of Epoch = 2 - Accuracy:= 0.4901695956702994\n",
            "Number of Epoch = 3 - Categorical Cross-Entropy:= 0.35689374343487396\n",
            "Number of Epoch = 3 - Accuracy:= 0.49227110277704833\n",
            "Number of Epoch = 4 - Categorical Cross-Entropy:= 0.3511022518382353\n",
            "Number of Epoch = 4 - Accuracy:= 0.4957158449317227\n",
            "Number of Epoch = 5 - Categorical Cross-Entropy:= 0.3463145351890756\n",
            "Number of Epoch = 5 - Accuracy:= 0.49747996610753675\n",
            "Number of Epoch = 6 - Categorical Cross-Entropy:= 0.3402994353991597\n",
            "Number of Epoch = 6 - Accuracy:= 0.49907759978991595\n",
            "Number of Epoch = 7 - Categorical Cross-Entropy:= 0.3206730895483193\n",
            "Number of Epoch = 7 - Accuracy:= 0.494287109375\n",
            "Number of Epoch = 8 - Categorical Cross-Entropy:= 0.310984112394958\n",
            "Number of Epoch = 8 - Accuracy:= 0.4947912392496061\n",
            "Number of Epoch = 9 - Categorical Cross-Entropy:= 0.2972127429096639\n",
            "Number of Epoch = 9 - Accuracy:= 0.5041192062762605\n",
            "Number of Epoch = 10 - Categorical Cross-Entropy:= 0.2880283285189076\n",
            "Number of Epoch = 10 - Accuracy:= 0.5055474802225578\n",
            "\n",
            "Total time taken (in seconds): 671.39\n"
          ]
        }
      ]
    },
    {
      "cell_type": "code",
      "source": [
        "test_loss_total = tf.Variable(0, dtype=tf.float32)\n",
        "accuracy_a = tf.zeros([], dtype=tf.float32)\n",
        "#test_loss_total = 0.0\n",
        "for inputs, outputs in test_ds:\n",
        "  preds = mlp_on_default.forward(inputs)\n",
        "\n",
        "  pred = preds\n",
        "  outputs = tf.cast(tf.reshape(outputs, (-1,10)), dtype=tf.float32)\n",
        "  pred = tf.cast(pred, dtype=tf.float32)\n",
        "\n",
        "  correct_prediction = tf.equal(tf.argmax(outputs, 1), tf.argmax(pred, 1))\n",
        "  # Calculate accuracy\n",
        "  accuracy = tf.reduce_mean(tf.cast(correct_prediction, \"float\"))\n",
        "  accuracy_a = accuracy_a + accuracy\n",
        "  #b = mlp_on_default.loss(preds, outputs)\n",
        "  test_loss_total = test_loss_total + mlp_on_default.loss(preds, outputs)\n",
        "# a = (test_loss_total.numpy() / X_train.shape[0])\n",
        "# print(X_train.shape[0])\n",
        "# print(test_loss_total.numpy())\n",
        "# print(b)\n",
        "print('Test Categorical_Cross-Entropy: {:.4f}'.format(np.sum(test_loss_total.numpy()) / x_train.shape[0]))\n",
        "print('Test Accuracy: {:.4f}'.format((np.sum(accuracy_a) / x_train.shape[0])*100))"
      ],
      "metadata": {
        "colab": {
          "base_uri": "https://localhost:8080/"
        },
        "id": "-X8z0Vhi0WIq",
        "outputId": "19799760-774c-480e-922e-148d572bab90"
      },
      "execution_count": null,
      "outputs": [
        {
          "output_type": "stream",
          "name": "stdout",
          "text": [
            "Test Categorical_Cross-Entropy: 0.6273\n",
            "Test Accuracy: 0.5030\n"
          ]
        }
      ]
    },
    {
      "cell_type": "markdown",
      "source": [
        "# Case 3\n",
        "\n",
        "In this case, the implementation is done by adding a dropout layer after every MLP layer. So we have one Dropout penalty/regularization layers added after the activation of layer of each MLP layer."
      ],
      "metadata": {
        "id": "Yyml7OwiguJX"
      }
    },
    {
      "cell_type": "code",
      "source": [
        "# Split dataset into batches\n",
        "train_ds = tf.data.Dataset.from_tensor_slices((x_train, y_train)).batch(16)\n",
        "test_ds = tf.data.Dataset.from_tensor_slices((x_test, y_test)).batch(4)"
      ],
      "metadata": {
        "id": "NH6VSpWshNaR"
      },
      "execution_count": null,
      "outputs": []
    },
    {
      "cell_type": "code",
      "source": [
        "# Define class to build mlp model\n",
        "class MLP(object):\n",
        "  def __init__(self, size_input, size_hidden, size_output, device=None):\n",
        "    \"\"\"\n",
        "    size_input: int, size of input layer\n",
        "    size_hidden: int, size of hidden layer\n",
        "    size_output: int, size of output layer\n",
        "    device: str or None, either 'cpu' or 'gpu' or None. If None, the device to be used will be decided automatically during Eager Execution\n",
        "    \"\"\"\n",
        "    self.size_input, self.size_hidden, self.size_output, self.dropout_layer, self.device =\\\n",
        "    size_input, size_hidden, size_output, tf.keras.layers.Dropout(rate=0.2), device\n",
        "    \n",
        "    # Initialize weights between input layer and hidden layer-1\n",
        "    self.W1 = tf.Variable(tf.random.normal([self.size_input, self.size_hidden[0]]))\n",
        "    # Initialize biases for hidden layer-1\n",
        "    self.b1 = tf.Variable(tf.random.normal([1, self.size_hidden[0]]))\n",
        "\n",
        "    # Initialize weights between hidden layer-1 and hidden layer-2\n",
        "    self.W2 = tf.Variable(tf.random.normal([self.size_hidden[0], self.size_hidden[1]]))\n",
        "    # Initialize biases for hidden layer-1\n",
        "    self.b2 = tf.Variable(tf.random.normal([1, self.size_hidden[1]]))\n",
        "\n",
        "     # Initialize weights between hidden layer and output layer\n",
        "    self.W3 = tf.Variable(tf.random.normal([self.size_hidden[1], self.size_output]))\n",
        "    # Initialize biases for output layer\n",
        "    self.b3 = tf.Variable(tf.random.normal([1, self.size_output]))\n",
        "    \n",
        "    # Define variables to be updated during backpropagation\n",
        "    self.variables = [self.W1, self.W2, self.W3, self.b1, self.b2, self.b3]\n",
        "    \n",
        "    \n",
        "  def forward(self, X):\n",
        "    \"\"\"\n",
        "    forward pass\n",
        "    X: Tensor, inputs\n",
        "    \"\"\"\n",
        "    if self.device is not None:\n",
        "      with tf.device('gpu:0' if self.device=='gpu' else 'cpu'):\n",
        "        self.y = self.compute_output(X)\n",
        "    else:\n",
        "      self.y = self.compute_output(X)\n",
        "      \n",
        "    return self.y\n",
        "  \n",
        "  def loss(self, y_pred, y_true):\n",
        "    '''\n",
        "    y_pred - Tensor of shape (batch_size, size_output)\n",
        "    y_true - Tensor of shape (batch_size, size_output)\n",
        "    '''\n",
        "    y_true_tf = tf.cast(tf.reshape(y_true, (-1, self.size_output)), dtype=tf.float32)\n",
        "    y_pred_tf = tf.cast(y_pred, dtype=tf.float32)\n",
        "    return tf.keras.losses.CategoricalCrossentropy()(y_true_tf, y_pred_tf)\n",
        "  \n",
        "  def backward(self, X_train, y_train):\n",
        "    \"\"\"\n",
        "    backward pass\n",
        "    \"\"\"\n",
        "    optimizer = tf.keras.optimizers.SGD(learning_rate=1e-4)\n",
        "    with tf.GradientTape() as tape:\n",
        "      predicted = self.forward(X_train)\n",
        "      current_loss = self.loss(predicted, y_train)\n",
        "    grads = tape.gradient(current_loss, self.variables)\n",
        "    optimizer.apply_gradients(zip(grads, self.variables))\n",
        "        \n",
        "        \n",
        "  def compute_output(self, X):\n",
        "    \"\"\"\n",
        "    Custom method to obtain output tensor during forward pass\n",
        "    \"\"\"\n",
        "    # Cast X to float32\n",
        "    X_tf = tf.cast(X, dtype=tf.float32)\n",
        "    #Remember to normalize your dataset before moving forward\n",
        "    # Compute values in hidden layer1\n",
        "    what1 = tf.matmul(X_tf, self.W1) + self.b1\n",
        "    hhat1 = tf.nn.relu(what1)\n",
        "    hhat1 = self.dropout_layer(hhat1)\n",
        "    # Compute values in hidden layer2\n",
        "    what2 = tf.matmul(hhat1, self.W2) + self.b2\n",
        "    hhat2 = tf.nn.relu(what2)\n",
        "    hhat2 = self.dropout_layer(hhat2)\n",
        "    # Compute output\n",
        "    output = tf.matmul(hhat2, self.W3) + self.b3\n",
        "    #output = tf.keras.activations.softmax(output)\n",
        "    #Now consider two things , First look at inbuild loss functions if they work with softmax or not and then change this\n",
        "    #Second add tf.Softmax(output) and then return this variable\n",
        "    return output"
      ],
      "metadata": {
        "id": "E4scKXSMHIAU"
      },
      "execution_count": null,
      "outputs": []
    },
    {
      "cell_type": "code",
      "source": [
        "# Set number of epochs\n",
        "NUM_EPOCHS = 10"
      ],
      "metadata": {
        "id": "ujRr5_7EHuQb"
      },
      "execution_count": null,
      "outputs": []
    },
    {
      "cell_type": "code",
      "source": [
        "#Default mode\n",
        "mlp_on_default = MLP(size_input, size_hidden, size_output)\n",
        "\n",
        "time_start = time.time()\n",
        "for epoch in range(NUM_EPOCHS):\n",
        "  loss_total_gpu = tf.zeros([1,1], dtype=tf.float32)\n",
        "  lt = 0\n",
        "  accuracy_a = tf.zeros([], dtype=tf.float32) \n",
        "  train_ds = tf.data.Dataset.from_tensor_slices((x_train, y_train)).shuffle(25, seed=epoch*(5997)).batch(20)\n",
        "  for inputs, outputs in train_ds:\n",
        "    preds = mlp_on_default.forward(inputs)\n",
        "    pred = tf.nn.softmax(preds)  # Applying softmax to logits to get better accuracy\n",
        "\n",
        "\n",
        "    outputs = tf.cast(tf.reshape(outputs, (-1,10)), dtype=tf.float32)\n",
        "    pred = tf.cast(pred, dtype=tf.float32)\n",
        "\n",
        "    correct_prediction = tf.equal(tf.argmax(outputs, 1), tf.argmax(pred, 1))\n",
        "    # Calculate accuracy\n",
        "    accuracy = tf.reduce_mean(tf.cast(correct_prediction, \"float\"))\n",
        "\n",
        "\n",
        "\n",
        "    accuracy_a = accuracy_a + accuracy\n",
        "    loss_total_gpu = loss_total_gpu + mlp_on_default.loss(preds, outputs)\n",
        "    lt = lt + mlp_on_default.loss(preds, outputs)\n",
        "    mlp_on_default.backward(inputs, outputs)\n",
        "  print('Number of Epoch = {} - Categorical Cross-Entropy:= {}'.format(epoch + 1, np.sum(loss_total_gpu) / x_train.shape[0]))\n",
        "  print('Number of Epoch = {} - Accuracy:= {}'.format(epoch + 1, (np.sum(accuracy_a) / x_train.shape[0])*100))\n",
        "time_taken = time.time() - time_start\n",
        "\n",
        "print('\\nTotal time taken (in seconds): {:.2f}'.format(time_taken))"
      ],
      "metadata": {
        "colab": {
          "base_uri": "https://localhost:8080/"
        },
        "outputId": "6aabacfd-4cb9-4bc2-a988-cb9b785f99f6",
        "id": "p0zQtGri0KAO"
      },
      "execution_count": null,
      "outputs": [
        {
          "output_type": "stream",
          "name": "stdout",
          "text": [
            "Number of Epoch = 1 - Categorical Cross-Entropy:= 0.08024983587184874\n",
            "Number of Epoch = 1 - Accuracy:= 0.5735574930655856\n",
            "Number of Epoch = 2 - Categorical Cross-Entropy:= 0.08018526785714286\n",
            "Number of Epoch = 2 - Accuracy:= 0.5777403887580422\n",
            "Number of Epoch = 3 - Categorical Cross-Entropy:= 0.08011497176995798\n",
            "Number of Epoch = 3 - Accuracy:= 0.582091515805541\n",
            "Number of Epoch = 4 - Categorical Cross-Entropy:= 0.08004182805934874\n",
            "Number of Epoch = 4 - Accuracy:= 0.5862928759150144\n",
            "Number of Epoch = 5 - Categorical Cross-Entropy:= 0.07997803965336134\n",
            "Number of Epoch = 5 - Accuracy:= 0.5916153723452271\n",
            "Number of Epoch = 6 - Categorical Cross-Entropy:= 0.07992221966911765\n",
            "Number of Epoch = 6 - Accuracy:= 0.5951822104574251\n",
            "Number of Epoch = 7 - Categorical Cross-Entropy:= 0.0798676552652311\n",
            "Number of Epoch = 7 - Accuracy:= 0.5986182589490874\n",
            "Number of Epoch = 8 - Categorical Cross-Entropy:= 0.07981012834821428\n",
            "Number of Epoch = 8 - Accuracy:= 0.6016997008764444\n",
            "Number of Epoch = 9 - Categorical Cross-Entropy:= 0.0797527081144958\n",
            "Number of Epoch = 9 - Accuracy:= 0.6054156006885176\n",
            "Number of Epoch = 10 - Categorical Cross-Entropy:= 0.07969765132615546\n",
            "Number of Epoch = 10 - Accuracy:= 0.6084968502781972\n",
            "\n",
            "Total time taken (in seconds): 122.82\n"
          ]
        }
      ]
    },
    {
      "cell_type": "code",
      "source": [
        "test_loss_total = tf.Variable(0, dtype=tf.float32)\n",
        "accuracy_a = tf.zeros([], dtype=tf.float32)\n",
        "#test_loss_total = 0.0\n",
        "for inputs, outputs in test_ds:\n",
        "  preds = mlp_on_default.forward(inputs)\n",
        "\n",
        "  pred = preds\n",
        "  outputs = tf.cast(tf.reshape(outputs, (-1,10)), dtype=tf.float32)\n",
        "  pred = tf.cast(pred, dtype=tf.float32)\n",
        "\n",
        "  correct_prediction = tf.equal(tf.argmax(outputs, 1), tf.argmax(pred, 1))\n",
        "  # Calculate accuracy\n",
        "  accuracy = tf.reduce_mean(tf.cast(correct_prediction, \"float\"))\n",
        "  accuracy_a = accuracy_a + accuracy\n",
        "  #b = mlp_on_default.loss(preds, outputs)\n",
        "  test_loss_total = test_loss_total + mlp_on_default.loss(preds, outputs)\n",
        "# a = (test_loss_total.numpy() / X_train.shape[0])\n",
        "# print(X_train.shape[0])\n",
        "# print(test_loss_total.numpy())\n",
        "# print(b)\n",
        "print('Test Categorical_Cross-Entropy: {:.4f}'.format(np.sum(test_loss_total.numpy()) / x_train.shape[0]))\n",
        "print('Test Accuracy: {:.4f}'.format((np.sum(accuracy_a) / x_train.shape[0])*100))"
      ],
      "metadata": {
        "colab": {
          "base_uri": "https://localhost:8080/"
        },
        "id": "oUSkRgVm0oSu",
        "outputId": "79c916c8-17d5-411f-eec4-4698256d92cc"
      },
      "execution_count": null,
      "outputs": [
        {
          "output_type": "stream",
          "name": "stdout",
          "text": [
            "Test Categorical_Cross-Entropy: 0.1022\n",
            "Test Accuracy: 0.6028\n"
          ]
        }
      ]
    },
    {
      "cell_type": "markdown",
      "source": [
        "# Case 4\n",
        "\n",
        "In this case, the implementation is done by adding regularizing function by applying L1 penalty/regularization."
      ],
      "metadata": {
        "id": "ggLjxVFZhPgY"
      }
    },
    {
      "cell_type": "code",
      "source": [
        "# Split dataset into batches\n",
        "train_ds = tf.data.Dataset.from_tensor_slices((x_train, y_train)).batch(16)\n",
        "test_ds = tf.data.Dataset.from_tensor_slices((x_test, y_test)).batch(4)"
      ],
      "metadata": {
        "id": "-NL-s875hXtH"
      },
      "execution_count": null,
      "outputs": []
    },
    {
      "cell_type": "code",
      "source": [
        "# Define class to build mlp model\n",
        "class MLP(object):\n",
        "  def __init__(self, size_input, size_hidden, size_output, device=None):\n",
        "    \"\"\"\n",
        "    size_input: int, size of input layer\n",
        "    size_hidden: int, size of hidden layer\n",
        "    size_output: int, size of output layer\n",
        "    device: str or None, either 'cpu' or 'gpu' or None. If None, the device to be used will be decided automatically during Eager Execution\n",
        "    \"\"\"\n",
        "    self.size_input, self.size_hidden, self.size_output, self.dropout_layer, self.device =\\\n",
        "    size_input, size_hidden, size_output, tf.keras.layers.Dropout(rate=0.2), device\n",
        "    \n",
        "    # Initialize weights between input layer and hidden layer-1\n",
        "    self.W1 = tf.Variable(tf.random.normal([self.size_input, self.size_hidden[0]]))\n",
        "    # Initialize biases for hidden layer-1\n",
        "    self.b1 = tf.Variable(tf.random.normal([1, self.size_hidden[0]]))\n",
        "\n",
        "    # Initialize weights between hidden layer-1 and hidden layer-2\n",
        "    self.W2 = tf.Variable(tf.random.normal([self.size_hidden[0], self.size_hidden[1]]))\n",
        "    # Initialize biases for hidden layer-1\n",
        "    self.b2 = tf.Variable(tf.random.normal([1, self.size_hidden[1]]))\n",
        "\n",
        "     # Initialize weights between hidden layer and output layer\n",
        "    self.W3 = tf.Variable(tf.random.normal([self.size_hidden[1], self.size_output]))\n",
        "    # Initialize biases for output layer\n",
        "    self.b3 = tf.Variable(tf.random.normal([1, self.size_output]))\n",
        "    \n",
        "    # Define variables to be updated during backpropagation\n",
        "    self.variables = [self.W1, self.W2, self.W3, self.b1, self.b2, self.b3]\n",
        "    \n",
        "    \n",
        "  def forward(self, X):\n",
        "    \"\"\"\n",
        "    forward pass\n",
        "    X: Tensor, inputs\n",
        "    \"\"\"\n",
        "    if self.device is not None:\n",
        "      with tf.device('gpu:0' if self.device=='gpu' else 'cpu'):\n",
        "        self.y = self.compute_output(X)\n",
        "    else:\n",
        "      self.y = self.compute_output(X)\n",
        "      \n",
        "    return self.y\n",
        "  \n",
        "  def loss(self, y_pred, y_true):\n",
        "    '''\n",
        "    y_pred - Tensor of shape (batch_size, size_output)\n",
        "    y_true - Tensor of shape (batch_size, size_output)\n",
        "    '''\n",
        "    y_true_tf = tf.cast(tf.reshape(y_true, (-1, self.size_output)), dtype=tf.float32)\n",
        "    y_pred_tf = tf.cast(y_pred, dtype=tf.float32)\n",
        "    return tf.keras.losses.CategoricalCrossentropy()(y_true_tf, y_pred_tf)\n",
        "  \n",
        "  def backward(self, X_train, y_train):\n",
        "    \"\"\"\n",
        "    backward pass\n",
        "    \"\"\"\n",
        "    optimizer = tf.keras.optimizers.SGD(learning_rate=1e-4)\n",
        "    with tf.GradientTape() as tape:\n",
        "      predicted = self.forward(X_train)\n",
        "      L1= (tf.reduce_sum(self.W1)+ tf.reduce_sum(self.W2)+tf.reduce_sum(self.W3)) # L1 = absolute sum of weights (Also known as Lasso)\n",
        "      current_loss = self.loss(predicted, y_train) + 0.03 * L1 # Lambda/Regularization Parameter = 0.03\n",
        "    grads = tape.gradient(current_loss, self.variables)\n",
        "    optimizer.apply_gradients(zip(grads, self.variables))\n",
        "        \n",
        "        \n",
        "  def compute_output(self, X):\n",
        "    \"\"\"\n",
        "    Custom method to obtain output tensor during forward pass\n",
        "    \"\"\"\n",
        "    # Cast X to float32\n",
        "    X_tf = tf.cast(X, dtype=tf.float32)\n",
        "    #Remember to normalize your dataset before moving forward\n",
        "    # Compute values in hidden layer1\n",
        "    what1 = tf.matmul(X_tf, self.W1) + self.b1\n",
        "    hhat1 = tf.nn.relu(what1)\n",
        "    # hhat1 = self.dropout_layer(hhat1)\n",
        "    # Compute values in hidden layer2\n",
        "    what2 = tf.matmul(hhat1, self.W2) + self.b2\n",
        "    hhat2 = tf.nn.relu(what2)\n",
        "    # hhat2 = self.dropout_layer(hhat2)\n",
        "    # Compute output\n",
        "    output = tf.matmul(hhat2, self.W3) + self.b3\n",
        "    #output = tf.keras.activations.softmax(output)\n",
        "    #Now consider two things , First look at inbuild loss functions if they work with softmax or not and then change this\n",
        "    #Second add tf.Softmax(output) and then return this variable\n",
        "    return output"
      ],
      "metadata": {
        "id": "O6ySQ-DmZyk_"
      },
      "execution_count": null,
      "outputs": []
    },
    {
      "cell_type": "code",
      "source": [
        "# Set number of epochs\n",
        "NUM_EPOCHS = 10"
      ],
      "metadata": {
        "id": "1cWNHuQqbnKw"
      },
      "execution_count": null,
      "outputs": []
    },
    {
      "cell_type": "code",
      "source": [
        "#Default mode\n",
        "mlp_on_default = MLP(size_input, size_hidden, size_output)\n",
        "\n",
        "time_start = time.time()\n",
        "for epoch in range(NUM_EPOCHS):\n",
        "  loss_total_gpu = tf.zeros([1,1], dtype=tf.float32)\n",
        "  lt = 0\n",
        "  accuracy_a = tf.zeros([], dtype=tf.float32)\n",
        "  train_ds = tf.data.Dataset.from_tensor_slices((x_train, y_train)).shuffle(25, seed=epoch*(5997)).batch(20)\n",
        "  for inputs, outputs in train_ds:\n",
        "    preds = mlp_on_default.forward(inputs)\n",
        "    pred = tf.nn.softmax(preds)  # Applying softmax to logits to get better accuracy\n",
        "\n",
        "\n",
        "    outputs = tf.cast(tf.reshape(outputs, (-1,10)), dtype=tf.float32)\n",
        "    pred = tf.cast(pred, dtype=tf.float32)\n",
        "\n",
        "    correct_prediction = tf.equal(tf.argmax(pred, 1), tf.argmax(outputs, 1))\n",
        "    # Calculate accuracy\n",
        "    accuracy = tf.reduce_mean(tf.cast(correct_prediction, \"float\"))\n",
        "\n",
        "\n",
        "\n",
        "    accuracy_a = accuracy_a + accuracy\n",
        "    loss_total_gpu = loss_total_gpu + mlp_on_default.loss(preds, outputs)\n",
        "    lt = lt + mlp_on_default.loss(preds, outputs)\n",
        "    mlp_on_default.backward(inputs, outputs)\n",
        "  print('Number of Epoch = {} - Categorical Cross-Entropy:= {}'.format(epoch + 1, np.sum(loss_total_gpu) / x_train.shape[0]))\n",
        "  print('Number of Epoch = {} - Accuracy:= {}'.format(epoch + 1, (np.sum(accuracy_a) / x_train.shape[0])*100))\n",
        "time_taken = time.time() - time_start\n",
        "\n",
        "print('\\nTotal time taken (in seconds): {:.2f}'.format(time_taken))"
      ],
      "metadata": {
        "colab": {
          "base_uri": "https://localhost:8080/"
        },
        "id": "_azRmh6NbqQf",
        "outputId": "d0bad3ec-8f15-4a9d-c160-342a48a47529"
      },
      "execution_count": null,
      "outputs": [
        {
          "output_type": "stream",
          "name": "stdout",
          "text": [
            "Number of Epoch = 1 - Categorical Cross-Entropy:= 0.039850729549632355\n",
            "Number of Epoch = 1 - Accuracy:= 0.5931840784409468\n",
            "Number of Epoch = 2 - Categorical Cross-Entropy:= 0.039683286009716386\n",
            "Number of Epoch = 2 - Accuracy:= 0.5939121406619289\n",
            "Number of Epoch = 3 - Categorical Cross-Entropy:= 0.039616063222163864\n",
            "Number of Epoch = 3 - Accuracy:= 0.5937256372275472\n",
            "Number of Epoch = 4 - Categorical Cross-Entropy:= 0.03951135356486345\n",
            "Number of Epoch = 4 - Accuracy:= 0.5935015638335412\n",
            "Number of Epoch = 5 - Categorical Cross-Entropy:= 0.03922808889180672\n",
            "Number of Epoch = 5 - Accuracy:= 0.5944726126534599\n",
            "Number of Epoch = 6 - Categorical Cross-Entropy:= 0.03859858357405462\n",
            "Number of Epoch = 6 - Accuracy:= 0.5987677694368764\n",
            "Number of Epoch = 7 - Categorical Cross-Entropy:= 0.03806398946297269\n",
            "Number of Epoch = 7 - Accuracy:= 0.6019235819327731\n",
            "Number of Epoch = 8 - Categorical Cross-Entropy:= 0.03746544692095588\n",
            "Number of Epoch = 8 - Accuracy:= 0.6064985259240415\n",
            "Number of Epoch = 9 - Categorical Cross-Entropy:= 0.03714058396796219\n",
            "Number of Epoch = 9 - Accuracy:= 0.6083849738625919\n",
            "Number of Epoch = 10 - Categorical Cross-Entropy:= 0.03706898716517857\n",
            "Number of Epoch = 10 - Accuracy:= 0.6109242799903164\n",
            "\n",
            "Total time taken (in seconds): 95.38\n"
          ]
        }
      ]
    },
    {
      "cell_type": "code",
      "source": [
        "test_loss_total = tf.Variable(0, dtype=tf.float32)\n",
        "accuracy_a = tf.zeros([], dtype=tf.float32)\n",
        "#test_loss_total = 0.0\n",
        "for inputs, outputs in test_ds:\n",
        "  preds = mlp_on_default.forward(inputs)\n",
        "\n",
        "  pred = preds\n",
        "  outputs = tf.cast(tf.reshape(outputs, (-1,10)), dtype=tf.float32)\n",
        "  pred = tf.cast(pred, dtype=tf.float32)\n",
        "\n",
        "  correct_prediction = tf.equal(tf.argmax(outputs, 1), tf.argmax(pred, 1))\n",
        "  # Calculate accuracy\n",
        "  accuracy = tf.reduce_mean(tf.cast(correct_prediction, \"float\"))\n",
        "  accuracy_a = accuracy_a + accuracy\n",
        "  #b = mlp_on_default.loss(preds, outputs)\n",
        "  test_loss_total = test_loss_total + mlp_on_default.loss(preds, outputs)\n",
        "# a = (test_loss_total.numpy() / X_train.shape[0])\n",
        "# print(X_train.shape[0])\n",
        "# print(test_loss_total.numpy())\n",
        "# print(b)\n",
        "print('Test Categorical_Cross-Entropy: {:.4f}'.format(np.sum(test_loss_total.numpy()) / x_train.shape[0]))\n",
        "print('Test Accuracy: {:.4f}'.format((np.sum(accuracy_a) / x_train.shape[0])*100))"
      ],
      "metadata": {
        "colab": {
          "base_uri": "https://localhost:8080/"
        },
        "id": "WQFg8mYHyeOw",
        "outputId": "82308616-c565-4703-da1e-5353addc6e90"
      },
      "execution_count": null,
      "outputs": [
        {
          "output_type": "stream",
          "name": "stdout",
          "text": [
            "Test Categorical_Cross-Entropy: 0.0931\n",
            "Test Accuracy: 0.6011\n"
          ]
        }
      ]
    },
    {
      "cell_type": "markdown",
      "source": [
        "# Case 5\n",
        "\n",
        "\n",
        "In this case, the implementation is done by adding regularizing function by applying L2 penalty/regularization."
      ],
      "metadata": {
        "id": "WTF1L7WXhZBr"
      }
    },
    {
      "cell_type": "code",
      "source": [
        "# Split dataset into batches\n",
        "train_ds = tf.data.Dataset.from_tensor_slices((x_train, y_train)).batch(16)\n",
        "test_ds = tf.data.Dataset.from_tensor_slices((x_test, y_test)).batch(4)"
      ],
      "metadata": {
        "id": "oHsf3UV8h3A4"
      },
      "execution_count": null,
      "outputs": []
    },
    {
      "cell_type": "code",
      "source": [
        "# Define class to build mlp model\n",
        "class MLP(object):\n",
        "  def __init__(self, size_input, size_hidden, size_output, device=None):\n",
        "    \"\"\"\n",
        "    size_input: int, size of input layer\n",
        "    size_hidden: int, size of hidden layer\n",
        "    size_output: int, size of output layer\n",
        "    device: str or None, either 'cpu' or 'gpu' or None. If None, the device to be used will be decided automatically during Eager Execution\n",
        "    \"\"\"\n",
        "    self.size_input, self.size_hidden, self.size_output, self.dropout_layer, self.device =\\\n",
        "    size_input, size_hidden, size_output, tf.keras.layers.Dropout(rate=0.2), device\n",
        "    \n",
        "    # Initialize weights between input layer and hidden layer-1\n",
        "    self.W1 = tf.Variable(tf.random.normal([self.size_input, self.size_hidden[0]]))\n",
        "    # Initialize biases for hidden layer-1\n",
        "    self.b1 = tf.Variable(tf.random.normal([1, self.size_hidden[0]]))\n",
        "\n",
        "    # Initialize weights between hidden layer-1 and hidden layer-2\n",
        "    self.W2 = tf.Variable(tf.random.normal([self.size_hidden[0], self.size_hidden[1]]))\n",
        "    # Initialize biases for hidden layer-1\n",
        "    self.b2 = tf.Variable(tf.random.normal([1, self.size_hidden[1]]))\n",
        "\n",
        "     # Initialize weights between hidden layer and output layer\n",
        "    self.W3 = tf.Variable(tf.random.normal([self.size_hidden[1], self.size_output]))\n",
        "    # Initialize biases for output layer\n",
        "    self.b3 = tf.Variable(tf.random.normal([1, self.size_output]))\n",
        "    \n",
        "    # Define variables to be updated during backpropagation\n",
        "    self.variables = [self.W1, self.W2, self.W3, self.b1, self.b2, self.b3]\n",
        "    \n",
        "    \n",
        "  def forward(self, X):\n",
        "    \"\"\"\n",
        "    forward pass\n",
        "    X: Tensor, inputs\n",
        "    \"\"\"\n",
        "    if self.device is not None:\n",
        "      with tf.device('gpu:0' if self.device=='gpu' else 'cpu'):\n",
        "        self.y = self.compute_output(X)\n",
        "    else:\n",
        "      self.y = self.compute_output(X)\n",
        "      \n",
        "    return self.y\n",
        "  \n",
        "  def loss(self, y_pred, y_true):\n",
        "    '''\n",
        "    y_pred - Tensor of shape (batch_size, size_output)\n",
        "    y_true - Tensor of shape (batch_size, size_output)\n",
        "    '''\n",
        "    y_true_tf = tf.cast(tf.reshape(y_true, (-1, self.size_output)), dtype=tf.float32)\n",
        "    y_pred_tf = tf.cast(y_pred, dtype=tf.float32)\n",
        "    return tf.keras.losses.CategoricalCrossentropy()(y_true_tf, y_pred_tf)\n",
        "  \n",
        "  def backward(self, X_train, y_train):\n",
        "    \"\"\"\n",
        "    backward pass\n",
        "    \"\"\"\n",
        "    optimizer = tf.keras.optimizers.SGD(learning_rate=1e-4)\n",
        "    with tf.GradientTape() as tape:\n",
        "      predicted = self.forward(X_train)\n",
        "      L2= (tf.reduce_sum(tf.square(self.W1))+ tf.reduce_sum(tf.square(self.W2))+tf.reduce_sum(tf.square(self.W3)))/3 # L2 = (absolute sum of squared weights)/no.of weights (Also known as Lasso)\n",
        "      current_loss = self.loss(predicted, y_train) + 0.03 * L2 # Lambda/Regularization Parameter = 0.03\n",
        "    grads = tape.gradient(current_loss, self.variables)\n",
        "    optimizer.apply_gradients(zip(grads, self.variables))\n",
        "        \n",
        "        \n",
        "  def compute_output(self, X):\n",
        "    \"\"\"\n",
        "    Custom method to obtain output tensor during forward pass\n",
        "    \"\"\"\n",
        "    # Cast X to float32\n",
        "    X_tf = tf.cast(X, dtype=tf.float32)\n",
        "    #Remember to normalize your dataset before moving forward\n",
        "    # Compute values in hidden layer1\n",
        "    what1 = tf.matmul(X_tf, self.W1) + self.b1\n",
        "    hhat1 = tf.nn.relu(what1)\n",
        "    # hhat1 = self.dropout_layer(hhat1)\n",
        "    # Compute values in hidden layer2\n",
        "    what2 = tf.matmul(hhat1, self.W2) + self.b2\n",
        "    hhat2 = tf.nn.relu(what2)\n",
        "    # hhat2 = self.dropout_layer(hhat2)\n",
        "    # Compute output\n",
        "    output = tf.matmul(hhat2, self.W3) + self.b3\n",
        "    #output = tf.keras.activations.softmax(output)\n",
        "    #Now consider two things , First look at inbuild loss functions if they work with softmax or not and then change this\n",
        "    #Second add tf.Softmax(output) and then return this variable\n",
        "    return output"
      ],
      "metadata": {
        "id": "9R3aPWRJgIEk"
      },
      "execution_count": null,
      "outputs": []
    },
    {
      "cell_type": "code",
      "source": [
        "# Set number of epochs\n",
        "NUM_EPOCHS = 10"
      ],
      "metadata": {
        "id": "RjadkB_ggMpu"
      },
      "execution_count": null,
      "outputs": []
    },
    {
      "cell_type": "code",
      "metadata": {
        "id": "xI4lsqPhB6Xi",
        "colab": {
          "base_uri": "https://localhost:8080/"
        },
        "outputId": "a59c4792-70fb-4598-db09-6b073824c006"
      },
      "source": [
        "#Default mode\n",
        "mlp_on_default = MLP(size_input, size_hidden, size_output)\n",
        "\n",
        "time_start = time.time()\n",
        "for epoch in range(NUM_EPOCHS):\n",
        "  loss_total_gpu = tf.zeros([1,1], dtype=tf.float32)\n",
        "  lt = 0\n",
        "  accuracy_a = tf.zeros([], dtype=tf.float32) #tensor for accumulating accuracy\n",
        "  train_ds = tf.data.Dataset.from_tensor_slices((x_train, y_train)).shuffle(25, seed=epoch*(5997)).batch(20)\n",
        "  for inputs, outputs in train_ds:\n",
        "    preds = mlp_on_default.forward(inputs)\n",
        "    pred = tf.nn.softmax(preds)\n",
        "\n",
        "\n",
        "    outputs = tf.cast(tf.reshape(outputs, (-1,10)), dtype=tf.float32)\n",
        "    pred = tf.cast(pred, dtype=tf.float32)\n",
        "\n",
        "    correct_prediction = tf.equal(tf.argmax(outputs, 1), tf.argmax(pred, 1))\n",
        "    # Calculate accuracy\n",
        "    accuracy = tf.reduce_mean(tf.cast(correct_prediction, \"float\"))\n",
        "\n",
        "\n",
        "\n",
        "    accuracy_a = accuracy_a + accuracy\n",
        "    loss_total_gpu = loss_total_gpu + mlp_on_default.loss(preds, outputs)\n",
        "    lt = lt + mlp_on_default.loss(preds, outputs)\n",
        "    mlp_on_default.backward(inputs, outputs)\n",
        "  print('Number of Epoch = {} - Categorical Cross-Entropy:= {}'.format(epoch + 1, np.sum(loss_total_gpu) / x_train.shape[0]))\n",
        "  print('Number of Epoch = {} - Accuracy:= {}'.format(epoch + 1, (np.sum(accuracy_a) / x_train.shape[0])*100))\n",
        "time_taken = time.time() - time_start\n",
        "\n",
        "print('\\nTotal time taken (in seconds): {:.2f}'.format(time_taken))"
      ],
      "execution_count": null,
      "outputs": [
        {
          "output_type": "stream",
          "name": "stdout",
          "text": [
            "Number of Epoch = 1 - Categorical Cross-Entropy:= 0.30573391544117645\n",
            "Number of Epoch = 1 - Accuracy:= 0.4708428390887605\n",
            "Number of Epoch = 2 - Categorical Cross-Entropy:= 0.25576692161239495\n",
            "Number of Epoch = 2 - Accuracy:= 0.5183211126247373\n",
            "Number of Epoch = 3 - Categorical Cross-Entropy:= 0.2125008862920168\n",
            "Number of Epoch = 3 - Accuracy:= 0.5553782743566177\n",
            "Number of Epoch = 4 - Categorical Cross-Entropy:= 0.18682595850840336\n",
            "Number of Epoch = 4 - Accuracy:= 0.5611766654904149\n",
            "Number of Epoch = 5 - Categorical Cross-Entropy:= 0.17022198332457983\n",
            "Number of Epoch = 5 - Accuracy:= 0.570252234194459\n",
            "Number of Epoch = 6 - Categorical Cross-Entropy:= 0.15364607405462186\n",
            "Number of Epoch = 6 - Accuracy:= 0.5889914632845326\n",
            "Number of Epoch = 7 - Categorical Cross-Entropy:= 0.1418840762867647\n",
            "Number of Epoch = 7 - Accuracy:= 0.6093281721868434\n",
            "Number of Epoch = 8 - Categorical Cross-Entropy:= 0.1343160287552521\n",
            "Number of Epoch = 8 - Accuracy:= 0.6256299443605567\n",
            "Number of Epoch = 9 - Categorical Cross-Entropy:= 0.12881384585084033\n",
            "Number of Epoch = 9 - Accuracy:= 0.6437807740283613\n",
            "Number of Epoch = 10 - Categorical Cross-Entropy:= 0.12338097426470589\n",
            "Number of Epoch = 10 - Accuracy:= 0.6678145721179096\n",
            "\n",
            "Total time taken (in seconds): 754.27\n"
          ]
        }
      ]
    },
    {
      "cell_type": "markdown",
      "source": [
        "## Plot"
      ],
      "metadata": {
        "id": "mPAivQvEjGUM"
      }
    },
    {
      "cell_type": "code",
      "source": [
        "acc = [0.4708428390887605,0.5183211126247373,0.5553782743566177,0.5611766654904149,0.570252234194459,0.5889914632845326,0.6093281721868434,0.6256299443605567,0.6437807740283613,0.6678145721179096]"
      ],
      "metadata": {
        "id": "BgZuE_7WjR2p"
      },
      "execution_count": 10,
      "outputs": []
    },
    {
      "cell_type": "code",
      "source": [
        "loss = [0.30573,0.25576,0.21250,0.18682,0.17022,0.15364,0.14188,0.13431,0.12881,0.12338]"
      ],
      "metadata": {
        "id": "kdSbbaXsj3eY"
      },
      "execution_count": 11,
      "outputs": []
    },
    {
      "cell_type": "code",
      "source": [
        "from matplotlib import pyplot as plt\n",
        "plt.xlabel('Epochs')\n",
        "plt.ylabel('Train Accuracy')\n",
        "plt.title('MNIST-784 dataset')\n",
        "plt.plot(acc)\n",
        "plt.plot(acc)\n",
        "# plt.plot(loss)"
      ],
      "metadata": {
        "colab": {
          "base_uri": "https://localhost:8080/",
          "height": 313
        },
        "id": "B3fd_vJ8jF7W",
        "outputId": "084d9ea3-20d1-405e-f2d5-d98f53f481c4"
      },
      "execution_count": 12,
      "outputs": [
        {
          "output_type": "execute_result",
          "data": {
            "text/plain": [
              "[<matplotlib.lines.Line2D at 0x7f98af869950>]"
            ]
          },
          "metadata": {},
          "execution_count": 12
        },
        {
          "output_type": "display_data",
          "data": {
            "image/png": "[encoded data removed]",
            "text/plain": [
              "<Figure size 432x288 with 1 Axes>"
            ]
          },
          "metadata": {
            "needs_background": "light"
          }
        }
      ]
    },
    {
      "cell_type": "code",
      "source": [
        "plt.xlabel('Epochs')\n",
        "plt.ylabel('Train Loss')\n",
        "plt.title('MNIST-784 dataset')\n",
        "plt.plot(loss)\n",
        "plt.plot(loss)"
      ],
      "metadata": {
        "colab": {
          "base_uri": "https://localhost:8080/",
          "height": 313
        },
        "id": "BDq4qpBfj2E7",
        "outputId": "af01d8ed-f437-4da2-a7f9-7e12f79d9ccc"
      },
      "execution_count": 14,
      "outputs": [
        {
          "output_type": "execute_result",
          "data": {
            "text/plain": [
              "[<matplotlib.lines.Line2D at 0x7f98af7a38d0>]"
            ]
          },
          "metadata": {},
          "execution_count": 14
        },
        {
          "output_type": "display_data",
          "data": {
            "image/png": "[encoded data removed]",
            "text/plain": [
              "<Figure size 432x288 with 1 Axes>"
            ]
          },
          "metadata": {
            "needs_background": "light"
          }
        }
      ]
    },
    {
      "cell_type": "markdown",
      "source": [
        "# Case 6\n",
        "\n",
        "In this case, the implementation is done by adding regularizing function by applying a combination of l1 and l2 penalty/regularization which is called Elastic Net Regularization."
      ],
      "metadata": {
        "id": "gWYl-DUAh3fX"
      }
    },
    {
      "cell_type": "code",
      "source": [
        "# Split dataset into batches\n",
        "train_ds = tf.data.Dataset.from_tensor_slices((x_train, y_train)).batch(16)\n",
        "test_ds = tf.data.Dataset.from_tensor_slices((x_test, y_test)).batch(4)"
      ],
      "metadata": {
        "id": "PytDFCuhiDh0"
      },
      "execution_count": null,
      "outputs": []
    },
    {
      "cell_type": "code",
      "source": [
        "# Define class to build mlp model\n",
        "class MLP(object):\n",
        "  def __init__(self, size_input, size_hidden, size_output, device=None):\n",
        "    \"\"\"\n",
        "    size_input: int, size of input layer\n",
        "    size_hidden: int, size of hidden layer\n",
        "    size_output: int, size of output layer\n",
        "    device: str or None, either 'cpu' or 'gpu' or None. If None, the device to be used will be decided automatically during Eager Execution\n",
        "    \"\"\"\n",
        "    self.size_input, self.size_hidden, self.size_output, self.dropout_layer, self.device =\\\n",
        "    size_input, size_hidden, size_output, tf.keras.layers.Dropout(rate=0.2), device\n",
        "    \n",
        "    # Initialize weights between input layer and hidden layer-1\n",
        "    self.W1 = tf.Variable(tf.random.normal([self.size_input, self.size_hidden[0]]))\n",
        "    # Initialize biases for hidden layer-1\n",
        "    self.b1 = tf.Variable(tf.random.normal([1, self.size_hidden[0]]))\n",
        "\n",
        "    # Initialize weights between hidden layer-1 and hidden layer-2\n",
        "    self.W2 = tf.Variable(tf.random.normal([self.size_hidden[0], self.size_hidden[1]]))\n",
        "    # Initialize biases for hidden layer-1\n",
        "    self.b2 = tf.Variable(tf.random.normal([1, self.size_hidden[1]]))\n",
        "\n",
        "     # Initialize weights between hidden layer and output layer\n",
        "    self.W3 = tf.Variable(tf.random.normal([self.size_hidden[1], self.size_output]))\n",
        "    # Initialize biases for output layer\n",
        "    self.b3 = tf.Variable(tf.random.normal([1, self.size_output]))\n",
        "    \n",
        "    # Define variables to be updated during backpropagation\n",
        "    self.variables = [self.W1, self.W2, self.W3, self.b1, self.b2, self.b3]\n",
        "    \n",
        "    \n",
        "  def forward(self, X):\n",
        "    \"\"\"\n",
        "    forward pass\n",
        "    X: Tensor, inputs\n",
        "    \"\"\"\n",
        "    if self.device is not None:\n",
        "      with tf.device('gpu:0' if self.device=='gpu' else 'cpu'):\n",
        "        self.y = self.compute_output(X)\n",
        "    else:\n",
        "      self.y = self.compute_output(X)\n",
        "      \n",
        "    return self.y\n",
        "  \n",
        "  def loss(self, y_pred, y_true):\n",
        "    '''\n",
        "    y_pred - Tensor of shape (batch_size, size_output)\n",
        "    y_true - Tensor of shape (batch_size, size_output)\n",
        "    '''\n",
        "    y_true_tf = tf.cast(tf.reshape(y_true, (-1, self.size_output)), dtype=tf.float32)\n",
        "    y_pred_tf = tf.cast(y_pred, dtype=tf.float32)\n",
        "    return tf.keras.losses.CategoricalCrossentropy()(y_true_tf, y_pred_tf)\n",
        "  \n",
        "  def backward(self, X_train, y_train):\n",
        "    \"\"\"\n",
        "    backward pass\n",
        "    \"\"\"\n",
        "    optimizer = tf.keras.optimizers.SGD(learning_rate=1e-4)\n",
        "    with tf.GradientTape() as tape:\n",
        "      predicted = self.forward(X_train)\n",
        "      L1= (tf.reduce_sum(self.W1)+ tf.reduce_sum(self.W2)+tf.reduce_sum(self.W3)) # L1 = absolute sum of weights (Also known as Lasso)\n",
        "      L2= (tf.reduce_sum(tf.square(self.W1))+ tf.reduce_sum(tf.square(self.W2))+tf.reduce_sum(tf.square(self.W3)))/3 # L2 = (absolute sum of squared weights)/no.of weights (Also known as Lasso)\n",
        "      current_loss = self.loss(predicted, y_train) + 0.02*L1 + 0.03 * L2 # Lambda/Regularization Parameter for L1 = 0.02, Lambda/Regularization Parameter for L2 = 0.03\n",
        "    grads = tape.gradient(current_loss, self.variables)\n",
        "    optimizer.apply_gradients(zip(grads, self.variables))\n",
        "        \n",
        "        \n",
        "  def compute_output(self, X):\n",
        "    \"\"\"\n",
        "    Custom method to obtain output tensor during forward pass\n",
        "    \"\"\"\n",
        "    # Cast X to float32\n",
        "    X_tf = tf.cast(X, dtype=tf.float32)\n",
        "    #Remember to normalize your dataset before moving forward\n",
        "    # Compute values in hidden layer1\n",
        "    what1 = tf.matmul(X_tf, self.W1) + self.b1\n",
        "    hhat1 = tf.nn.relu(what1)\n",
        "    # hhat1 = self.dropout_layer(hhat1)\n",
        "    # Compute values in hidden layer2\n",
        "    what2 = tf.matmul(hhat1, self.W2) + self.b2\n",
        "    hhat2 = tf.nn.relu(what2)\n",
        "    # hhat2 = self.dropout_layer(hhat2)\n",
        "    # Compute output\n",
        "    output = tf.matmul(hhat2, self.W3) + self.b3\n",
        "    #output = tf.keras.activations.softmax(output)\n",
        "    #Now consider two things , First look at inbuild loss functions if they work with softmax or not and then change this\n",
        "    #Second add tf.Softmax(output) and then return this variable\n",
        "    return output"
      ],
      "metadata": {
        "id": "5C6OTwajprZe"
      },
      "execution_count": null,
      "outputs": []
    },
    {
      "cell_type": "code",
      "source": [
        "# Set number of epochs\n",
        "NUM_EPOCHS = 10"
      ],
      "metadata": {
        "id": "5F2URu9Qprmg"
      },
      "execution_count": null,
      "outputs": []
    },
    {
      "cell_type": "code",
      "source": [
        "#Default mode\n",
        "mlp_on_default = MLP(size_input, size_hidden, size_output)\n",
        "\n",
        "time_start = time.time()\n",
        "for epoch in range(NUM_EPOCHS):\n",
        "  loss_total_gpu = tf.zeros([1,1], dtype=tf.float32)\n",
        "  lt = 0\n",
        "  accuracy_a = tf.zeros([], dtype=tf.float32)\n",
        "  train_ds = tf.data.Dataset.from_tensor_slices((x_train, y_train)).shuffle(25, seed=epoch*(5997)).batch(20)\n",
        "  for inputs, outputs in train_ds:\n",
        "    preds = mlp_on_default.forward(inputs)\n",
        "    pred = preds  # Applying softmax to logits to get better accuracy\n",
        "\n",
        "\n",
        "    outputs = tf.cast(tf.reshape(outputs, (-1,10)), dtype=tf.float32)\n",
        "    pred = tf.cast(pred, dtype=tf.float32)\n",
        "\n",
        "    correct_prediction = tf.equal(tf.argmax(outputs, 1), tf.argmax(pred, 1))\n",
        "    # Calculate accuracy\n",
        "    accuracy = tf.reduce_mean(tf.cast(correct_prediction, \"float\"))\n",
        "\n",
        "\n",
        "\n",
        "    accuracy_a = accuracy_a + accuracy\n",
        "    loss_total_gpu = loss_total_gpu + mlp_on_default.loss(preds, outputs)\n",
        "    lt = lt + mlp_on_default.loss(preds, outputs)\n",
        "    mlp_on_default.backward(inputs, outputs)\n",
        "  print('Number of Epoch = {} - Categorical Cross-Entropy:= {}'.format(epoch + 1, np.sum(loss_total_gpu) / x_train.shape[0]))\n",
        "  print('Number of Epoch = {} - Accuracy:= {}'.format(epoch + 1, (np.sum(accuracy_a) / x_train.shape[0])*100))\n",
        "time_taken = time.time() - time_start\n",
        "\n",
        "print('\\nTotal time taken (in seconds): {:.2f}'.format(time_taken))"
      ],
      "metadata": {
        "colab": {
          "base_uri": "https://localhost:8080/"
        },
        "id": "bbFz4lSuprv-",
        "outputId": "972cdb16-38e8-42fd-d8d3-103546310909"
      },
      "execution_count": null,
      "outputs": [
        {
          "output_type": "stream",
          "name": "stdout",
          "text": [
            "Number of Epoch = 1 - Categorical Cross-Entropy:= 0.0465773043592437\n",
            "Number of Epoch = 1 - Accuracy:= 0.7179524397649685\n",
            "Number of Epoch = 2 - Categorical Cross-Entropy:= 0.04533393513655462\n",
            "Number of Epoch = 2 - Accuracy:= 0.721107995810629\n",
            "Number of Epoch = 3 - Categorical Cross-Entropy:= 0.04525269580488445\n",
            "Number of Epoch = 3 - Accuracy:= 0.7275282915900736\n",
            "Number of Epoch = 4 - Categorical Cross-Entropy:= 0.04549684053308824\n",
            "Number of Epoch = 4 - Accuracy:= 0.7347594189042805\n",
            "Number of Epoch = 5 - Categorical Cross-Entropy:= 0.04522398158482143\n",
            "Number of Epoch = 5 - Accuracy:= 0.7332487346745339\n",
            "Number of Epoch = 6 - Categorical Cross-Entropy:= 0.04505252100840336\n",
            "Number of Epoch = 6 - Accuracy:= 0.7236176178234965\n",
            "Number of Epoch = 7 - Categorical Cross-Entropy:= 0.04486672383797269\n",
            "Number of Epoch = 7 - Accuracy:= 0.7244403101816899\n",
            "Number of Epoch = 8 - Categorical Cross-Entropy:= 0.04469534122242647\n",
            "Number of Epoch = 8 - Accuracy:= 0.7296332992425485\n",
            "Number of Epoch = 9 - Categorical Cross-Entropy:= 0.04440693933823529\n",
            "Number of Epoch = 9 - Accuracy:= 0.7301447251263787\n",
            "Number of Epoch = 10 - Categorical Cross-Entropy:= 0.0433485876772584\n",
            "Number of Epoch = 10 - Accuracy:= 0.7365259763573399\n",
            "\n",
            "Total time taken (in seconds): 99.93\n"
          ]
        }
      ]
    },
    {
      "cell_type": "code",
      "source": [
        "test_loss_total = tf.Variable(0, dtype=tf.float32)\n",
        "accuracy_a = tf.zeros([], dtype=tf.float32)\n",
        "#test_loss_total = 0.0\n",
        "for inputs, outputs in test_ds:\n",
        "  preds = mlp_on_default.forward(inputs)\n",
        "\n",
        "  pred = preds\n",
        "  outputs = tf.cast(tf.reshape(outputs, (-1,10)), dtype=tf.float32)\n",
        "  pred = tf.cast(pred, dtype=tf.float32)\n",
        "\n",
        "  correct_prediction = tf.equal(tf.argmax(outputs, 1), tf.argmax(pred, 1))\n",
        "  # Calculate accuracy\n",
        "  accuracy = tf.reduce_mean(tf.cast(correct_prediction, \"float\"))\n",
        "  accuracy_a = accuracy_a + accuracy\n",
        "  #b = mlp_on_default.loss(preds, outputs)\n",
        "  test_loss_total = test_loss_total + mlp_on_default.loss(preds, outputs)\n",
        "# a = (test_loss_total.numpy() / X_train.shape[0])\n",
        "# print(X_train.shape[0])\n",
        "# print(test_loss_total.numpy())\n",
        "# print(b)\n",
        "print('Test Categorical_Cross-Entropy: {:.4f}'.format(np.sum(test_loss_total.numpy()) / x_train.shape[0]))\n",
        "print('Test Accuracy: {:.4f}'.format((np.sum(accuracy_a) / x_train.shape[0])*100))"
      ],
      "metadata": {
        "colab": {
          "base_uri": "https://localhost:8080/"
        },
        "id": "yX2Q_SSe4o-a",
        "outputId": "64582864-843c-425e-bbb6-59ec91c4c6f4"
      },
      "execution_count": null,
      "outputs": [
        {
          "output_type": "stream",
          "name": "stdout",
          "text": [
            "Test Categorical_Cross-Entropy: 0.0459\n",
            "Test Accuracy: 0.7068\n"
          ]
        }
      ]
    },
    {
      "cell_type": "markdown",
      "source": [
        "## Plot"
      ],
      "metadata": {
        "id": "0O7iBimikv96"
      }
    },
    {
      "cell_type": "code",
      "source": [
        "acc = [0.71795,0.72110,0.72752,0.73475,0.73324,0.73361,0.73444,0.73363,0.73014,0.73652]"
      ],
      "metadata": {
        "id": "CpxJZ-skkxXI"
      },
      "execution_count": 18,
      "outputs": []
    },
    {
      "cell_type": "code",
      "source": [
        "loss = [0.0465,0.0453,0.0452,0.0454,0.0452,0.0450,0.0448,0.0446,0.0444,0.0433]"
      ],
      "metadata": {
        "id": "jLPdemaGkxSq"
      },
      "execution_count": 21,
      "outputs": []
    },
    {
      "cell_type": "code",
      "source": [
        "from matplotlib import pyplot as plt\n",
        "plt.xlabel('Epochs')\n",
        "plt.ylabel('Train Accuracy')\n",
        "plt.title('MNIST-784 dataset')\n",
        "plt.plot(acc)\n",
        "plt.plot(acc)"
      ],
      "metadata": {
        "colab": {
          "base_uri": "https://localhost:8080/",
          "height": 313
        },
        "outputId": "03ef322a-e18a-458e-c7fb-9ad69948cf8b",
        "id": "k7CMVZwykvWC"
      },
      "execution_count": 20,
      "outputs": [
        {
          "output_type": "execute_result",
          "data": {
            "text/plain": [
              "[<matplotlib.lines.Line2D at 0x7f98af708710>]"
            ]
          },
          "metadata": {},
          "execution_count": 20
        },
        {
          "output_type": "display_data",
          "data": {
            "image/png": "[encoded data removed]",
            "text/plain": [
              "<Figure size 432x288 with 1 Axes>"
            ]
          },
          "metadata": {
            "needs_background": "light"
          }
        }
      ]
    },
    {
      "cell_type": "code",
      "source": [
        "plt.xlabel('Epochs')\n",
        "plt.ylabel('Train Loss')\n",
        "plt.title('MNIST-784 dataset')\n",
        "plt.plot(loss)\n",
        "plt.plot(loss)"
      ],
      "metadata": {
        "colab": {
          "base_uri": "https://localhost:8080/",
          "height": 313
        },
        "outputId": "43404fb9-98a2-4b26-c056-da28daf67303",
        "id": "YCBgocyukvWD"
      },
      "execution_count": 22,
      "outputs": [
        {
          "output_type": "execute_result",
          "data": {
            "text/plain": [
              "[<matplotlib.lines.Line2D at 0x7f98af679110>]"
            ]
          },
          "metadata": {},
          "execution_count": 22
        },
        {
          "output_type": "display_data",
          "data": {
            "image/png": "[encoded data removed]",
            "text/plain": [
              "<Figure size 432x288 with 1 Axes>"
            ]
          },
          "metadata": {
            "needs_background": "light"
          }
        }
      ]
    },
    {
      "cell_type": "markdown",
      "source": [
        "# Case 7\n",
        "\n",
        "Hyper Parameter Optimization for Batch Size using Trial and Error\n"
      ],
      "metadata": {
        "id": "cT-CU3DB0Tpf"
      }
    },
    {
      "cell_type": "markdown",
      "source": [
        "## Batch Size = 20 (default)"
      ],
      "metadata": {
        "id": "xZc82kzD-GGV"
      }
    },
    {
      "cell_type": "code",
      "metadata": {
        "id": "tY_U6JFeFYHB"
      },
      "source": [
        "# Define class to build mlp model\n",
        "class MLP(object):\n",
        "  def __init__(self, size_input, size_hidden, size_output, device=None):\n",
        "    \"\"\"\n",
        "    size_input: int, size of input layer\n",
        "    size_hidden: int, size of hidden layer\n",
        "    size_output: int, size of output layer\n",
        "    device: str or None, either 'cpu' or 'gpu' or None. If None, the device to be used will be decided automatically during Eager Execution\n",
        "    \"\"\"\n",
        "    self.size_input, self.size_hidden, self.size_output, self.device =\\\n",
        "    size_input, size_hidden, size_output, device\n",
        "    \n",
        "    # Initialize weights between input layer and hidden layer-1\n",
        "    self.W1 = tf.Variable(tf.random.normal([self.size_input, self.size_hidden[0]]))\n",
        "    # Initialize biases for hidden layer-1\n",
        "    self.b1 = tf.Variable(tf.random.normal([1, self.size_hidden[0]]))\n",
        "\n",
        "    # Initialize weights between hidden layer-1 and hidden layer-2\n",
        "    self.W2 = tf.Variable(tf.random.normal([self.size_hidden[0], self.size_hidden[1]]))\n",
        "    # Initialize biases for hidden layer-1\n",
        "    self.b2 = tf.Variable(tf.random.normal([1, self.size_hidden[1]]))\n",
        "\n",
        "     # Initialize weights between hidden layer and output layer\n",
        "    self.W3 = tf.Variable(tf.random.normal([self.size_hidden[1], self.size_output]))\n",
        "    # Initialize biases for output layer\n",
        "    self.b3 = tf.Variable(tf.random.normal([1, self.size_output]))\n",
        "    \n",
        "    # Define variables to be updated during backpropagation\n",
        "    self.variables = [self.W1, self.W2, self.W3, self.b1, self.b2, self.b3]\n",
        "    \n",
        "    \n",
        "  def forward(self, X):\n",
        "    \"\"\"\n",
        "    forward pass\n",
        "    X: Tensor, inputs\n",
        "    \"\"\"\n",
        "    if self.device is not None:\n",
        "      with tf.device('gpu:0' if self.device=='gpu' else 'cpu'):\n",
        "        self.y = self.compute_output(X)\n",
        "    else:\n",
        "      self.y = self.compute_output(X)\n",
        "      \n",
        "    return self.y\n",
        "  \n",
        "  def loss(self, y_pred, y_true):\n",
        "    '''\n",
        "    y_pred - Tensor of shape (batch_size, size_output)\n",
        "    y_true - Tensor of shape (batch_size, size_output)\n",
        "    '''\n",
        "    y_true_tf = tf.cast(tf.reshape(y_true, (-1, self.size_output)), dtype=tf.float32)\n",
        "    y_pred_tf = tf.cast(y_pred, dtype=tf.float32)\n",
        "    return tf.keras.losses.CategoricalCrossentropy()(y_true_tf, y_pred_tf)\n",
        "  \n",
        "  def backward(self, X_train, y_train):\n",
        "    \"\"\"\n",
        "    backward pass\n",
        "    \"\"\"\n",
        "    optimizer = tf.keras.optimizers.SGD(learning_rate=1e-4)\n",
        "    with tf.GradientTape() as tape:\n",
        "      predicted = self.forward(X_train)\n",
        "      current_loss = self.loss(predicted, y_train)\n",
        "    grads = tape.gradient(current_loss, self.variables)\n",
        "    optimizer.apply_gradients(zip(grads, self.variables))\n",
        "        \n",
        "        \n",
        "  def compute_output(self, X):\n",
        "    \"\"\"\n",
        "    Custom method to obtain output tensor during forward pass\n",
        "    \"\"\"\n",
        "    # Cast X to float32\n",
        "    X_tf = tf.cast(X, dtype=tf.float32)\n",
        "    #Remember to normalize your dataset before moving forward\n",
        "    # Compute values in hidden layer1\n",
        "    what1 = tf.matmul(X_tf, self.W1) + self.b1\n",
        "    hhat1 = tf.nn.relu(what1)\n",
        "    # Compute values in hidden layer2\n",
        "    what2 = tf.matmul(hhat1, self.W2) + self.b2\n",
        "    hhat2 = tf.nn.relu(what2)\n",
        "    # Compute output\n",
        "    output = tf.matmul(hhat2, self.W3) + self.b3\n",
        "    #Now consider two things , First look at inbuild loss functions if they work with softmax or not and then change this\n",
        "    #Second add tf.Softmax(output) and then return this variable\n",
        "    return output"
      ],
      "execution_count": null,
      "outputs": []
    },
    {
      "cell_type": "code",
      "metadata": {
        "colab": {
          "base_uri": "https://localhost:8080/"
        },
        "outputId": "a59c4792-70fb-4598-db09-6b073824c006",
        "id": "W4AXZbzAFYHK"
      },
      "source": [
        "#Default mode\n",
        "mlp_on_default = MLP(size_input, size_hidden, size_output)\n",
        "\n",
        "time_start = time.time()\n",
        "for epoch in range(NUM_EPOCHS):\n",
        "  loss_total_gpu = tf.zeros([1,1], dtype=tf.float32)\n",
        "  lt = 0\n",
        "  accuracy_a = tf.zeros([], dtype=tf.float32) #tensor for accumulating accuracy\n",
        "  train_ds = tf.data.Dataset.from_tensor_slices((x_train, y_train)).shuffle(25, seed=epoch*(5997)).batch(20)\n",
        "  for inputs, outputs in train_ds:\n",
        "    preds = mlp_on_default.forward(inputs)\n",
        "    pred = tf.nn.softmax(preds)\n",
        "\n",
        "\n",
        "    outputs = tf.cast(tf.reshape(outputs, (-1,10)), dtype=tf.float32)\n",
        "    pred = tf.cast(pred, dtype=tf.float32)\n",
        "\n",
        "    correct_prediction = tf.equal(tf.argmax(outputs, 1), tf.argmax(pred, 1))\n",
        "    # Calculate accuracy\n",
        "    accuracy = tf.reduce_mean(tf.cast(correct_prediction, \"float\"))\n",
        "\n",
        "\n",
        "\n",
        "    accuracy_a = accuracy_a + accuracy\n",
        "    loss_total_gpu = loss_total_gpu + mlp_on_default.loss(preds, outputs)\n",
        "    lt = lt + mlp_on_default.loss(preds, outputs)\n",
        "    mlp_on_default.backward(inputs, outputs)\n",
        "  print('Number of Epoch = {} - Categorical Cross-Entropy:= {}'.format(epoch + 1, np.sum(loss_total_gpu) / x_train.shape[0]))\n",
        "  print('Number of Epoch = {} - Accuracy:= {}'.format(epoch + 1, (np.sum(accuracy_a) / x_train.shape[0])*100))\n",
        "time_taken = time.time() - time_start\n",
        "\n",
        "print('\\nTotal time taken (in seconds): {:.2f}'.format(time_taken))"
      ],
      "execution_count": null,
      "outputs": [
        {
          "output_type": "stream",
          "name": "stdout",
          "text": [
            "Number of Epoch = 1 - Categorical Cross-Entropy:= 0.30573391544117645\n",
            "Number of Epoch = 1 - Accuracy:= 0.4708428390887605\n",
            "Number of Epoch = 2 - Categorical Cross-Entropy:= 0.25576692161239495\n",
            "Number of Epoch = 2 - Accuracy:= 0.5183211126247373\n",
            "Number of Epoch = 3 - Categorical Cross-Entropy:= 0.2125008862920168\n",
            "Number of Epoch = 3 - Accuracy:= 0.5553782743566177\n",
            "Number of Epoch = 4 - Categorical Cross-Entropy:= 0.18682595850840336\n",
            "Number of Epoch = 4 - Accuracy:= 0.5611766654904149\n",
            "Number of Epoch = 5 - Categorical Cross-Entropy:= 0.17022198332457983\n",
            "Number of Epoch = 5 - Accuracy:= 0.570252234194459\n",
            "Number of Epoch = 6 - Categorical Cross-Entropy:= 0.15364607405462186\n",
            "Number of Epoch = 6 - Accuracy:= 0.5889914632845326\n",
            "Number of Epoch = 7 - Categorical Cross-Entropy:= 0.1418840762867647\n",
            "Number of Epoch = 7 - Accuracy:= 0.6093281721868434\n",
            "Number of Epoch = 8 - Categorical Cross-Entropy:= 0.1343160287552521\n",
            "Number of Epoch = 8 - Accuracy:= 0.6256299443605567\n",
            "Number of Epoch = 9 - Categorical Cross-Entropy:= 0.12881384585084033\n",
            "Number of Epoch = 9 - Accuracy:= 0.6437807740283613\n",
            "Number of Epoch = 10 - Categorical Cross-Entropy:= 0.12338097426470589\n",
            "Number of Epoch = 10 - Accuracy:= 0.6678145721179096\n",
            "\n",
            "Total time taken (in seconds): 754.27\n"
          ]
        }
      ]
    },
    {
      "cell_type": "code",
      "source": [
        "test_loss_total = tf.Variable(0, dtype=tf.float32)\n",
        "accuracy_a = tf.zeros([], dtype=tf.float32)\n",
        "#test_loss_total = 0.0\n",
        "for inputs, outputs in test_ds:\n",
        "  preds = mlp_on_default.forward(inputs)\n",
        "\n",
        "  pred = tf.nn.softmax(preds)  # Apply softmax to logits\n",
        "  outputs = tf.cast(tf.reshape(outputs, (-1,10)), dtype=tf.float32)\n",
        "  pred = tf.cast(pred, dtype=tf.float32)\n",
        "\n",
        "  correct_prediction = tf.equal(tf.argmax(outputs, 1), tf.argmax(pred, 1))\n",
        "  # Calculate accuracy\n",
        "  accuracy = tf.reduce_mean(tf.cast(correct_prediction, \"float\"))\n",
        "  accuracy_a = accuracy_a + accuracy\n",
        "  #b = mlp_on_default.loss(preds, outputs)\n",
        "  test_loss_total = test_loss_total + mlp_on_default.loss(preds, outputs)\n",
        "# a = (test_loss_total.numpy() / X_train.shape[0])\n",
        "# print(X_train.shape[0])\n",
        "# print(test_loss_total.numpy())\n",
        "# print(b)\n",
        "print('Test Categorical_Cross-Entropy: {:.4f}'.format(np.sum(test_loss_total.numpy()) / x_train.shape[0]))\n",
        "print('Test Accuracy: {:.4f}'.format((np.sum(accuracy_a) / x_train.shape[0])*100))"
      ],
      "metadata": {
        "colab": {
          "base_uri": "https://localhost:8080/"
        },
        "outputId": "bb16a39c-00bd-43f7-d370-29e1440a99b9",
        "id": "pcMefsXlFYHK"
      },
      "execution_count": null,
      "outputs": [
        {
          "output_type": "stream",
          "name": "stdout",
          "text": [
            "Test Categorical_Cross-Entropy: 0.1070\n",
            "Test Accuracy: 0.5895\n"
          ]
        }
      ]
    },
    {
      "cell_type": "markdown",
      "source": [
        "## Batch Size = 256"
      ],
      "metadata": {
        "id": "Nzbfp7U2-8p6"
      }
    },
    {
      "cell_type": "code",
      "metadata": {
        "id": "iVC9BWt_Fqfk"
      },
      "source": [
        "# Define class to build mlp model\n",
        "class MLP(object):\n",
        "  def __init__(self, size_input, size_hidden, size_output, device=None):\n",
        "    \"\"\"\n",
        "    size_input: int, size of input layer\n",
        "    size_hidden: int, size of hidden layer\n",
        "    size_output: int, size of output layer\n",
        "    device: str or None, either 'cpu' or 'gpu' or None. If None, the device to be used will be decided automatically during Eager Execution\n",
        "    \"\"\"\n",
        "    self.size_input, self.size_hidden, self.size_output, self.device =\\\n",
        "    size_input, size_hidden, size_output, device\n",
        "    \n",
        "    # Initialize weights between input layer and hidden layer-1\n",
        "    self.W1 = tf.Variable(tf.random.normal([self.size_input, self.size_hidden[0]]))\n",
        "    # Initialize biases for hidden layer-1\n",
        "    self.b1 = tf.Variable(tf.random.normal([1, self.size_hidden[0]]))\n",
        "\n",
        "    # Initialize weights between hidden layer-1 and hidden layer-2\n",
        "    self.W2 = tf.Variable(tf.random.normal([self.size_hidden[0], self.size_hidden[1]]))\n",
        "    # Initialize biases for hidden layer-1\n",
        "    self.b2 = tf.Variable(tf.random.normal([1, self.size_hidden[1]]))\n",
        "\n",
        "     # Initialize weights between hidden layer and output layer\n",
        "    self.W3 = tf.Variable(tf.random.normal([self.size_hidden[1], self.size_output]))\n",
        "    # Initialize biases for output layer\n",
        "    self.b3 = tf.Variable(tf.random.normal([1, self.size_output]))\n",
        "    \n",
        "    # Define variables to be updated during backpropagation\n",
        "    self.variables = [self.W1, self.W2, self.W3, self.b1, self.b2, self.b3]\n",
        "    \n",
        "    \n",
        "  def forward(self, X):\n",
        "    \"\"\"\n",
        "    forward pass\n",
        "    X: Tensor, inputs\n",
        "    \"\"\"\n",
        "    if self.device is not None:\n",
        "      with tf.device('gpu:0' if self.device=='gpu' else 'cpu'):\n",
        "        self.y = self.compute_output(X)\n",
        "    else:\n",
        "      self.y = self.compute_output(X)\n",
        "      \n",
        "    return self.y\n",
        "  \n",
        "  def loss(self, y_pred, y_true):\n",
        "    '''\n",
        "    y_pred - Tensor of shape (batch_size, size_output)\n",
        "    y_true - Tensor of shape (batch_size, size_output)\n",
        "    '''\n",
        "    y_true_tf = tf.cast(tf.reshape(y_true, (-1, self.size_output)), dtype=tf.float32)\n",
        "    y_pred_tf = tf.cast(y_pred, dtype=tf.float32)\n",
        "    return tf.keras.losses.CategoricalCrossentropy()(y_true_tf, y_pred_tf)\n",
        "  \n",
        "  def backward(self, X_train, y_train):\n",
        "    \"\"\"\n",
        "    backward pass\n",
        "    \"\"\"\n",
        "    optimizer = tf.keras.optimizers.SGD(learning_rate=1e-4)\n",
        "    with tf.GradientTape() as tape:\n",
        "      predicted = self.forward(X_train)\n",
        "      current_loss = self.loss(predicted, y_train)\n",
        "    grads = tape.gradient(current_loss, self.variables)\n",
        "    optimizer.apply_gradients(zip(grads, self.variables))\n",
        "        \n",
        "        \n",
        "  def compute_output(self, X):\n",
        "    \"\"\"\n",
        "    Custom method to obtain output tensor during forward pass\n",
        "    \"\"\"\n",
        "    # Cast X to float32\n",
        "    X_tf = tf.cast(X, dtype=tf.float32)\n",
        "    #Remember to normalize your dataset before moving forward\n",
        "    # Compute values in hidden layer1\n",
        "    what1 = tf.matmul(X_tf, self.W1) + self.b1\n",
        "    hhat1 = tf.nn.relu(what1)\n",
        "    # Compute values in hidden layer2\n",
        "    what2 = tf.matmul(hhat1, self.W2) + self.b2\n",
        "    hhat2 = tf.nn.relu(what2)\n",
        "    # Compute output\n",
        "    output = tf.matmul(hhat2, self.W3) + self.b3\n",
        "    #Now consider two things , First look at inbuild loss functions if they work with softmax or not and then change this\n",
        "    #Second add tf.Softmax(output) and then return this variable\n",
        "    return output"
      ],
      "execution_count": null,
      "outputs": []
    },
    {
      "cell_type": "code",
      "metadata": {
        "colab": {
          "base_uri": "https://localhost:8080/"
        },
        "outputId": "a6a49e69-a313-432b-ec94-8d3722ad8f26",
        "id": "7YeVvxetFqfl"
      },
      "source": [
        "#Default mode\n",
        "mlp_on_default = MLP(size_input, size_hidden, size_output)\n",
        "\n",
        "time_start = time.time()\n",
        "for epoch in range(NUM_EPOCHS):\n",
        "  loss_total_gpu = tf.zeros([1,1], dtype=tf.float32)\n",
        "  lt = 0\n",
        "  accuracy_a = tf.zeros([], dtype=tf.float32) #tensor for accumulating accuracy\n",
        "  train_ds = tf.data.Dataset.from_tensor_slices((x_train, y_train)).shuffle(25, seed=epoch*(5997)).batch(256)\n",
        "  for inputs, outputs in train_ds:\n",
        "    preds = mlp_on_default.forward(inputs)\n",
        "    pred = tf.nn.softmax(preds)\n",
        "\n",
        "\n",
        "    outputs = tf.cast(tf.reshape(outputs, (-1,10)), dtype=tf.float32)\n",
        "    pred = tf.cast(pred, dtype=tf.float32)\n",
        "\n",
        "    correct_prediction = tf.equal(tf.argmax(outputs, 1), tf.argmax(pred, 1))\n",
        "    # Calculate accuracy\n",
        "    accuracy = tf.reduce_mean(tf.cast(correct_prediction, \"float\"))\n",
        "\n",
        "\n",
        "\n",
        "    accuracy_a = accuracy_a + accuracy\n",
        "    loss_total_gpu = loss_total_gpu + mlp_on_default.loss(preds, outputs)\n",
        "    lt = lt + mlp_on_default.loss(preds, outputs)\n",
        "    mlp_on_default.backward(inputs, outputs)\n",
        "  print('Number of Epoch = {} - Categorical Cross-Entropy:= {}'.format(epoch + 1, np.sum(loss_total_gpu) / x_train.shape[0]))\n",
        "  print('Number of Epoch = {} - Accuracy:= {}'.format(epoch + 1, (np.sum(accuracy_a) / x_train.shape[0])*100))\n",
        "time_taken = time.time() - time_start\n",
        "\n",
        "print('\\nTotal time taken (in seconds): {:.2f}'.format(time_taken))"
      ],
      "execution_count": null,
      "outputs": [
        {
          "output_type": "stream",
          "name": "stdout",
          "text": [
            "Number of Epoch = 1 - Categorical Cross-Entropy:= 0.029556712431066178\n",
            "Number of Epoch = 1 - Accuracy:= 0.04359851484539128\n",
            "Number of Epoch = 2 - Categorical Cross-Entropy:= 0.029474002100840335\n",
            "Number of Epoch = 2 - Accuracy:= 0.043638636484867384\n",
            "Number of Epoch = 3 - Categorical Cross-Entropy:= 0.029408348788734245\n",
            "Number of Epoch = 3 - Accuracy:= 0.04367972942961364\n",
            "Number of Epoch = 4 - Categorical Cross-Entropy:= 0.02934698127297794\n",
            "Number of Epoch = 4 - Accuracy:= 0.043690426610097165\n",
            "Number of Epoch = 5 - Categorical Cross-Entropy:= 0.02930344012605042\n",
            "Number of Epoch = 5 - Accuracy:= 0.043712555059865744\n",
            "Number of Epoch = 6 - Categorical Cross-Entropy:= 0.029254142184217437\n",
            "Number of Epoch = 6 - Accuracy:= 0.043701854673754266\n",
            "Number of Epoch = 7 - Categorical Cross-Entropy:= 0.02919454725249475\n",
            "Number of Epoch = 7 - Accuracy:= 0.043716687114298845\n",
            "Number of Epoch = 8 - Categorical Cross-Entropy:= 0.029116766921612396\n",
            "Number of Epoch = 8 - Accuracy:= 0.043716687114298845\n",
            "Number of Epoch = 9 - Categorical Cross-Entropy:= 0.029056341091123948\n",
            "Number of Epoch = 9 - Accuracy:= 0.043696991736147585\n",
            "Number of Epoch = 10 - Categorical Cross-Entropy:= 0.029008311039259455\n",
            "Number of Epoch = 10 - Accuracy:= 0.043714984925855106\n",
            "\n",
            "Total time taken (in seconds): 53.64\n"
          ]
        }
      ]
    },
    {
      "cell_type": "code",
      "source": [
        "test_loss_total = tf.Variable(0, dtype=tf.float32)\n",
        "accuracy_a = tf.zeros([], dtype=tf.float32)\n",
        "#test_loss_total = 0.0\n",
        "for inputs, outputs in test_ds:\n",
        "  preds = mlp_on_default.forward(inputs)\n",
        "\n",
        "  pred = tf.nn.softmax(preds)  # Apply softmax to logits\n",
        "  outputs = tf.cast(tf.reshape(outputs, (-1,10)), dtype=tf.float32)\n",
        "  pred = tf.cast(pred, dtype=tf.float32)\n",
        "\n",
        "  correct_prediction = tf.equal(tf.argmax(outputs, 1), tf.argmax(pred, 1))\n",
        "  # Calculate accuracy\n",
        "  accuracy = tf.reduce_mean(tf.cast(correct_prediction, \"float\"))\n",
        "  accuracy_a = accuracy_a + accuracy\n",
        "  #b = mlp_on_default.loss(preds, outputs)\n",
        "  test_loss_total = test_loss_total + mlp_on_default.loss(preds, outputs)\n",
        "# a = (test_loss_total.numpy() / X_train.shape[0])\n",
        "# print(X_train.shape[0])\n",
        "# print(test_loss_total.numpy())\n",
        "# print(b)\n",
        "print('Test Categorical_Cross-Entropy: {:.4f}'.format(np.sum(test_loss_total.numpy()) / x_train.shape[0]))\n",
        "print('Test Accuracy: {:.4f}'.format((np.sum(accuracy_a) / x_train.shape[0])*100))"
      ],
      "metadata": {
        "colab": {
          "base_uri": "https://localhost:8080/"
        },
        "outputId": "7e2dedcb-3ca7-4231-9d2b-c014c9e01284",
        "id": "tpj2WW7dFqfm"
      },
      "execution_count": null,
      "outputs": [
        {
          "output_type": "stream",
          "name": "stdout",
          "text": [
            "Test Categorical_Cross-Entropy: 0.3290\n",
            "Test Accuracy: 0.5038\n"
          ]
        }
      ]
    },
    {
      "cell_type": "code",
      "source": [
        ""
      ],
      "metadata": {
        "id": "CVofaVi80hML"
      },
      "execution_count": null,
      "outputs": []
    },
    {
      "cell_type": "markdown",
      "source": [
        "# Case 8\n",
        "\n",
        "Hyper Parameter Optimization for Optimizers - AdaM instead of SGD using Trial and Error"
      ],
      "metadata": {
        "id": "LborlVe00-qk"
      }
    },
    {
      "cell_type": "markdown",
      "source": [
        "## SGD"
      ],
      "metadata": {
        "id": "htFa83I7ILbm"
      }
    },
    {
      "cell_type": "code",
      "metadata": {
        "id": "EFZvDkAVIUOi"
      },
      "source": [
        "# Define class to build mlp model\n",
        "class MLP(object):\n",
        "  def __init__(self, size_input, size_hidden, size_output, device=None):\n",
        "    \"\"\"\n",
        "    size_input: int, size of input layer\n",
        "    size_hidden: int, size of hidden layer\n",
        "    size_output: int, size of output layer\n",
        "    device: str or None, either 'cpu' or 'gpu' or None. If None, the device to be used will be decided automatically during Eager Execution\n",
        "    \"\"\"\n",
        "    self.size_input, self.size_hidden, self.size_output, self.device =\\\n",
        "    size_input, size_hidden, size_output, device\n",
        "    \n",
        "    # Initialize weights between input layer and hidden layer-1\n",
        "    self.W1 = tf.Variable(tf.random.normal([self.size_input, self.size_hidden[0]]))\n",
        "    # Initialize biases for hidden layer-1\n",
        "    self.b1 = tf.Variable(tf.random.normal([1, self.size_hidden[0]]))\n",
        "\n",
        "    # Initialize weights between hidden layer-1 and hidden layer-2\n",
        "    self.W2 = tf.Variable(tf.random.normal([self.size_hidden[0], self.size_hidden[1]]))\n",
        "    # Initialize biases for hidden layer-1\n",
        "    self.b2 = tf.Variable(tf.random.normal([1, self.size_hidden[1]]))\n",
        "\n",
        "     # Initialize weights between hidden layer and output layer\n",
        "    self.W3 = tf.Variable(tf.random.normal([self.size_hidden[1], self.size_output]))\n",
        "    # Initialize biases for output layer\n",
        "    self.b3 = tf.Variable(tf.random.normal([1, self.size_output]))\n",
        "    \n",
        "    # Define variables to be updated during backpropagation\n",
        "    self.variables = [self.W1, self.W2, self.W3, self.b1, self.b2, self.b3]\n",
        "    \n",
        "    \n",
        "  def forward(self, X):\n",
        "    \"\"\"\n",
        "    forward pass\n",
        "    X: Tensor, inputs\n",
        "    \"\"\"\n",
        "    if self.device is not None:\n",
        "      with tf.device('gpu:0' if self.device=='gpu' else 'cpu'):\n",
        "        self.y = self.compute_output(X)\n",
        "    else:\n",
        "      self.y = self.compute_output(X)\n",
        "      \n",
        "    return self.y\n",
        "  \n",
        "  def loss(self, y_pred, y_true):\n",
        "    '''\n",
        "    y_pred - Tensor of shape (batch_size, size_output)\n",
        "    y_true - Tensor of shape (batch_size, size_output)\n",
        "    '''\n",
        "    y_true_tf = tf.cast(tf.reshape(y_true, (-1, self.size_output)), dtype=tf.float32)\n",
        "    y_pred_tf = tf.cast(y_pred, dtype=tf.float32)\n",
        "    return tf.keras.losses.CategoricalCrossentropy()(y_true_tf, y_pred_tf)\n",
        "  \n",
        "  def backward(self, X_train, y_train):\n",
        "    \"\"\"\n",
        "    backward pass\n",
        "    \"\"\"\n",
        "    optimizer = tf.keras.optimizers.SGD(learning_rate=1e-4)\n",
        "    with tf.GradientTape() as tape:\n",
        "      predicted = self.forward(X_train)\n",
        "      current_loss = self.loss(predicted, y_train)\n",
        "    grads = tape.gradient(current_loss, self.variables)\n",
        "    optimizer.apply_gradients(zip(grads, self.variables))\n",
        "        \n",
        "        \n",
        "  def compute_output(self, X):\n",
        "    \"\"\"\n",
        "    Custom method to obtain output tensor during forward pass\n",
        "    \"\"\"\n",
        "    # Cast X to float32\n",
        "    X_tf = tf.cast(X, dtype=tf.float32)\n",
        "    #Remember to normalize your dataset before moving forward\n",
        "    # Compute values in hidden layer1\n",
        "    what1 = tf.matmul(X_tf, self.W1) + self.b1\n",
        "    hhat1 = tf.nn.relu(what1)\n",
        "    # Compute values in hidden layer2\n",
        "    what2 = tf.matmul(hhat1, self.W2) + self.b2\n",
        "    hhat2 = tf.nn.relu(what2)\n",
        "    # Compute output\n",
        "    output = tf.matmul(hhat2, self.W3) + self.b3\n",
        "    #Now consider two things , First look at inbuild loss functions if they work with softmax or not and then change this\n",
        "    #Second add tf.Softmax(output) and then return this variable\n",
        "    return output"
      ],
      "execution_count": null,
      "outputs": []
    },
    {
      "cell_type": "code",
      "metadata": {
        "colab": {
          "base_uri": "https://localhost:8080/"
        },
        "outputId": "a59c4792-70fb-4598-db09-6b073824c006",
        "id": "8v8ukk9RIUOk"
      },
      "source": [
        "#Default mode\n",
        "mlp_on_default = MLP(size_input, size_hidden, size_output)\n",
        "\n",
        "time_start = time.time()\n",
        "for epoch in range(NUM_EPOCHS):\n",
        "  loss_total_gpu = tf.zeros([1,1], dtype=tf.float32)\n",
        "  lt = 0\n",
        "  accuracy_a = tf.zeros([], dtype=tf.float32) #tensor for accumulating accuracy\n",
        "  train_ds = tf.data.Dataset.from_tensor_slices((x_train, y_train)).shuffle(25, seed=epoch*(5997)).batch(20)\n",
        "  for inputs, outputs in train_ds:\n",
        "    preds = mlp_on_default.forward(inputs)\n",
        "    pred = tf.nn.softmax(preds)\n",
        "\n",
        "\n",
        "    outputs = tf.cast(tf.reshape(outputs, (-1,10)), dtype=tf.float32)\n",
        "    pred = tf.cast(pred, dtype=tf.float32)\n",
        "\n",
        "    correct_prediction = tf.equal(tf.argmax(outputs, 1), tf.argmax(pred, 1))\n",
        "    # Calculate accuracy\n",
        "    accuracy = tf.reduce_mean(tf.cast(correct_prediction, \"float\"))\n",
        "\n",
        "\n",
        "\n",
        "    accuracy_a = accuracy_a + accuracy\n",
        "    loss_total_gpu = loss_total_gpu + mlp_on_default.loss(preds, outputs)\n",
        "    lt = lt + mlp_on_default.loss(preds, outputs)\n",
        "    mlp_on_default.backward(inputs, outputs)\n",
        "  print('Number of Epoch = {} - Categorical Cross-Entropy:= {}'.format(epoch + 1, np.sum(loss_total_gpu) / x_train.shape[0]))\n",
        "  print('Number of Epoch = {} - Accuracy:= {}'.format(epoch + 1, (np.sum(accuracy_a) / x_train.shape[0])*100))\n",
        "time_taken = time.time() - time_start\n",
        "\n",
        "print('\\nTotal time taken (in seconds): {:.2f}'.format(time_taken))"
      ],
      "execution_count": null,
      "outputs": [
        {
          "output_type": "stream",
          "name": "stdout",
          "text": [
            "Number of Epoch = 1 - Categorical Cross-Entropy:= 0.30573391544117645\n",
            "Number of Epoch = 1 - Accuracy:= 0.4708428390887605\n",
            "Number of Epoch = 2 - Categorical Cross-Entropy:= 0.25576692161239495\n",
            "Number of Epoch = 2 - Accuracy:= 0.5183211126247373\n",
            "Number of Epoch = 3 - Categorical Cross-Entropy:= 0.2125008862920168\n",
            "Number of Epoch = 3 - Accuracy:= 0.5553782743566177\n",
            "Number of Epoch = 4 - Categorical Cross-Entropy:= 0.18682595850840336\n",
            "Number of Epoch = 4 - Accuracy:= 0.5611766654904149\n",
            "Number of Epoch = 5 - Categorical Cross-Entropy:= 0.17022198332457983\n",
            "Number of Epoch = 5 - Accuracy:= 0.570252234194459\n",
            "Number of Epoch = 6 - Categorical Cross-Entropy:= 0.15364607405462186\n",
            "Number of Epoch = 6 - Accuracy:= 0.5889914632845326\n",
            "Number of Epoch = 7 - Categorical Cross-Entropy:= 0.1418840762867647\n",
            "Number of Epoch = 7 - Accuracy:= 0.6093281721868434\n",
            "Number of Epoch = 8 - Categorical Cross-Entropy:= 0.1343160287552521\n",
            "Number of Epoch = 8 - Accuracy:= 0.6256299443605567\n",
            "Number of Epoch = 9 - Categorical Cross-Entropy:= 0.12881384585084033\n",
            "Number of Epoch = 9 - Accuracy:= 0.6437807740283613\n",
            "Number of Epoch = 10 - Categorical Cross-Entropy:= 0.12338097426470589\n",
            "Number of Epoch = 10 - Accuracy:= 0.6678145721179096\n",
            "\n",
            "Total time taken (in seconds): 754.27\n"
          ]
        }
      ]
    },
    {
      "cell_type": "code",
      "source": [
        "test_loss_total = tf.Variable(0, dtype=tf.float32)\n",
        "accuracy_a = tf.zeros([], dtype=tf.float32)\n",
        "#test_loss_total = 0.0\n",
        "for inputs, outputs in test_ds:\n",
        "  preds = mlp_on_default.forward(inputs)\n",
        "\n",
        "  pred = tf.nn.softmax(preds)  # Apply softmax to logits\n",
        "  outputs = tf.cast(tf.reshape(outputs, (-1,10)), dtype=tf.float32)\n",
        "  pred = tf.cast(pred, dtype=tf.float32)\n",
        "\n",
        "  correct_prediction = tf.equal(tf.argmax(outputs, 1), tf.argmax(pred, 1))\n",
        "  # Calculate accuracy\n",
        "  accuracy = tf.reduce_mean(tf.cast(correct_prediction, \"float\"))\n",
        "  accuracy_a = accuracy_a + accuracy\n",
        "  #b = mlp_on_default.loss(preds, outputs)\n",
        "  test_loss_total = test_loss_total + mlp_on_default.loss(preds, outputs)\n",
        "# a = (test_loss_total.numpy() / X_train.shape[0])\n",
        "# print(X_train.shape[0])\n",
        "# print(test_loss_total.numpy())\n",
        "# print(b)\n",
        "print('Test Categorical_Cross-Entropy: {:.4f}'.format(np.sum(test_loss_total.numpy()) / x_train.shape[0]))\n",
        "print('Test Accuracy: {:.4f}'.format((np.sum(accuracy_a) / x_train.shape[0])*100))"
      ],
      "metadata": {
        "colab": {
          "base_uri": "https://localhost:8080/"
        },
        "outputId": "bb16a39c-00bd-43f7-d370-29e1440a99b9",
        "id": "NBPs7E1GIUOk"
      },
      "execution_count": null,
      "outputs": [
        {
          "output_type": "stream",
          "name": "stdout",
          "text": [
            "Test Categorical_Cross-Entropy: 0.1070\n",
            "Test Accuracy: 0.5895\n"
          ]
        }
      ]
    },
    {
      "cell_type": "markdown",
      "source": [
        "## Adam"
      ],
      "metadata": {
        "id": "eWZw4_KOIZMq"
      }
    },
    {
      "cell_type": "code",
      "metadata": {
        "id": "-5RWOrdvIayW"
      },
      "source": [
        "# Define class to build mlp model\n",
        "class MLP(object):\n",
        "  def __init__(self, size_input, size_hidden, size_output, device=None):\n",
        "    \"\"\"\n",
        "    size_input: int, size of input layer\n",
        "    size_hidden: int, size of hidden layer\n",
        "    size_output: int, size of output layer\n",
        "    device: str or None, either 'cpu' or 'gpu' or None. If None, the device to be used will be decided automatically during Eager Execution\n",
        "    \"\"\"\n",
        "    self.size_input, self.size_hidden, self.size_output, self.device =\\\n",
        "    size_input, size_hidden, size_output, device\n",
        "    \n",
        "    # Initialize weights between input layer and hidden layer-1\n",
        "    self.W1 = tf.Variable(tf.random.normal([self.size_input, self.size_hidden[0]]))\n",
        "    # Initialize biases for hidden layer-1\n",
        "    self.b1 = tf.Variable(tf.random.normal([1, self.size_hidden[0]]))\n",
        "\n",
        "    # Initialize weights between hidden layer-1 and hidden layer-2\n",
        "    self.W2 = tf.Variable(tf.random.normal([self.size_hidden[0], self.size_hidden[1]]))\n",
        "    # Initialize biases for hidden layer-1\n",
        "    self.b2 = tf.Variable(tf.random.normal([1, self.size_hidden[1]]))\n",
        "\n",
        "     # Initialize weights between hidden layer and output layer\n",
        "    self.W3 = tf.Variable(tf.random.normal([self.size_hidden[1], self.size_output]))\n",
        "    # Initialize biases for output layer\n",
        "    self.b3 = tf.Variable(tf.random.normal([1, self.size_output]))\n",
        "    \n",
        "    # Define variables to be updated during backpropagation\n",
        "    self.variables = [self.W1, self.W2, self.W3, self.b1, self.b2, self.b3]\n",
        "    \n",
        "    \n",
        "  def forward(self, X):\n",
        "    \"\"\"\n",
        "    forward pass\n",
        "    X: Tensor, inputs\n",
        "    \"\"\"\n",
        "    if self.device is not None:\n",
        "      with tf.device('gpu:0' if self.device=='gpu' else 'cpu'):\n",
        "        self.y = self.compute_output(X)\n",
        "    else:\n",
        "      self.y = self.compute_output(X)\n",
        "      \n",
        "    return self.y\n",
        "  \n",
        "  def loss(self, y_pred, y_true):\n",
        "    '''\n",
        "    y_pred - Tensor of shape (batch_size, size_output)\n",
        "    y_true - Tensor of shape (batch_size, size_output)\n",
        "    '''\n",
        "    y_true_tf = tf.cast(tf.reshape(y_true, (-1, self.size_output)), dtype=tf.float32)\n",
        "    y_pred_tf = tf.cast(y_pred, dtype=tf.float32)\n",
        "    return tf.keras.losses.CategoricalCrossentropy()(y_true_tf, y_pred_tf)\n",
        "  \n",
        "  def backward(self, X_train, y_train):\n",
        "    \"\"\"\n",
        "    backward pass\n",
        "    \"\"\"\n",
        "    optimizer = tf.keras.optimizers.Adam(learning_rate=1e-4)\n",
        "    with tf.GradientTape() as tape:\n",
        "      predicted = self.forward(X_train)\n",
        "      current_loss = self.loss(predicted, y_train)\n",
        "    grads = tape.gradient(current_loss, self.variables)\n",
        "    optimizer.apply_gradients(zip(grads, self.variables))\n",
        "        \n",
        "        \n",
        "  def compute_output(self, X):\n",
        "    \"\"\"\n",
        "    Custom method to obtain output tensor during forward pass\n",
        "    \"\"\"\n",
        "    # Cast X to float32\n",
        "    X_tf = tf.cast(X, dtype=tf.float32)\n",
        "    #Remember to normalize your dataset before moving forward\n",
        "    # Compute values in hidden layer1\n",
        "    what1 = tf.matmul(X_tf, self.W1) + self.b1\n",
        "    hhat1 = tf.nn.relu(what1)\n",
        "    # Compute values in hidden layer2\n",
        "    what2 = tf.matmul(hhat1, self.W2) + self.b2\n",
        "    hhat2 = tf.nn.relu(what2)\n",
        "    # Compute output\n",
        "    output = tf.matmul(hhat2, self.W3) + self.b3\n",
        "    #Now consider two things , First look at inbuild loss functions if they work with softmax or not and then change this\n",
        "    #Second add tf.Softmax(output) and then return this variable\n",
        "    return output"
      ],
      "execution_count": null,
      "outputs": []
    },
    {
      "cell_type": "code",
      "metadata": {
        "colab": {
          "base_uri": "https://localhost:8080/"
        },
        "outputId": "25a4a6f3-290f-4224-dfce-3fd9f26055fe",
        "id": "kYDIepUFIayc"
      },
      "source": [
        "#Default mode\n",
        "mlp_on_default = MLP(size_input, size_hidden, size_output)\n",
        "\n",
        "time_start = time.time()\n",
        "for epoch in range(NUM_EPOCHS):\n",
        "  loss_total_gpu = tf.zeros([1,1], dtype=tf.float32)\n",
        "  lt = 0\n",
        "  accuracy_a = tf.zeros([], dtype=tf.float32) #tensor for accumulating accuracy\n",
        "  train_ds = tf.data.Dataset.from_tensor_slices((x_train, y_train)).shuffle(25, seed=epoch*(5997)).batch(20)\n",
        "  for inputs, outputs in train_ds:\n",
        "    preds = mlp_on_default.forward(inputs)\n",
        "    pred = preds\n",
        "\n",
        "\n",
        "    outputs = tf.cast(tf.reshape(outputs, (-1,10)), dtype=tf.float32)\n",
        "    pred = tf.cast(pred, dtype=tf.float32)\n",
        "\n",
        "    correct_prediction = tf.equal(tf.argmax(outputs, 1), tf.argmax(pred, 1))\n",
        "    # Calculate accuracy\n",
        "    accuracy = tf.reduce_mean(tf.cast(correct_prediction, \"float\"))\n",
        "\n",
        "\n",
        "\n",
        "    accuracy_a = accuracy_a + accuracy\n",
        "    loss_total_gpu = loss_total_gpu + mlp_on_default.loss(preds, outputs)\n",
        "    lt = lt + mlp_on_default.loss(preds, outputs)\n",
        "    mlp_on_default.backward(inputs, outputs)\n",
        "  print('Number of Epoch = {} - Categorical Cross-Entropy:= {}'.format(epoch + 1, np.sum(loss_total_gpu) / x_train.shape[0]))\n",
        "  print('Number of Epoch = {} - Accuracy:= {}'.format(epoch + 1, (np.sum(accuracy_a) / x_train.shape[0])*100))\n",
        "time_taken = time.time() - time_start\n",
        "\n",
        "print('\\nTotal time taken (in seconds): {:.2f}'.format(time_taken))"
      ],
      "execution_count": null,
      "outputs": [
        {
          "output_type": "stream",
          "name": "stdout",
          "text": [
            "Number of Epoch = 1 - Categorical Cross-Entropy:= 0.028099601168592437\n",
            "Number of Epoch = 1 - Accuracy:= 0.6108154168649882\n",
            "Number of Epoch = 2 - Categorical Cross-Entropy:= 0.031094342912946427\n",
            "Number of Epoch = 2 - Accuracy:= 0.6780083279649751\n",
            "Number of Epoch = 3 - Categorical Cross-Entropy:= 0.030274124786633404\n",
            "Number of Epoch = 3 - Accuracy:= 0.6624133326426274\n",
            "Number of Epoch = 4 - Categorical Cross-Entropy:= 0.02807934980632878\n",
            "Number of Epoch = 4 - Accuracy:= 0.6390323799197414\n",
            "Number of Epoch = 5 - Categorical Cross-Entropy:= 0.026592871914390755\n",
            "Number of Epoch = 5 - Accuracy:= 0.6783629986418396\n",
            "Number of Epoch = 6 - Categorical Cross-Entropy:= 0.02693370658810399\n",
            "Number of Epoch = 6 - Accuracy:= 0.7723327123818278\n",
            "Number of Epoch = 7 - Categorical Cross-Entropy:= 0.02939727834493172\n",
            "Number of Epoch = 7 - Accuracy:= 0.8076380240817029\n",
            "Number of Epoch = 8 - Categorical Cross-Entropy:= 0.030392910484506302\n",
            "Number of Epoch = 8 - Accuracy:= 0.8262172666918329\n",
            "Number of Epoch = 9 - Categorical Cross-Entropy:= 0.030839400603991596\n",
            "Number of Epoch = 9 - Accuracy:= 0.8470026865726759\n",
            "Number of Epoch = 10 - Categorical Cross-Entropy:= 0.03093117696297269\n",
            "Number of Epoch = 10 - Accuracy:= 0.8459735517742254\n",
            "\n",
            "Total time taken (in seconds): 178.70\n"
          ]
        }
      ]
    },
    {
      "cell_type": "code",
      "source": [
        "test_loss_total = tf.Variable(0, dtype=tf.float32)\n",
        "accuracy_a = tf.zeros([], dtype=tf.float32)\n",
        "#test_loss_total = 0.0\n",
        "for inputs, outputs in test_ds:\n",
        "  preds = mlp_on_default.forward(inputs)\n",
        "\n",
        "  pred = tf.nn.softmax(preds)  # Apply softmax to logits\n",
        "  outputs = tf.cast(tf.reshape(outputs, (-1,10)), dtype=tf.float32)\n",
        "  pred = tf.cast(pred, dtype=tf.float32)\n",
        "\n",
        "  correct_prediction = tf.equal(tf.argmax(outputs, 1), tf.argmax(pred, 1))\n",
        "  # Calculate accuracy\n",
        "  accuracy = tf.reduce_mean(tf.cast(correct_prediction, \"float\"))\n",
        "  accuracy_a = accuracy_a + accuracy\n",
        "  #b = mlp_on_default.loss(preds, outputs)\n",
        "  test_loss_total = test_loss_total + mlp_on_default.loss(preds, outputs)\n",
        "# a = (test_loss_total.numpy() / X_train.shape[0])\n",
        "# print(X_train.shape[0])\n",
        "# print(test_loss_total.numpy())\n",
        "# print(b)\n",
        "print('Test Categorical_Cross-Entropy: {:.4f}'.format(np.sum(test_loss_total.numpy()) / x_train.shape[0]))\n",
        "print('Test Accuracy: {:.4f}'.format((np.sum(accuracy_a) / x_train.shape[0])*100))"
      ],
      "metadata": {
        "id": "qKE-y4jiIayd"
      },
      "execution_count": null,
      "outputs": []
    },
    {
      "cell_type": "markdown",
      "source": [
        "# Case 9\n",
        "\n",
        "Hyper Parameter Optimization for Learning Rate using Trial and Error"
      ],
      "metadata": {
        "id": "tDKfi1a8K08I"
      }
    },
    {
      "cell_type": "markdown",
      "source": [
        "## 1e-4\n",
        "\n"
      ],
      "metadata": {
        "id": "HJYMHvAmJNSl"
      }
    },
    {
      "cell_type": "code",
      "metadata": {
        "id": "w1wypke1JcAR"
      },
      "source": [
        "# Define class to build mlp model\n",
        "class MLP(object):\n",
        "  def __init__(self, size_input, size_hidden, size_output, device=None):\n",
        "    \"\"\"\n",
        "    size_input: int, size of input layer\n",
        "    size_hidden: int, size of hidden layer\n",
        "    size_output: int, size of output layer\n",
        "    device: str or None, either 'cpu' or 'gpu' or None. If None, the device to be used will be decided automatically during Eager Execution\n",
        "    \"\"\"\n",
        "    self.size_input, self.size_hidden, self.size_output, self.device =\\\n",
        "    size_input, size_hidden, size_output, device\n",
        "    \n",
        "    # Initialize weights between input layer and hidden layer-1\n",
        "    self.W1 = tf.Variable(tf.random.normal([self.size_input, self.size_hidden[0]]))\n",
        "    # Initialize biases for hidden layer-1\n",
        "    self.b1 = tf.Variable(tf.random.normal([1, self.size_hidden[0]]))\n",
        "\n",
        "    # Initialize weights between hidden layer-1 and hidden layer-2\n",
        "    self.W2 = tf.Variable(tf.random.normal([self.size_hidden[0], self.size_hidden[1]]))\n",
        "    # Initialize biases for hidden layer-1\n",
        "    self.b2 = tf.Variable(tf.random.normal([1, self.size_hidden[1]]))\n",
        "\n",
        "     # Initialize weights between hidden layer and output layer\n",
        "    self.W3 = tf.Variable(tf.random.normal([self.size_hidden[1], self.size_output]))\n",
        "    # Initialize biases for output layer\n",
        "    self.b3 = tf.Variable(tf.random.normal([1, self.size_output]))\n",
        "    \n",
        "    # Define variables to be updated during backpropagation\n",
        "    self.variables = [self.W1, self.W2, self.W3, self.b1, self.b2, self.b3]\n",
        "    \n",
        "    \n",
        "  def forward(self, X):\n",
        "    \"\"\"\n",
        "    forward pass\n",
        "    X: Tensor, inputs\n",
        "    \"\"\"\n",
        "    if self.device is not None:\n",
        "      with tf.device('gpu:0' if self.device=='gpu' else 'cpu'):\n",
        "        self.y = self.compute_output(X)\n",
        "    else:\n",
        "      self.y = self.compute_output(X)\n",
        "      \n",
        "    return self.y\n",
        "  \n",
        "  def loss(self, y_pred, y_true):\n",
        "    '''\n",
        "    y_pred - Tensor of shape (batch_size, size_output)\n",
        "    y_true - Tensor of shape (batch_size, size_output)\n",
        "    '''\n",
        "    y_true_tf = tf.cast(tf.reshape(y_true, (-1, self.size_output)), dtype=tf.float32)\n",
        "    y_pred_tf = tf.cast(y_pred, dtype=tf.float32)\n",
        "    return tf.keras.losses.CategoricalCrossentropy()(y_true_tf, y_pred_tf)\n",
        "  \n",
        "  def backward(self, X_train, y_train):\n",
        "    \"\"\"\n",
        "    backward pass\n",
        "    \"\"\"\n",
        "    optimizer = tf.keras.optimizers.SGD(learning_rate=1e-4)\n",
        "    with tf.GradientTape() as tape:\n",
        "      predicted = self.forward(X_train)\n",
        "      current_loss = self.loss(predicted, y_train)\n",
        "    grads = tape.gradient(current_loss, self.variables)\n",
        "    optimizer.apply_gradients(zip(grads, self.variables))\n",
        "        \n",
        "        \n",
        "  def compute_output(self, X):\n",
        "    \"\"\"\n",
        "    Custom method to obtain output tensor during forward pass\n",
        "    \"\"\"\n",
        "    # Cast X to float32\n",
        "    X_tf = tf.cast(X, dtype=tf.float32)\n",
        "    #Remember to normalize your dataset before moving forward\n",
        "    # Compute values in hidden layer1\n",
        "    what1 = tf.matmul(X_tf, self.W1) + self.b1\n",
        "    hhat1 = tf.nn.relu(what1)\n",
        "    # Compute values in hidden layer2\n",
        "    what2 = tf.matmul(hhat1, self.W2) + self.b2\n",
        "    hhat2 = tf.nn.relu(what2)\n",
        "    # Compute output\n",
        "    output = tf.matmul(hhat2, self.W3) + self.b3\n",
        "    #Now consider two things , First look at inbuild loss functions if they work with softmax or not and then change this\n",
        "    #Second add tf.Softmax(output) and then return this variable\n",
        "    return output"
      ],
      "execution_count": null,
      "outputs": []
    },
    {
      "cell_type": "code",
      "metadata": {
        "colab": {
          "base_uri": "https://localhost:8080/"
        },
        "outputId": "a59c4792-70fb-4598-db09-6b073824c006",
        "id": "fmt_W3VRJcAS"
      },
      "source": [
        "#Default mode\n",
        "mlp_on_default = MLP(size_input, size_hidden, size_output)\n",
        "\n",
        "time_start = time.time()\n",
        "for epoch in range(NUM_EPOCHS):\n",
        "  loss_total_gpu = tf.zeros([1,1], dtype=tf.float32)\n",
        "  lt = 0\n",
        "  accuracy_a = tf.zeros([], dtype=tf.float32) #tensor for accumulating accuracy\n",
        "  train_ds = tf.data.Dataset.from_tensor_slices((x_train, y_train)).shuffle(25, seed=epoch*(5997)).batch(20)\n",
        "  for inputs, outputs in train_ds:\n",
        "    preds = mlp_on_default.forward(inputs)\n",
        "    pred = tf.nn.softmax(preds)\n",
        "\n",
        "\n",
        "    outputs = tf.cast(tf.reshape(outputs, (-1,10)), dtype=tf.float32)\n",
        "    pred = tf.cast(pred, dtype=tf.float32)\n",
        "\n",
        "    correct_prediction = tf.equal(tf.argmax(outputs, 1), tf.argmax(pred, 1))\n",
        "    # Calculate accuracy\n",
        "    accuracy = tf.reduce_mean(tf.cast(correct_prediction, \"float\"))\n",
        "\n",
        "\n",
        "\n",
        "    accuracy_a = accuracy_a + accuracy\n",
        "    loss_total_gpu = loss_total_gpu + mlp_on_default.loss(preds, outputs)\n",
        "    lt = lt + mlp_on_default.loss(preds, outputs)\n",
        "    mlp_on_default.backward(inputs, outputs)\n",
        "  print('Number of Epoch = {} - Categorical Cross-Entropy:= {}'.format(epoch + 1, np.sum(loss_total_gpu) / x_train.shape[0]))\n",
        "  print('Number of Epoch = {} - Accuracy:= {}'.format(epoch + 1, (np.sum(accuracy_a) / x_train.shape[0])*100))\n",
        "time_taken = time.time() - time_start\n",
        "\n",
        "print('\\nTotal time taken (in seconds): {:.2f}'.format(time_taken))"
      ],
      "execution_count": null,
      "outputs": [
        {
          "output_type": "stream",
          "name": "stdout",
          "text": [
            "Number of Epoch = 1 - Categorical Cross-Entropy:= 0.30573391544117645\n",
            "Number of Epoch = 1 - Accuracy:= 0.4708428390887605\n",
            "Number of Epoch = 2 - Categorical Cross-Entropy:= 0.25576692161239495\n",
            "Number of Epoch = 2 - Accuracy:= 0.5183211126247373\n",
            "Number of Epoch = 3 - Categorical Cross-Entropy:= 0.2125008862920168\n",
            "Number of Epoch = 3 - Accuracy:= 0.5553782743566177\n",
            "Number of Epoch = 4 - Categorical Cross-Entropy:= 0.18682595850840336\n",
            "Number of Epoch = 4 - Accuracy:= 0.5611766654904149\n",
            "Number of Epoch = 5 - Categorical Cross-Entropy:= 0.17022198332457983\n",
            "Number of Epoch = 5 - Accuracy:= 0.570252234194459\n",
            "Number of Epoch = 6 - Categorical Cross-Entropy:= 0.15364607405462186\n",
            "Number of Epoch = 6 - Accuracy:= 0.5889914632845326\n",
            "Number of Epoch = 7 - Categorical Cross-Entropy:= 0.1418840762867647\n",
            "Number of Epoch = 7 - Accuracy:= 0.6093281721868434\n",
            "Number of Epoch = 8 - Categorical Cross-Entropy:= 0.1343160287552521\n",
            "Number of Epoch = 8 - Accuracy:= 0.6256299443605567\n",
            "Number of Epoch = 9 - Categorical Cross-Entropy:= 0.12881384585084033\n",
            "Number of Epoch = 9 - Accuracy:= 0.6437807740283613\n",
            "Number of Epoch = 10 - Categorical Cross-Entropy:= 0.12338097426470589\n",
            "Number of Epoch = 10 - Accuracy:= 0.6678145721179096\n",
            "\n",
            "Total time taken (in seconds): 754.27\n"
          ]
        }
      ]
    },
    {
      "cell_type": "code",
      "source": [
        "test_loss_total = tf.Variable(0, dtype=tf.float32)\n",
        "accuracy_a = tf.zeros([], dtype=tf.float32)\n",
        "#test_loss_total = 0.0\n",
        "for inputs, outputs in test_ds:\n",
        "  preds = mlp_on_default.forward(inputs)\n",
        "\n",
        "  pred = tf.nn.softmax(preds)  # Apply softmax to logits\n",
        "  outputs = tf.cast(tf.reshape(outputs, (-1,10)), dtype=tf.float32)\n",
        "  pred = tf.cast(pred, dtype=tf.float32)\n",
        "\n",
        "  correct_prediction = tf.equal(tf.argmax(outputs, 1), tf.argmax(pred, 1))\n",
        "  # Calculate accuracy\n",
        "  accuracy = tf.reduce_mean(tf.cast(correct_prediction, \"float\"))\n",
        "  accuracy_a = accuracy_a + accuracy\n",
        "  #b = mlp_on_default.loss(preds, outputs)\n",
        "  test_loss_total = test_loss_total + mlp_on_default.loss(preds, outputs)\n",
        "# a = (test_loss_total.numpy() / X_train.shape[0])\n",
        "# print(X_train.shape[0])\n",
        "# print(test_loss_total.numpy())\n",
        "# print(b)\n",
        "print('Test Categorical_Cross-Entropy: {:.4f}'.format(np.sum(test_loss_total.numpy()) / x_train.shape[0]))\n",
        "print('Test Accuracy: {:.4f}'.format((np.sum(accuracy_a) / x_train.shape[0])*100))"
      ],
      "metadata": {
        "colab": {
          "base_uri": "https://localhost:8080/"
        },
        "outputId": "bb16a39c-00bd-43f7-d370-29e1440a99b9",
        "id": "gIB2hliHJcAT"
      },
      "execution_count": null,
      "outputs": [
        {
          "output_type": "stream",
          "name": "stdout",
          "text": [
            "Test Categorical_Cross-Entropy: 0.1070\n",
            "Test Accuracy: 0.5895\n"
          ]
        }
      ]
    },
    {
      "cell_type": "markdown",
      "source": [
        "## 1e-3"
      ],
      "metadata": {
        "id": "f8eINVIRJdC5"
      }
    },
    {
      "cell_type": "code",
      "metadata": {
        "id": "lYeSOTiBJhWg"
      },
      "source": [
        "# Define class to build mlp model\n",
        "class MLP(object):\n",
        "  def __init__(self, size_input, size_hidden, size_output, device=None):\n",
        "    \"\"\"\n",
        "    size_input: int, size of input layer\n",
        "    size_hidden: int, size of hidden layer\n",
        "    size_output: int, size of output layer\n",
        "    device: str or None, either 'cpu' or 'gpu' or None. If None, the device to be used will be decided automatically during Eager Execution\n",
        "    \"\"\"\n",
        "    self.size_input, self.size_hidden, self.size_output, self.device =\\\n",
        "    size_input, size_hidden, size_output, device\n",
        "    \n",
        "    # Initialize weights between input layer and hidden layer-1\n",
        "    self.W1 = tf.Variable(tf.random.normal([self.size_input, self.size_hidden[0]]))\n",
        "    # Initialize biases for hidden layer-1\n",
        "    self.b1 = tf.Variable(tf.random.normal([1, self.size_hidden[0]]))\n",
        "\n",
        "    # Initialize weights between hidden layer-1 and hidden layer-2\n",
        "    self.W2 = tf.Variable(tf.random.normal([self.size_hidden[0], self.size_hidden[1]]))\n",
        "    # Initialize biases for hidden layer-1\n",
        "    self.b2 = tf.Variable(tf.random.normal([1, self.size_hidden[1]]))\n",
        "\n",
        "     # Initialize weights between hidden layer and output layer\n",
        "    self.W3 = tf.Variable(tf.random.normal([self.size_hidden[1], self.size_output]))\n",
        "    # Initialize biases for output layer\n",
        "    self.b3 = tf.Variable(tf.random.normal([1, self.size_output]))\n",
        "    \n",
        "    # Define variables to be updated during backpropagation\n",
        "    self.variables = [self.W1, self.W2, self.W3, self.b1, self.b2, self.b3]\n",
        "    \n",
        "    \n",
        "  def forward(self, X):\n",
        "    \"\"\"\n",
        "    forward pass\n",
        "    X: Tensor, inputs\n",
        "    \"\"\"\n",
        "    if self.device is not None:\n",
        "      with tf.device('gpu:0' if self.device=='gpu' else 'cpu'):\n",
        "        self.y = self.compute_output(X)\n",
        "    else:\n",
        "      self.y = self.compute_output(X)\n",
        "      \n",
        "    return self.y\n",
        "  \n",
        "  def loss(self, y_pred, y_true):\n",
        "    '''\n",
        "    y_pred - Tensor of shape (batch_size, size_output)\n",
        "    y_true - Tensor of shape (batch_size, size_output)\n",
        "    '''\n",
        "    y_true_tf = tf.cast(tf.reshape(y_true, (-1, self.size_output)), dtype=tf.float32)\n",
        "    y_pred_tf = tf.cast(y_pred, dtype=tf.float32)\n",
        "    return tf.keras.losses.CategoricalCrossentropy()(y_true_tf, y_pred_tf)\n",
        "  \n",
        "  def backward(self, X_train, y_train):\n",
        "    \"\"\"\n",
        "    backward pass\n",
        "    \"\"\"\n",
        "    optimizer = tf.keras.optimizers.SGD(learning_rate=1e-3)\n",
        "    with tf.GradientTape() as tape:\n",
        "      predicted = self.forward(X_train)\n",
        "      current_loss = self.loss(predicted, y_train)\n",
        "    grads = tape.gradient(current_loss, self.variables)\n",
        "    optimizer.apply_gradients(zip(grads, self.variables))\n",
        "        \n",
        "        \n",
        "  def compute_output(self, X):\n",
        "    \"\"\"\n",
        "    Custom method to obtain output tensor during forward pass\n",
        "    \"\"\"\n",
        "    # Cast X to float32\n",
        "    X_tf = tf.cast(X, dtype=tf.float32)\n",
        "    #Remember to normalize your dataset before moving forward\n",
        "    # Compute values in hidden layer1\n",
        "    what1 = tf.matmul(X_tf, self.W1) + self.b1\n",
        "    hhat1 = tf.nn.relu(what1)\n",
        "    # Compute values in hidden layer2\n",
        "    what2 = tf.matmul(hhat1, self.W2) + self.b2\n",
        "    hhat2 = tf.nn.relu(what2)\n",
        "    # Compute output\n",
        "    output = tf.matmul(hhat2, self.W3) + self.b3\n",
        "    #Now consider two things , First look at inbuild loss functions if they work with softmax or not and then change this\n",
        "    #Second add tf.Softmax(output) and then return this variable\n",
        "    return output"
      ],
      "execution_count": null,
      "outputs": []
    },
    {
      "cell_type": "code",
      "metadata": {
        "colab": {
          "base_uri": "https://localhost:8080/"
        },
        "outputId": "8be96060-10b3-4002-f57c-de45e0457968",
        "id": "IkQjbfQ6JhWh"
      },
      "source": [
        "#Default mode\n",
        "mlp_on_default = MLP(size_input, size_hidden, size_output)\n",
        "\n",
        "time_start = time.time()\n",
        "for epoch in range(NUM_EPOCHS):\n",
        "  loss_total_gpu = tf.zeros([1,1], dtype=tf.float32)\n",
        "  lt = 0\n",
        "  accuracy_a = tf.zeros([], dtype=tf.float32) #tensor for accumulating accuracy\n",
        "  train_ds = tf.data.Dataset.from_tensor_slices((x_train, y_train)).shuffle(25, seed=epoch*(5997)).batch(20)\n",
        "  for inputs, outputs in train_ds:\n",
        "    preds = mlp_on_default.forward(inputs)\n",
        "    pred = tf.nn.softmax(preds)\n",
        "\n",
        "\n",
        "    outputs = tf.cast(tf.reshape(outputs, (-1,10)), dtype=tf.float32)\n",
        "    pred = tf.cast(pred, dtype=tf.float32)\n",
        "\n",
        "    correct_prediction = tf.equal(tf.argmax(outputs, 1), tf.argmax(pred, 1))\n",
        "    # Calculate accuracy\n",
        "    accuracy = tf.reduce_mean(tf.cast(correct_prediction, \"float\"))\n",
        "\n",
        "\n",
        "\n",
        "    accuracy_a = accuracy_a + accuracy\n",
        "    loss_total_gpu = loss_total_gpu + mlp_on_default.loss(preds, outputs)\n",
        "    lt = lt + mlp_on_default.loss(preds, outputs)\n",
        "    mlp_on_default.backward(inputs, outputs)\n",
        "  print('Number of Epoch = {} - Categorical Cross-Entropy:= {}'.format(epoch + 1, np.sum(loss_total_gpu) / x_train.shape[0]))\n",
        "  print('Number of Epoch = {} - Accuracy:= {}'.format(epoch + 1, (np.sum(accuracy_a) / x_train.shape[0])*100))\n",
        "time_taken = time.time() - time_start\n",
        "\n",
        "print('\\nTotal time taken (in seconds): {:.2f}'.format(time_taken))"
      ],
      "execution_count": null,
      "outputs": [
        {
          "output_type": "stream",
          "name": "stdout",
          "text": [
            "Number of Epoch = 1 - Categorical Cross-Entropy:= 0.3356025800945378\n",
            "Number of Epoch = 1 - Accuracy:= 0.5032789727219013\n",
            "Number of Epoch = 2 - Categorical Cross-Entropy:= 0.22050091911764705\n",
            "Number of Epoch = 2 - Accuracy:= 0.5159667455849527\n",
            "Number of Epoch = 3 - Categorical Cross-Entropy:= 0.2503140263918067\n",
            "Number of Epoch = 3 - Accuracy:= 0.5105902663799895\n",
            "Number of Epoch = 4 - Categorical Cross-Entropy:= 0.35725544905462187\n",
            "Number of Epoch = 4 - Accuracy:= 0.4324413139279149\n",
            "Number of Epoch = 5 - Categorical Cross-Entropy:= 0.24452031906512606\n",
            "Number of Epoch = 5 - Accuracy:= 0.3936176716780462\n",
            "Number of Epoch = 6 - Categorical Cross-Entropy:= 0.23529111410189077\n",
            "Number of Epoch = 6 - Accuracy:= 0.41151674414883144\n",
            "Number of Epoch = 7 - Categorical Cross-Entropy:= 0.22938906578256302\n",
            "Number of Epoch = 7 - Accuracy:= 0.44395295471704305\n",
            "Number of Epoch = 8 - Categorical Cross-Entropy:= 0.2231200105042017\n",
            "Number of Epoch = 8 - Accuracy:= 0.4885735519793855\n",
            "Number of Epoch = 9 - Categorical Cross-Entropy:= 0.22131707917542018\n",
            "Number of Epoch = 9 - Accuracy:= 0.4988259708180147\n",
            "Number of Epoch = 10 - Categorical Cross-Entropy:= 0.26223990611869746\n",
            "Number of Epoch = 10 - Accuracy:= 0.5018508013556985\n",
            "\n",
            "Total time taken (in seconds): 598.55\n"
          ]
        }
      ]
    },
    {
      "cell_type": "code",
      "source": [
        "test_loss_total = tf.Variable(0, dtype=tf.float32)\n",
        "accuracy_a = tf.zeros([], dtype=tf.float32)\n",
        "#test_loss_total = 0.0\n",
        "for inputs, outputs in test_ds:\n",
        "  preds = mlp_on_default.forward(inputs)\n",
        "\n",
        "  pred = tf.nn.softmax(preds)  # Apply softmax to logits\n",
        "  outputs = tf.cast(tf.reshape(outputs, (-1,10)), dtype=tf.float32)\n",
        "  pred = tf.cast(pred, dtype=tf.float32)\n",
        "\n",
        "  correct_prediction = tf.equal(tf.argmax(outputs, 1), tf.argmax(pred, 1))\n",
        "  # Calculate accuracy\n",
        "  accuracy = tf.reduce_mean(tf.cast(correct_prediction, \"float\"))\n",
        "  accuracy_a = accuracy_a + accuracy\n",
        "  #b = mlp_on_default.loss(preds, outputs)\n",
        "  test_loss_total = test_loss_total + mlp_on_default.loss(preds, outputs)\n",
        "# a = (test_loss_total.numpy() / X_train.shape[0])\n",
        "# print(X_train.shape[0])\n",
        "# print(test_loss_total.numpy())\n",
        "# print(b)\n",
        "print('Test Categorical_Cross-Entropy: {:.4f}'.format(np.sum(test_loss_total.numpy()) / x_train.shape[0]))\n",
        "print('Test Accuracy: {:.4f}'.format((np.sum(accuracy_a) / x_train.shape[0])*100))"
      ],
      "metadata": {
        "colab": {
          "base_uri": "https://localhost:8080/"
        },
        "outputId": "30fb9dc7-feb1-4da1-c240-5f7534bc1dae",
        "id": "KnbENMDqJhWi"
      },
      "execution_count": null,
      "outputs": [
        {
          "output_type": "stream",
          "name": "stdout",
          "text": [
            "Test Categorical_Cross-Entropy: 0.3661\n",
            "Test Accuracy: 0.4277\n"
          ]
        }
      ]
    },
    {
      "cell_type": "markdown",
      "source": [
        "## ie-5"
      ],
      "metadata": {
        "id": "bW-3BJcIMFN9"
      }
    },
    {
      "cell_type": "code",
      "metadata": {
        "id": "3WTwo5q_MHso"
      },
      "source": [
        "# Define class to build mlp model\n",
        "class MLP(object):\n",
        "  def __init__(self, size_input, size_hidden, size_output, device=None):\n",
        "    \"\"\"\n",
        "    size_input: int, size of input layer\n",
        "    size_hidden: int, size of hidden layer\n",
        "    size_output: int, size of output layer\n",
        "    device: str or None, either 'cpu' or 'gpu' or None. If None, the device to be used will be decided automatically during Eager Execution\n",
        "    \"\"\"\n",
        "    self.size_input, self.size_hidden, self.size_output, self.device =\\\n",
        "    size_input, size_hidden, size_output, device\n",
        "    \n",
        "    # Initialize weights between input layer and hidden layer-1\n",
        "    self.W1 = tf.Variable(tf.random.normal([self.size_input, self.size_hidden[0]]))\n",
        "    # Initialize biases for hidden layer-1\n",
        "    self.b1 = tf.Variable(tf.random.normal([1, self.size_hidden[0]]))\n",
        "\n",
        "    # Initialize weights between hidden layer-1 and hidden layer-2\n",
        "    self.W2 = tf.Variable(tf.random.normal([self.size_hidden[0], self.size_hidden[1]]))\n",
        "    # Initialize biases for hidden layer-1\n",
        "    self.b2 = tf.Variable(tf.random.normal([1, self.size_hidden[1]]))\n",
        "\n",
        "     # Initialize weights between hidden layer and output layer\n",
        "    self.W3 = tf.Variable(tf.random.normal([self.size_hidden[1], self.size_output]))\n",
        "    # Initialize biases for output layer\n",
        "    self.b3 = tf.Variable(tf.random.normal([1, self.size_output]))\n",
        "    \n",
        "    # Define variables to be updated during backpropagation\n",
        "    self.variables = [self.W1, self.W2, self.W3, self.b1, self.b2, self.b3]\n",
        "    \n",
        "    \n",
        "  def forward(self, X):\n",
        "    \"\"\"\n",
        "    forward pass\n",
        "    X: Tensor, inputs\n",
        "    \"\"\"\n",
        "    if self.device is not None:\n",
        "      with tf.device('gpu:0' if self.device=='gpu' else 'cpu'):\n",
        "        self.y = self.compute_output(X)\n",
        "    else:\n",
        "      self.y = self.compute_output(X)\n",
        "      \n",
        "    return self.y\n",
        "  \n",
        "  def loss(self, y_pred, y_true):\n",
        "    '''\n",
        "    y_pred - Tensor of shape (batch_size, size_output)\n",
        "    y_true - Tensor of shape (batch_size, size_output)\n",
        "    '''\n",
        "    y_true_tf = tf.cast(tf.reshape(y_true, (-1, self.size_output)), dtype=tf.float32)\n",
        "    y_pred_tf = tf.cast(y_pred, dtype=tf.float32)\n",
        "    return tf.keras.losses.CategoricalCrossentropy()(y_true_tf, y_pred_tf)\n",
        "  \n",
        "  def backward(self, X_train, y_train):\n",
        "    \"\"\"\n",
        "    backward pass\n",
        "    \"\"\"\n",
        "    optimizer = tf.keras.optimizers.SGD(learning_rate=1e-5)\n",
        "    with tf.GradientTape() as tape:\n",
        "      predicted = self.forward(X_train)\n",
        "      current_loss = self.loss(predicted, y_train)\n",
        "    grads = tape.gradient(current_loss, self.variables)\n",
        "    optimizer.apply_gradients(zip(grads, self.variables))\n",
        "        \n",
        "        \n",
        "  def compute_output(self, X):\n",
        "    \"\"\"\n",
        "    Custom method to obtain output tensor during forward pass\n",
        "    \"\"\"\n",
        "    # Cast X to float32\n",
        "    X_tf = tf.cast(X, dtype=tf.float32)\n",
        "    #Remember to normalize your dataset before moving forward\n",
        "    # Compute values in hidden layer1\n",
        "    what1 = tf.matmul(X_tf, self.W1) + self.b1\n",
        "    hhat1 = tf.nn.relu(what1)\n",
        "    # Compute values in hidden layer2\n",
        "    what2 = tf.matmul(hhat1, self.W2) + self.b2\n",
        "    hhat2 = tf.nn.relu(what2)\n",
        "    # Compute output\n",
        "    output = tf.matmul(hhat2, self.W3) + self.b3\n",
        "    #Now consider two things , First look at inbuild loss functions if they work with softmax or not and then change this\n",
        "    #Second add tf.Softmax(output) and then return this variable\n",
        "    return output"
      ],
      "execution_count": null,
      "outputs": []
    },
    {
      "cell_type": "code",
      "metadata": {
        "colab": {
          "base_uri": "https://localhost:8080/"
        },
        "outputId": "a143b185-f46f-4ea4-def7-8beb29809748",
        "id": "6ZSuWdWyMHsp"
      },
      "source": [
        "#Default mode\n",
        "mlp_on_default = MLP(size_input, size_hidden, size_output)\n",
        "\n",
        "time_start = time.time()\n",
        "for epoch in range(NUM_EPOCHS):\n",
        "  loss_total_gpu = tf.zeros([1,1], dtype=tf.float32)\n",
        "  lt = 0\n",
        "  accuracy_a = tf.zeros([], dtype=tf.float32) #tensor for accumulating accuracy\n",
        "  train_ds = tf.data.Dataset.from_tensor_slices((x_train, y_train)).shuffle(25, seed=epoch*(5997)).batch(20)\n",
        "  for inputs, outputs in train_ds:\n",
        "    preds = mlp_on_default.forward(inputs)\n",
        "    pred = tf.nn.softmax(preds)\n",
        "\n",
        "\n",
        "    outputs = tf.cast(tf.reshape(outputs, (-1,10)), dtype=tf.float32)\n",
        "    pred = tf.cast(pred, dtype=tf.float32)\n",
        "\n",
        "    correct_prediction = tf.equal(tf.argmax(outputs, 1), tf.argmax(pred, 1))\n",
        "    # Calculate accuracy\n",
        "    accuracy = tf.reduce_mean(tf.cast(correct_prediction, \"float\"))\n",
        "\n",
        "\n",
        "\n",
        "    accuracy_a = accuracy_a + accuracy\n",
        "    loss_total_gpu = loss_total_gpu + mlp_on_default.loss(preds, outputs)\n",
        "    lt = lt + mlp_on_default.loss(preds, outputs)\n",
        "    mlp_on_default.backward(inputs, outputs)\n",
        "  print('Number of Epoch = {} - Categorical Cross-Entropy:= {}'.format(epoch + 1, np.sum(loss_total_gpu) / x_train.shape[0]))\n",
        "  print('Number of Epoch = {} - Accuracy:= {}'.format(epoch + 1, (np.sum(accuracy_a) / x_train.shape[0])*100))\n",
        "time_taken = time.time() - time_start\n",
        "\n",
        "print('\\nTotal time taken (in seconds): {:.2f}'.format(time_taken))"
      ],
      "execution_count": null,
      "outputs": [
        {
          "output_type": "stream",
          "name": "stdout",
          "text": [
            "Number of Epoch = 1 - Categorical Cross-Entropy:= 0.32479851628151263\n",
            "Number of Epoch = 1 - Accuracy:= 0.4610115115382091\n",
            "Number of Epoch = 2 - Categorical Cross-Entropy:= 0.31970000656512604\n",
            "Number of Epoch = 2 - Accuracy:= 0.4584896824940914\n",
            "Number of Epoch = 3 - Categorical Cross-Entropy:= 0.3176233915441177\n",
            "Number of Epoch = 3 - Accuracy:= 0.4598348152737658\n",
            "Number of Epoch = 4 - Categorical Cross-Entropy:= 0.31290296743697477\n",
            "Number of Epoch = 4 - Accuracy:= 0.4638682133009454\n",
            "Number of Epoch = 5 - Categorical Cross-Entropy:= 0.3082079175420168\n",
            "Number of Epoch = 5 - Accuracy:= 0.4627750172334559\n",
            "Number of Epoch = 6 - Categorical Cross-Entropy:= 0.30051037289915966\n",
            "Number of Epoch = 6 - Accuracy:= 0.46622058002888656\n",
            "Number of Epoch = 7 - Categorical Cross-Entropy:= 0.29514206932773107\n",
            "Number of Epoch = 7 - Accuracy:= 0.4667256844143907\n",
            "Number of Epoch = 8 - Categorical Cross-Entropy:= 0.2908782825630252\n",
            "Number of Epoch = 8 - Accuracy:= 0.4928585276884191\n",
            "Number of Epoch = 9 - Categorical Cross-Entropy:= 0.28804789259453784\n",
            "Number of Epoch = 9 - Accuracy:= 0.4921869870995273\n",
            "Number of Epoch = 10 - Categorical Cross-Entropy:= 0.28032993040966386\n",
            "Number of Epoch = 10 - Accuracy:= 0.4931107208508403\n",
            "\n",
            "Total time taken (in seconds): 725.53\n"
          ]
        }
      ]
    },
    {
      "cell_type": "code",
      "source": [
        "test_loss_total = tf.Variable(0, dtype=tf.float32)\n",
        "accuracy_a = tf.zeros([], dtype=tf.float32)\n",
        "#test_loss_total = 0.0\n",
        "for inputs, outputs in test_ds:\n",
        "  preds = mlp_on_default.forward(inputs)\n",
        "\n",
        "  pred = tf.nn.softmax(preds)  # Apply softmax to logits\n",
        "  outputs = tf.cast(tf.reshape(outputs, (-1,10)), dtype=tf.float32)\n",
        "  pred = tf.cast(pred, dtype=tf.float32)\n",
        "\n",
        "  correct_prediction = tf.equal(tf.argmax(outputs, 1), tf.argmax(pred, 1))\n",
        "  # Calculate accuracy\n",
        "  accuracy = tf.reduce_mean(tf.cast(correct_prediction, \"float\"))\n",
        "  accuracy_a = accuracy_a + accuracy\n",
        "  #b = mlp_on_default.loss(preds, outputs)\n",
        "  test_loss_total = test_loss_total + mlp_on_default.loss(preds, outputs)\n",
        "# a = (test_loss_total.numpy() / X_train.shape[0])\n",
        "# print(X_train.shape[0])\n",
        "# print(test_loss_total.numpy())\n",
        "# print(b)\n",
        "print('Test Categorical_Cross-Entropy: {:.4f}'.format(np.sum(test_loss_total.numpy()) / x_train.shape[0]))\n",
        "print('Test Accuracy: {:.4f}'.format((np.sum(accuracy_a) / x_train.shape[0])*100))"
      ],
      "metadata": {
        "colab": {
          "base_uri": "https://localhost:8080/"
        },
        "id": "scjiiqh0MHsp",
        "outputId": "11ea650f-7e4c-4a85-f518-fd3665b7b808"
      },
      "execution_count": null,
      "outputs": [
        {
          "output_type": "stream",
          "name": "stdout",
          "text": [
            "Test Categorical_Cross-Entropy: 0.2415\n",
            "Test Accuracy: 0.4479\n"
          ]
        }
      ]
    },
    {
      "cell_type": "code",
      "source": [
        ""
      ],
      "metadata": {
        "id": "_hcD9-DXK08K"
      },
      "execution_count": null,
      "outputs": []
    },
    {
      "cell_type": "code",
      "source": [
        ""
      ],
      "metadata": {
        "id": "LrkWHr5HK08K"
      },
      "execution_count": null,
      "outputs": []
    },
    {
      "cell_type": "code",
      "source": [
        ""
      ],
      "metadata": {
        "id": "IgCD6NdQK0ie"
      },
      "execution_count": null,
      "outputs": []
    },
    {
      "cell_type": "markdown",
      "source": [
        "# Case 10\n",
        "\n",
        "Hyper Parameter Optimization for Activation Function using Trial and Error"
      ],
      "metadata": {
        "id": "SQx2SfI-0iN-"
      }
    },
    {
      "cell_type": "markdown",
      "source": [
        "## Relu"
      ],
      "metadata": {
        "id": "KlTRf3mHMY_8"
      }
    },
    {
      "cell_type": "code",
      "metadata": {
        "id": "qRRLyDCCMfQn"
      },
      "source": [
        "# Define class to build mlp model\n",
        "class MLP(object):\n",
        "  def __init__(self, size_input, size_hidden, size_output, device=None):\n",
        "    \"\"\"\n",
        "    size_input: int, size of input layer\n",
        "    size_hidden: int, size of hidden layer\n",
        "    size_output: int, size of output layer\n",
        "    device: str or None, either 'cpu' or 'gpu' or None. If None, the device to be used will be decided automatically during Eager Execution\n",
        "    \"\"\"\n",
        "    self.size_input, self.size_hidden, self.size_output, self.device =\\\n",
        "    size_input, size_hidden, size_output, device\n",
        "    \n",
        "    # Initialize weights between input layer and hidden layer-1\n",
        "    self.W1 = tf.Variable(tf.random.normal([self.size_input, self.size_hidden[0]]))\n",
        "    # Initialize biases for hidden layer-1\n",
        "    self.b1 = tf.Variable(tf.random.normal([1, self.size_hidden[0]]))\n",
        "\n",
        "    # Initialize weights between hidden layer-1 and hidden layer-2\n",
        "    self.W2 = tf.Variable(tf.random.normal([self.size_hidden[0], self.size_hidden[1]]))\n",
        "    # Initialize biases for hidden layer-1\n",
        "    self.b2 = tf.Variable(tf.random.normal([1, self.size_hidden[1]]))\n",
        "\n",
        "     # Initialize weights between hidden layer and output layer\n",
        "    self.W3 = tf.Variable(tf.random.normal([self.size_hidden[1], self.size_output]))\n",
        "    # Initialize biases for output layer\n",
        "    self.b3 = tf.Variable(tf.random.normal([1, self.size_output]))\n",
        "    \n",
        "    # Define variables to be updated during backpropagation\n",
        "    self.variables = [self.W1, self.W2, self.W3, self.b1, self.b2, self.b3]\n",
        "    \n",
        "    \n",
        "  def forward(self, X):\n",
        "    \"\"\"\n",
        "    forward pass\n",
        "    X: Tensor, inputs\n",
        "    \"\"\"\n",
        "    if self.device is not None:\n",
        "      with tf.device('gpu:0' if self.device=='gpu' else 'cpu'):\n",
        "        self.y = self.compute_output(X)\n",
        "    else:\n",
        "      self.y = self.compute_output(X)\n",
        "      \n",
        "    return self.y\n",
        "  \n",
        "  def loss(self, y_pred, y_true):\n",
        "    '''\n",
        "    y_pred - Tensor of shape (batch_size, size_output)\n",
        "    y_true - Tensor of shape (batch_size, size_output)\n",
        "    '''\n",
        "    y_true_tf = tf.cast(tf.reshape(y_true, (-1, self.size_output)), dtype=tf.float32)\n",
        "    y_pred_tf = tf.cast(y_pred, dtype=tf.float32)\n",
        "    return tf.keras.losses.CategoricalCrossentropy()(y_true_tf, y_pred_tf)\n",
        "  \n",
        "  def backward(self, X_train, y_train):\n",
        "    \"\"\"\n",
        "    backward pass\n",
        "    \"\"\"\n",
        "    optimizer = tf.keras.optimizers.SGD(learning_rate=1e-4)\n",
        "    with tf.GradientTape() as tape:\n",
        "      predicted = self.forward(X_train)\n",
        "      current_loss = self.loss(predicted, y_train)\n",
        "    grads = tape.gradient(current_loss, self.variables)\n",
        "    optimizer.apply_gradients(zip(grads, self.variables))\n",
        "        \n",
        "        \n",
        "  def compute_output(self, X):\n",
        "    \"\"\"\n",
        "    Custom method to obtain output tensor during forward pass\n",
        "    \"\"\"\n",
        "    # Cast X to float32\n",
        "    X_tf = tf.cast(X, dtype=tf.float32)\n",
        "    #Remember to normalize your dataset before moving forward\n",
        "    # Compute values in hidden layer1\n",
        "    what1 = tf.matmul(X_tf, self.W1) + self.b1\n",
        "    hhat1 = tf.nn.relu(what1)\n",
        "    # Compute values in hidden layer2\n",
        "    what2 = tf.matmul(hhat1, self.W2) + self.b2\n",
        "    hhat2 = tf.nn.relu(what2)\n",
        "    # Compute output\n",
        "    output = tf.matmul(hhat2, self.W3) + self.b3\n",
        "    #Now consider two things , First look at inbuild loss functions if they work with softmax or not and then change this\n",
        "    #Second add tf.Softmax(output) and then return this variable\n",
        "    return output"
      ],
      "execution_count": null,
      "outputs": []
    },
    {
      "cell_type": "code",
      "metadata": {
        "id": "VQipc4cmMfQr"
      },
      "source": [
        "# Set number of epochs\n",
        "NUM_EPOCHS = 10"
      ],
      "execution_count": null,
      "outputs": []
    },
    {
      "cell_type": "code",
      "metadata": {
        "colab": {
          "base_uri": "https://localhost:8080/"
        },
        "outputId": "a59c4792-70fb-4598-db09-6b073824c006",
        "id": "xC5yLRldMfQr"
      },
      "source": [
        "#Default mode\n",
        "mlp_on_default = MLP(size_input, size_hidden, size_output)\n",
        "\n",
        "time_start = time.time()\n",
        "for epoch in range(NUM_EPOCHS):\n",
        "  loss_total_gpu = tf.zeros([1,1], dtype=tf.float32)\n",
        "  lt = 0\n",
        "  accuracy_a = tf.zeros([], dtype=tf.float32) #tensor for accumulating accuracy\n",
        "  train_ds = tf.data.Dataset.from_tensor_slices((x_train, y_train)).shuffle(25, seed=epoch*(5997)).batch(20)\n",
        "  for inputs, outputs in train_ds:\n",
        "    preds = mlp_on_default.forward(inputs)\n",
        "    pred = tf.nn.softmax(preds)\n",
        "\n",
        "\n",
        "    outputs = tf.cast(tf.reshape(outputs, (-1,10)), dtype=tf.float32)\n",
        "    pred = tf.cast(pred, dtype=tf.float32)\n",
        "\n",
        "    correct_prediction = tf.equal(tf.argmax(outputs, 1), tf.argmax(pred, 1))\n",
        "    # Calculate accuracy\n",
        "    accuracy = tf.reduce_mean(tf.cast(correct_prediction, \"float\"))\n",
        "\n",
        "\n",
        "\n",
        "    accuracy_a = accuracy_a + accuracy\n",
        "    loss_total_gpu = loss_total_gpu + mlp_on_default.loss(preds, outputs)\n",
        "    lt = lt + mlp_on_default.loss(preds, outputs)\n",
        "    mlp_on_default.backward(inputs, outputs)\n",
        "  print('Number of Epoch = {} - Categorical Cross-Entropy:= {}'.format(epoch + 1, np.sum(loss_total_gpu) / x_train.shape[0]))\n",
        "  print('Number of Epoch = {} - Accuracy:= {}'.format(epoch + 1, (np.sum(accuracy_a) / x_train.shape[0])*100))\n",
        "time_taken = time.time() - time_start\n",
        "\n",
        "print('\\nTotal time taken (in seconds): {:.2f}'.format(time_taken))"
      ],
      "execution_count": null,
      "outputs": [
        {
          "output_type": "stream",
          "name": "stdout",
          "text": [
            "Number of Epoch = 1 - Categorical Cross-Entropy:= 0.30573391544117645\n",
            "Number of Epoch = 1 - Accuracy:= 0.4708428390887605\n",
            "Number of Epoch = 2 - Categorical Cross-Entropy:= 0.25576692161239495\n",
            "Number of Epoch = 2 - Accuracy:= 0.5183211126247373\n",
            "Number of Epoch = 3 - Categorical Cross-Entropy:= 0.2125008862920168\n",
            "Number of Epoch = 3 - Accuracy:= 0.5553782743566177\n",
            "Number of Epoch = 4 - Categorical Cross-Entropy:= 0.18682595850840336\n",
            "Number of Epoch = 4 - Accuracy:= 0.5611766654904149\n",
            "Number of Epoch = 5 - Categorical Cross-Entropy:= 0.17022198332457983\n",
            "Number of Epoch = 5 - Accuracy:= 0.570252234194459\n",
            "Number of Epoch = 6 - Categorical Cross-Entropy:= 0.15364607405462186\n",
            "Number of Epoch = 6 - Accuracy:= 0.5889914632845326\n",
            "Number of Epoch = 7 - Categorical Cross-Entropy:= 0.1418840762867647\n",
            "Number of Epoch = 7 - Accuracy:= 0.6093281721868434\n",
            "Number of Epoch = 8 - Categorical Cross-Entropy:= 0.1343160287552521\n",
            "Number of Epoch = 8 - Accuracy:= 0.6256299443605567\n",
            "Number of Epoch = 9 - Categorical Cross-Entropy:= 0.12881384585084033\n",
            "Number of Epoch = 9 - Accuracy:= 0.6437807740283613\n",
            "Number of Epoch = 10 - Categorical Cross-Entropy:= 0.12338097426470589\n",
            "Number of Epoch = 10 - Accuracy:= 0.6678145721179096\n",
            "\n",
            "Total time taken (in seconds): 754.27\n"
          ]
        }
      ]
    },
    {
      "cell_type": "code",
      "source": [
        "test_loss_total = tf.Variable(0, dtype=tf.float32)\n",
        "accuracy_a = tf.zeros([], dtype=tf.float32)\n",
        "#test_loss_total = 0.0\n",
        "for inputs, outputs in test_ds:\n",
        "  preds = mlp_on_default.forward(inputs)\n",
        "\n",
        "  pred = tf.nn.softmax(preds)  # Apply softmax to logits\n",
        "  outputs = tf.cast(tf.reshape(outputs, (-1,10)), dtype=tf.float32)\n",
        "  pred = tf.cast(pred, dtype=tf.float32)\n",
        "\n",
        "  correct_prediction = tf.equal(tf.argmax(outputs, 1), tf.argmax(pred, 1))\n",
        "  # Calculate accuracy\n",
        "  accuracy = tf.reduce_mean(tf.cast(correct_prediction, \"float\"))\n",
        "  accuracy_a = accuracy_a + accuracy\n",
        "  #b = mlp_on_default.loss(preds, outputs)\n",
        "  test_loss_total = test_loss_total + mlp_on_default.loss(preds, outputs)\n",
        "# a = (test_loss_total.numpy() / X_train.shape[0])\n",
        "# print(X_train.shape[0])\n",
        "# print(test_loss_total.numpy())\n",
        "# print(b)\n",
        "print('Test Categorical_Cross-Entropy: {:.4f}'.format(np.sum(test_loss_total.numpy()) / x_train.shape[0]))\n",
        "print('Test Accuracy: {:.4f}'.format((np.sum(accuracy_a) / x_train.shape[0])*100))"
      ],
      "metadata": {
        "colab": {
          "base_uri": "https://localhost:8080/"
        },
        "outputId": "bb16a39c-00bd-43f7-d370-29e1440a99b9",
        "id": "tJXvc4WQMfQr"
      },
      "execution_count": null,
      "outputs": [
        {
          "output_type": "stream",
          "name": "stdout",
          "text": [
            "Test Categorical_Cross-Entropy: 0.1070\n",
            "Test Accuracy: 0.5895\n"
          ]
        }
      ]
    },
    {
      "cell_type": "markdown",
      "source": [
        "## Tanh"
      ],
      "metadata": {
        "id": "OOkkuWu3MgMx"
      }
    },
    {
      "cell_type": "code",
      "metadata": {
        "id": "m57BUCZNMkYR"
      },
      "source": [
        "# Define class to build mlp model\n",
        "class MLP(object):\n",
        "  def __init__(self, size_input, size_hidden, size_output, device=None):\n",
        "    \"\"\"\n",
        "    size_input: int, size of input layer\n",
        "    size_hidden: int, size of hidden layer\n",
        "    size_output: int, size of output layer\n",
        "    device: str or None, either 'cpu' or 'gpu' or None. If None, the device to be used will be decided automatically during Eager Execution\n",
        "    \"\"\"\n",
        "    self.size_input, self.size_hidden, self.size_output, self.device =\\\n",
        "    size_input, size_hidden, size_output, device\n",
        "    \n",
        "    # Initialize weights between input layer and hidden layer-1\n",
        "    self.W1 = tf.Variable(tf.random.normal([self.size_input, self.size_hidden[0]]))\n",
        "    # Initialize biases for hidden layer-1\n",
        "    self.b1 = tf.Variable(tf.random.normal([1, self.size_hidden[0]]))\n",
        "\n",
        "    # Initialize weights between hidden layer-1 and hidden layer-2\n",
        "    self.W2 = tf.Variable(tf.random.normal([self.size_hidden[0], self.size_hidden[1]]))\n",
        "    # Initialize biases for hidden layer-1\n",
        "    self.b2 = tf.Variable(tf.random.normal([1, self.size_hidden[1]]))\n",
        "\n",
        "     # Initialize weights between hidden layer and output layer\n",
        "    self.W3 = tf.Variable(tf.random.normal([self.size_hidden[1], self.size_output]))\n",
        "    # Initialize biases for output layer\n",
        "    self.b3 = tf.Variable(tf.random.normal([1, self.size_output]))\n",
        "    \n",
        "    # Define variables to be updated during backpropagation\n",
        "    self.variables = [self.W1, self.W2, self.W3, self.b1, self.b2, self.b3]\n",
        "    \n",
        "    \n",
        "  def forward(self, X):\n",
        "    \"\"\"\n",
        "    forward pass\n",
        "    X: Tensor, inputs\n",
        "    \"\"\"\n",
        "    if self.device is not None:\n",
        "      with tf.device('gpu:0' if self.device=='gpu' else 'cpu'):\n",
        "        self.y = self.compute_output(X)\n",
        "    else:\n",
        "      self.y = self.compute_output(X)\n",
        "      \n",
        "    return self.y\n",
        "  \n",
        "  def loss(self, y_pred, y_true):\n",
        "    '''\n",
        "    y_pred - Tensor of shape (batch_size, size_output)\n",
        "    y_true - Tensor of shape (batch_size, size_output)\n",
        "    '''\n",
        "    y_true_tf = tf.cast(tf.reshape(y_true, (-1, self.size_output)), dtype=tf.float32)\n",
        "    y_pred_tf = tf.cast(y_pred, dtype=tf.float32)\n",
        "    return tf.keras.losses.CategoricalCrossentropy()(y_true_tf, y_pred_tf)\n",
        "  \n",
        "  def backward(self, X_train, y_train):\n",
        "    \"\"\"\n",
        "    backward pass\n",
        "    \"\"\"\n",
        "    optimizer = tf.keras.optimizers.SGD(learning_rate=1e-4)\n",
        "    with tf.GradientTape() as tape:\n",
        "      predicted = self.forward(X_train)\n",
        "      current_loss = self.loss(predicted, y_train)\n",
        "    grads = tape.gradient(current_loss, self.variables)\n",
        "    optimizer.apply_gradients(zip(grads, self.variables))\n",
        "        \n",
        "        \n",
        "  def compute_output(self, X):\n",
        "    \"\"\"\n",
        "    Custom method to obtain output tensor during forward pass\n",
        "    \"\"\"\n",
        "    # Cast X to float32\n",
        "    X_tf = tf.cast(X, dtype=tf.float32)\n",
        "    #Remember to normalize your dataset before moving forward\n",
        "    # Compute values in hidden layer1\n",
        "    what1 = tf.matmul(X_tf, self.W1) + self.b1\n",
        "    hhat1 = tf.nn.tanh(what1)\n",
        "    # Compute values in hidden layer2\n",
        "    what2 = tf.matmul(hhat1, self.W2) + self.b2\n",
        "    hhat2 = tf.nn.tanh(what2)\n",
        "    # Compute output\n",
        "    output = tf.matmul(hhat2, self.W3) + self.b3\n",
        "    #Now consider two things , First look at inbuild loss functions if they work with softmax or not and then change this\n",
        "    #Second add tf.Softmax(output) and then return this variable\n",
        "    return output"
      ],
      "execution_count": null,
      "outputs": []
    },
    {
      "cell_type": "code",
      "metadata": {
        "id": "eZfQVywhMkYS"
      },
      "source": [
        "# Set number of epochs\n",
        "NUM_EPOCHS = 10"
      ],
      "execution_count": null,
      "outputs": []
    },
    {
      "cell_type": "code",
      "metadata": {
        "colab": {
          "base_uri": "https://localhost:8080/"
        },
        "outputId": "5c9e3a43-9ece-4920-f5f2-6d9e10cc8d62",
        "id": "YSBAfXzFMkYS"
      },
      "source": [
        "#Default mode\n",
        "mlp_on_default = MLP(size_input, size_hidden, size_output)\n",
        "\n",
        "time_start = time.time()\n",
        "for epoch in range(NUM_EPOCHS):\n",
        "  loss_total_gpu = tf.zeros([1,1], dtype=tf.float32)\n",
        "  lt = 0\n",
        "  accuracy_a = tf.zeros([], dtype=tf.float32) #tensor for accumulating accuracy\n",
        "  train_ds = tf.data.Dataset.from_tensor_slices((x_train, y_train)).shuffle(25, seed=epoch*(5997)).batch(20)\n",
        "  for inputs, outputs in train_ds:\n",
        "    preds = mlp_on_default.forward(inputs)\n",
        "    pred = preds\n",
        "\n",
        "\n",
        "    outputs = tf.cast(tf.reshape(outputs, (-1,10)), dtype=tf.float32)\n",
        "    pred = tf.cast(pred, dtype=tf.float32)\n",
        "\n",
        "    correct_prediction = tf.equal(tf.argmax(outputs, 1), tf.argmax(pred, 1))\n",
        "    # Calculate accuracy\n",
        "    accuracy = tf.reduce_mean(tf.cast(correct_prediction, \"float\"))\n",
        "\n",
        "\n",
        "\n",
        "    accuracy_a = accuracy_a + accuracy\n",
        "    loss_total_gpu = loss_total_gpu + mlp_on_default.loss(preds, outputs)\n",
        "    lt = lt + mlp_on_default.loss(preds, outputs)\n",
        "    mlp_on_default.backward(inputs, outputs)\n",
        "  print('Number of Epoch = {} - Categorical Cross-Entropy:= {}'.format(epoch + 1, np.sum(loss_total_gpu) / x_train.shape[0]))\n",
        "  print('Number of Epoch = {} - Accuracy:= {}'.format(epoch + 1, (np.sum(accuracy_a) / x_train.shape[0])*100))\n",
        "time_taken = time.time() - time_start\n",
        "\n",
        "print('\\nTotal time taken (in seconds): {:.2f}'.format(time_taken))"
      ],
      "execution_count": null,
      "outputs": [
        {
          "output_type": "stream",
          "name": "stdout",
          "text": [
            "Number of Epoch = 1 - Categorical Cross-Entropy:= 0.026894543559611343\n",
            "Number of Epoch = 1 - Accuracy:= 0.45227396989069063\n",
            "Number of Epoch = 2 - Categorical Cross-Entropy:= 0.026803446280856093\n",
            "Number of Epoch = 2 - Accuracy:= 0.45194571358816965\n",
            "Number of Epoch = 3 - Categorical Cross-Entropy:= 0.026746319426207983\n",
            "Number of Epoch = 3 - Accuracy:= 0.4529061517795595\n",
            "Number of Epoch = 4 - Categorical Cross-Entropy:= 0.026674517463235296\n",
            "Number of Epoch = 4 - Accuracy:= 0.45352862061572674\n",
            "Number of Epoch = 5 - Categorical Cross-Entropy:= 0.026487942735688025\n",
            "Number of Epoch = 5 - Accuracy:= 0.46576652206292674\n",
            "Number of Epoch = 6 - Categorical Cross-Entropy:= 0.025454971441701682\n",
            "Number of Epoch = 6 - Accuracy:= 0.5390406376173517\n",
            "Number of Epoch = 7 - Categorical Cross-Entropy:= 0.025367764000131302\n",
            "Number of Epoch = 7 - Accuracy:= 0.5384351586093422\n",
            "Number of Epoch = 8 - Categorical Cross-Entropy:= 0.02517694450827206\n",
            "Number of Epoch = 8 - Accuracy:= 0.5372534359202665\n",
            "Number of Epoch = 9 - Categorical Cross-Entropy:= 0.02505549583114496\n",
            "Number of Epoch = 9 - Accuracy:= 0.5393129236557904\n",
            "Number of Epoch = 10 - Categorical Cross-Entropy:= 0.024979957901129203\n",
            "Number of Epoch = 10 - Accuracy:= 0.540173698874081\n",
            "\n",
            "Total time taken (in seconds): 92.76\n"
          ]
        }
      ]
    },
    {
      "cell_type": "code",
      "source": [
        "test_loss_total = tf.Variable(0, dtype=tf.float32)\n",
        "accuracy_a = tf.zeros([], dtype=tf.float32)\n",
        "#test_loss_total = 0.0\n",
        "for inputs, outputs in test_ds:\n",
        "  preds = mlp_on_default.forward(inputs)\n",
        "\n",
        "  pred = tf.nn.softmax(preds)  # Apply softmax to logits\n",
        "  outputs = tf.cast(tf.reshape(outputs, (-1,10)), dtype=tf.float32)\n",
        "  pred = tf.cast(pred, dtype=tf.float32)\n",
        "\n",
        "  correct_prediction = tf.equal(tf.argmax(outputs, 1), tf.argmax(pred, 1))\n",
        "  # Calculate accuracy\n",
        "  accuracy = tf.reduce_mean(tf.cast(correct_prediction, \"float\"))\n",
        "  accuracy_a = accuracy_a + accuracy\n",
        "  #b = mlp_on_default.loss(preds, outputs)\n",
        "  test_loss_total = test_loss_total + mlp_on_default.loss(preds, outputs)\n",
        "# a = (test_loss_total.numpy() / X_train.shape[0])\n",
        "# print(X_train.shape[0])\n",
        "# print(test_loss_total.numpy())\n",
        "# print(b)\n",
        "print('Test Categorical_Cross-Entropy: {:.4f}'.format(np.sum(test_loss_total.numpy()) / x_train.shape[0]))\n",
        "print('Test Accuracy: {:.4f}'.format((np.sum(accuracy_a) / x_train.shape[0])*100))"
      ],
      "metadata": {
        "colab": {
          "base_uri": "https://localhost:8080/"
        },
        "id": "suGoIp9Yq_7i",
        "outputId": "e00c64f8-4e02-4591-a797-3b09f1ad2778"
      },
      "execution_count": 28,
      "outputs": [
        {
          "output_type": "stream",
          "name": "stdout",
          "text": [
            "Test Categorical_Cross-Entropy: 0.0240\n",
            "Test Accuracy: 0.5304\n"
          ]
        }
      ]
    },
    {
      "cell_type": "markdown",
      "source": [
        "# Plot- Bias & Varience"
      ],
      "metadata": {
        "id": "U-6OzoCIrPsJ"
      }
    },
    {
      "cell_type": "code",
      "source": [
        "import numpy as np\n",
        "import matplotlib.pyplot as plt\n",
        "\n",
        "accuracy_base = np.array([60.37, 56.23, 58.81, 55.41, 58.45, 54.99, 56.86, 61.25, 59.34, 57.56])/100.0\n",
        "mean_base = np.sum(accuracy_base)/accuracy_base.shape[0]\n",
        "standard_dev_base = np.sqrt(np.sum((accuracy_base-mean_base)**2)/(accuracy_base.shape[0]-1.0))\n",
        "standard_error_base = standard_dev_base/np.sqrt(accuracy_base.shape[0])\n",
        "variance_base = standard_dev_base**2\n",
        "\n",
        "\n",
        "\n",
        "\n",
        "accuracy_L2 = np.array([65.14, 60.81, 58.98, 59.55, 62.76, 54.91, 52.55, 60.10, 59.83, 52.74])/100.0\n",
        "mean_L1 = np.sum(accuracy_L2)/accuracy_L2.shape[0]\n",
        "standard_dev_L1 = np.sqrt(np.sum((accuracy_L2-mean_L1)**2)/(accuracy_L2.shape[0]-1.0))\n",
        "standard_error_L1 = standard_dev_L1/np.sqrt(accuracy_L2.shape[0])\n",
        "variance_L1 = standard_dev_L1**2\n",
        "\n",
        "accuracy_L1_L2 = np.array([65.21, 72.35, 67.62, 66.87, 70.47, 74.53, 69.56, 71.95, 64.33, 69.49])/100.0\n",
        "mean_L2 = np.sum(accuracy_L1_L2)/accuracy_L1_L2.shape[0]\n",
        "standard_dev_L2 = np.sqrt(np.sum((accuracy_L1_L2-mean_L2)**2)/(accuracy_L1_L2.shape[0]-1.0))\n",
        "standard_error_L2 = standard_dev_L2/np.sqrt(accuracy_L1_L2.shape[0])\n",
        "variance_L2 = standard_dev_L2**2\n",
        "\n",
        "\n",
        "x = np.array([0,1,2])\n",
        "y_mean = np.array([mean_base, mean_L1, mean_L2])\n",
        "y_standard_error = np.array([standard_error_base, standard_error_L1, standard_error_L2])\n",
        "y_variance = np.array([variance_base, variance_L1, variance_L2])\n",
        "\n",
        "plt.figure(0)\n",
        "my_xticks = ['Without Regularization','L2','L1+L2']\n",
        "plt.plot(x, y_mean, 'go', label='Mean Accuracy')\n",
        "plt.plot(x, y_standard_error, 'bo', label='Mean Standard Error')\n",
        "plt.plot(x, y_variance, 'ro', label='Mean Variance')\n",
        "plt.xticks(x, my_xticks)\n",
        "plt.xlabel('Model')\n",
        "plt.ylabel('Test Score')\n",
        "plt.title('MNIST-784 dataset')\n",
        "plt.legend()\n",
        "plt.savefig('plot.jpg',dpi=200)"
      ],
      "metadata": {
        "id": "4k4fny-6L04w",
        "colab": {
          "base_uri": "https://localhost:8080/",
          "height": 295
        },
        "outputId": "f96c919e-0f93-4690-ef0f-34244eee5efc"
      },
      "execution_count": 1,
      "outputs": [
        {
          "output_type": "display_data",
          "data": {
            "image/png": "[encoded data removed]",
            "text/plain": [
              "<Figure size 432x288 with 1 Axes>"
            ]
          },
          "metadata": {
            "needs_background": "light"
          }
        }
      ]
    },
    {
      "cell_type": "code",
      "source": [
        "acct = [65.14, 60.81, 58.98, 59.55, 62.76, 54.91, 52.55, 60.10, 59.83, 52.74]"
      ],
      "metadata": {
        "id": "_xsni_ReY48-"
      },
      "execution_count": 2,
      "outputs": []
    },
    {
      "cell_type": "code",
      "source": [
        "acct = [65.21, 72.35, 67.62, 66.87, 70.47, 74.53, 69.56, 71.95, 64.33, 69.49]"
      ],
      "metadata": {
        "id": "1O0djypFY42x"
      },
      "execution_count": 4,
      "outputs": []
    },
    {
      "cell_type": "code",
      "source": [
        "?from matplotlib import pyplot as plt\n",
        "plt.xlabel('Train Count')\n",
        "plt.ylabel('Test Accuracy')\n",
        "plt.title('MNIST-784 dataset')\n",
        "plt.plot(acct)\n",
        "# plt.plot(loss)"
      ],
      "metadata": {
        "colab": {
          "base_uri": "https://localhost:8080/",
          "height": 313
        },
        "id": "9juZFFLSvnsv",
        "outputId": "8258732c-ba30-4203-8587-b638e9b0fc6a"
      },
      "execution_count": 3,
      "outputs": [
        {
          "output_type": "execute_result",
          "data": {
            "text/plain": [
              "[<matplotlib.lines.Line2D at 0x7f31ea771350>]"
            ]
          },
          "metadata": {},
          "execution_count": 3
        },
        {
          "output_type": "display_data",
          "data": {
            "image/png": "[encoded data removed]",
            "text/plain": [
              "<Figure size 432x288 with 1 Axes>"
            ]
          },
          "metadata": {
            "needs_background": "light"
          }
        }
      ]
    },
    {
      "cell_type": "code",
      "source": [
        "from matplotlib import pyplot as plt\n",
        "plt.xlabel('Train Count')\n",
        "plt.ylabel('Test Accuracy')\n",
        "plt.title('MNIST-784 dataset')\n",
        "plt.plot(acct)\n",
        "# plt.plot(loss)"
      ],
      "metadata": {
        "colab": {
          "base_uri": "https://localhost:8080/",
          "height": 313
        },
        "id": "5GOUs8aKY4Yl",
        "outputId": "8bff3e15-36e3-4693-cd00-6c9a385fb090"
      },
      "execution_count": 5,
      "outputs": [
        {
          "output_type": "execute_result",
          "data": {
            "text/plain": [
              "[<matplotlib.lines.Line2D at 0x7f31e4616090>]"
            ]
          },
          "metadata": {},
          "execution_count": 5
        },
        {
          "output_type": "display_data",
          "data": {
            "image/png": "[encoded data removed]",
            "text/plain": [
              "<Figure size 432x288 with 1 Axes>"
            ]
          },
          "metadata": {
            "needs_background": "light"
          }
        }
      ]
    },
    {
      "cell_type": "code",
      "source": [
        ""
      ],
      "metadata": {
        "id": "E54drndbZBKt"
      },
      "execution_count": null,
      "outputs": []
    }
  ]
}