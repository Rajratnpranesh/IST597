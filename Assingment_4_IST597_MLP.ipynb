{
  "cells": [
    {
      "cell_type": "code",
      "execution_count": 16,
      "metadata": {
        "id": "_iYcla4kCX67"
      },
      "outputs": [],
      "source": [
        "import os\n",
        "import numpy as np\n",
        "import time\n",
        "import tensorflow as tf\n",
        "from tensorflow import keras\n",
        "\n",
        "import matplotlib.pyplot as plt\n",
        "\n",
        "\n",
        "np.random.seed(5997)\n",
        "tf.random.set_seed(5995)"
      ]
    },
    {
      "cell_type": "code",
      "execution_count": 17,
      "metadata": {
        "colab": {
          "base_uri": "https://localhost:8080/"
        },
        "id": "Kgna3kY6CX67",
        "outputId": "67552213-1f7b-4f7b-963f-debf6e1df3aa"
      },
      "outputs": [
        {
          "output_type": "execute_result",
          "data": {
            "text/plain": [
              "[]"
            ]
          },
          "metadata": {},
          "execution_count": 17
        }
      ],
      "source": [
        "tf.config.list_physical_devices('GPU')"
      ]
    },
    {
      "cell_type": "code",
      "execution_count": 18,
      "metadata": {
        "colab": {
          "base_uri": "https://localhost:8080/",
          "height": 168
        },
        "id": "JodgHy9nCX68",
        "outputId": "95e73206-2e5a-4cd3-a4d7-1804397c47d9"
      },
      "outputs": [
        {
          "output_type": "display_data",
          "data": {
            "text/plain": [
              "<Figure size 432x288 with 3 Axes>"
            ],
            "image/png": "[encoded data removed]"
          },
          "metadata": {
            "needs_background": "light"
          }
        }
      ],
      "source": [
        "(X_train, y_train), (X_test, y_test) = keras.datasets.fashion_mnist.load_data() # Load MNIST or FMNIST\n",
        "assert X_train.shape == (60000, 28, 28)\n",
        "assert X_test.shape == (10000, 28, 28)\n",
        "assert y_train.shape == (60000,)\n",
        "assert y_test.shape == (10000,)\n",
        "\n",
        "\n",
        "# Display randomly selected data\n",
        "indices = list(np.random.randint(X_train.shape[0],size=3))\n",
        "for i in range(3):\n",
        "    plt.subplot(1,3,i+1)\n",
        "    plt.imshow(X_train[indices[i]].reshape(28,28), cmap='gray', interpolation='none')\n",
        "    plt.title(\"Index {} Class {}\".format(indices[i], y_train[indices[i]]))\n",
        "    plt.tight_layout()"
      ]
    },
    {
      "cell_type": "code",
      "execution_count": 19,
      "metadata": {
        "colab": {
          "base_uri": "https://localhost:8080/"
        },
        "id": "oIRI-uLoCX69",
        "outputId": "d944508d-75b0-48aa-b928-fc21d5dfc5ec"
      },
      "outputs": [
        {
          "output_type": "stream",
          "name": "stdout",
          "text": [
            "size of training set is 50000 samples\n",
            "every train example is 28 by 28\n",
            "size of validation set is 10000 samples\n",
            "every validation example is 28 by 28\n",
            "size of training set is 50000 samples\n",
            "every train example has 784 features\n",
            "size of validation set is 10000 samples\n",
            "every validation example has 784 features\n"
          ]
        }
      ],
      "source": [
        "# Split train dataset into train and validation\n",
        "X_val = X_train[50000:60000]\n",
        "X_train = X_train[0:50000]\n",
        "y_val = y_train[50000:60000]\n",
        "y_train = y_train[0:50000]\n",
        "\n",
        "print(\"size of training set is\", str(X_train.shape[0]), \"samples\")\n",
        "print(\"every train example is\", str(X_train.shape[1]), \"by\", str(X_train.shape[2]))\n",
        "\n",
        "print(\"size of validation set is\", str(X_val.shape[0]), \"samples\")\n",
        "print(\"every validation example is\", str(X_val.shape[1]), \"by\", str(X_val.shape[2]))\n",
        "\n",
        "X_train = X_train.reshape(50000, 28*28)\n",
        "X_val = X_val.reshape(10000, 28*28)\n",
        "X_test = X_test.reshape(10000, 28*28)\n",
        "\n",
        "print(\"size of training set is\", str(X_train.shape[0]), \"samples\")\n",
        "print(\"every train example has\", str(X_train.shape[1]), \"features\")\n",
        "\n",
        "print(\"size of validation set is\", str(X_val.shape[0]), \"samples\")\n",
        "print(\"every validation example has\", str(X_val.shape[1]), \"features\")\n",
        "\n",
        "# Split dataset into batches\n",
        "#train_ds = tf.data.Dataset.from_tensor_slices((X_train, y_train)).batch(16)\n",
        "#test_ds = tf.data.Dataset.from_tensor_slices((X_test, y_test)).batch(4)"
      ]
    },
    {
      "cell_type": "code",
      "execution_count": 20,
      "metadata": {
        "colab": {
          "base_uri": "https://localhost:8080/"
        },
        "id": "mDyZ8bZjCX69",
        "outputId": "3108138b-bbb6-4e03-8ee1-b1b49340d1c1"
      },
      "outputs": [
        {
          "output_type": "execute_result",
          "data": {
            "text/plain": [
              "1.0"
            ]
          },
          "metadata": {},
          "execution_count": 20
        }
      ],
      "source": [
        "#Normalize Data\n",
        "\n",
        "X_train = X_train/255\n",
        "X_val = X_val/255\n",
        "X_test = X_test/255\n",
        "# X_train[0]\n",
        "np.max(X_train)"
      ]
    },
    {
      "cell_type": "code",
      "execution_count": 21,
      "metadata": {
        "colab": {
          "base_uri": "https://localhost:8080/"
        },
        "id": "3lIIy313CX69",
        "outputId": "4f796f9e-5f08-4e07-cfd1-085a4e069b73"
      },
      "outputs": [
        {
          "output_type": "stream",
          "name": "stdout",
          "text": [
            "tf.Tensor([10000    10], shape=(2,), dtype=int32)\n"
          ]
        }
      ],
      "source": [
        "size_input = X_train.shape[1]\n",
        "size_hidden1 = 128\n",
        "size_hidden2 = 128\n",
        "size_hidden3 = 128\n",
        "size_output = 10\n",
        "\n",
        "number_of_train_examples = X_train.shape[0]\n",
        "number_of_test_examples = X_test.shape[0]\n",
        "\n",
        "y_train = tf.keras.utils.to_categorical(y_train, num_classes=10) # Other function is tf.one_hot(y_train,depth=10)\n",
        "y_val = tf.keras.utils.to_categorical(y_val, num_classes=10)\n",
        "y_test = tf.keras.utils.to_categorical(y_test, num_classes=10)\n",
        "print(tf.shape(y_val))"
      ]
    },
    {
      "cell_type": "code",
      "source": [
        "from keras.layers import Layer\n",
        "import tensorflow as tf\n",
        "\n",
        "class CustomBatchNorm(Layer):\n",
        "    def __init__(self):\n",
        "        super(CustomBatchNorm, self).__init__()\n",
        "\n",
        "        self.eps=1e-5\n",
        "\n",
        "    def build(self, input_shape):\n",
        "        self.beta = self.add_weight(\n",
        "            shape=(input_shape[-1]),\n",
        "            initializer=\"zeros\",\n",
        "            trainable=True,\n",
        "        )\n",
        "\n",
        "        self.gamma = self.add_weight(\n",
        "            shape=(input_shape[-1]),\n",
        "            initializer=\"ones\",\n",
        "            trainable=True,\n",
        "        )\n",
        "\n",
        "        self.moving_mean = self.add_weight(\n",
        "            shape=(input_shape[-1]),\n",
        "            initializer=tf.initializers.zeros,\n",
        "            trainable=False)\n",
        "\n",
        "        self.moving_variance = self.add_weight(\n",
        "            shape=(input_shape[-1]),\n",
        "            initializer=tf.initializers.ones,\n",
        "            trainable=False)\n",
        "\n",
        "    def get_moving_average(self, statistic, new_value):\n",
        "        momentum = 0.9\n",
        "        new_value = statistic * momentum + new_value * (1 - momentum)\n",
        "        return statistic.assign(new_value)\n",
        "\n",
        "    def normalise(self, x, x_mean, x_var):\n",
        "        return (x - x_mean) / tf.sqrt(x_var + 1e-6)\n",
        "\n",
        "    def call(self, inputs, training):\n",
        "        if training:\n",
        "            # assert len(inputs.shape) in (2, 4)\n",
        "            # if len(inputs.shape) > 2:\n",
        "            #     axes = [0, 1, 2]\n",
        "            # else:\n",
        "            #     axes = [0]\n",
        "            # mean, var = tf.nn.moments(inputs, axes=axes, keepdims=False)\n",
        "            \n",
        "            axes = list(range(len(inputs.shape) - 1))\n",
        "            batch_mean = tf.reduce_mean(inputs, axes, keepdims=True)\n",
        "            batch_variance = tf.reduce_mean(tf.math.squared_difference(inputs, tf.stop_gradient(batch_mean)), axes, keepdims=True)\n",
        "            mean = tf.squeeze(batch_mean, axes)\n",
        "            var = tf.squeeze(batch_variance, axes)\n",
        "            self.moving_mean.assign(self.get_moving_average(self.moving_mean, mean))\n",
        "            self.moving_variance.assign(self.get_moving_average(self.moving_variance, var))\n",
        "        else:\n",
        "            mean, var = self.moving_mean, self.moving_variance\n",
        "            \n",
        "        inv = tf.cast(tf.math.rsqrt(var + self.eps), inputs.dtype)\n",
        "        # Scale and shift\n",
        "        inv *= self.gamma\n",
        "        Y = inputs * inv + (self.beta - mean * inv)\n",
        "        return Y"
      ],
      "metadata": {
        "id": "upBvR79XiERs"
      },
      "execution_count": 22,
      "outputs": []
    },
    {
      "cell_type": "markdown",
      "source": [
        "# Pre-activation MLP class"
      ],
      "metadata": {
        "id": "WVblBvVQrxFg"
      }
    },
    {
      "cell_type": "code",
      "execution_count": 23,
      "metadata": {
        "id": "obN7WPLpCX69"
      },
      "outputs": [],
      "source": [
        "# Define class to build mlp model\n",
        "class MLP(object):\n",
        " def __init__(self, size_input, size_hidden1, size_hidden2, size_hidden3, size_output, device=None):\n",
        "    \"\"\"\n",
        "    size_input: int, size of input layer\n",
        "    size_hidden1: int, size of the 1st hidden layer\n",
        "    size_hidden2: int, size of the 2nd hidden layer\n",
        "    size_output: int, size of output layer\n",
        "    device: str or None, either 'cpu' or 'gpu' or None. If None, the device to be used will be decided automatically during Eager Execution\n",
        "    \"\"\"\n",
        "    self.size_input, self.size_hidden1, self.size_hidden2, self.size_hidden3, self.size_output, self.device =\\\n",
        "    size_input, size_hidden1, size_hidden2, size_hidden3, size_output, device\n",
        "    \n",
        "    # Initialize weights between input mapping and a layer g(f(x)) = layer\n",
        "    self.W1 = tf.Variable(tf.random.normal([self.size_input, self.size_hidden1],stddev=0.1)) # Xavier(Fan-in fan-out) and Orthogonal\n",
        "    # Initialize biases for hidden layer\n",
        "    self.b1 = tf.Variable(tf.zeros([1, self.size_hidden1])) # 0 or constant(0.01)\n",
        "    \n",
        "    # Initialize weights between input layer and 1st hidden layer\n",
        "    self.W2 = tf.Variable(tf.random.normal([self.size_hidden1, self.size_hidden2],stddev=0.1))\n",
        "    # Initialize biases for hidden layer\n",
        "    self.b2 = tf.Variable(tf.zeros([1, self.size_hidden2]))\n",
        "    \n",
        "    # Initialize weights between 1st hidden layer and 2nd hidden layer\n",
        "    self.W3 = tf.Variable(tf.random.normal([self.size_hidden2, self.size_hidden3],stddev=0.1))\n",
        "    # Initialize biases for hidden layer\n",
        "    self.b3 = tf.Variable(tf.zeros([1, self.size_hidden3]))\n",
        "    \n",
        "     # Initialize weights between 2nd hidden layer and output layer\n",
        "    self.W4 = tf.Variable(tf.random.normal([self.size_hidden3, self.size_output],stddev=0.1))\n",
        "    # Initialize biases for output layer\n",
        "    self.b4 = tf.Variable(tf.zeros([1, self.size_output]))\n",
        "    \n",
        "    # Define variables to be updated during backpropagation\n",
        "    self.variables = [self.W1, self.W2, self.W3, self.W4, self.b1, self.b2, self.b3, self.b4]\n",
        "  \n",
        " def forward(self, X,is_train):\n",
        "    \"\"\"\n",
        "    forward pass\n",
        "    X: Tensor, inputs\n",
        "    \"\"\"\n",
        "    if self.device is not None:\n",
        "      with tf.device('gpu:0' if self.device=='gpu' else 'cpu'):\n",
        "        self.y = self.compute_output(X, is_train)\n",
        "    else:\n",
        "      self.y = self.compute_output(X, is_train)\n",
        "      \n",
        "    return self.y\n",
        "\n",
        " def loss(self, y_pred, y_true):\n",
        "    '''\n",
        "    y_pred - Tensor of shape (batch_size, size_output)\n",
        "    y_true - Tensor of shape (batch_size, size_output)\n",
        "    '''\n",
        "    #y_true_tf = tf.cast(tf.reshape(y_true, (-1, self.size_output)), dtype=tf.float32)\n",
        "    y_true_tf = tf.cast(y_true, dtype=tf.float32)\n",
        "    y_pred_tf = tf.cast(y_pred, dtype=tf.float32)\n",
        "    cce = tf.keras.losses.CategoricalCrossentropy(from_logits=True)\n",
        "    loss_x = cce(y_true_tf, y_pred_tf)\n",
        "    # Use keras or tf_softmax, both should work for any given model\n",
        "    #loss_x = tf.reduce_mean(tf.nn.softmax_cross_entropy_with_logits(logits=y_pred_tf, labels=y_true_tf))\n",
        "    \n",
        "    return loss_x\n",
        "\n",
        "\n",
        " def backward(self, X_train, y_train,is_train):\n",
        "    \"\"\"\n",
        "    backward pass\n",
        "    \"\"\"\n",
        "    optimizer = tf.keras.optimizers.SGD(learning_rate = 0.1)\n",
        "    \n",
        "    with tf.GradientTape() as tape:\n",
        "        \n",
        "      predicted = self.forward(X_train,is_train)\n",
        "      current_loss = self.loss(predicted, y_train)\n",
        "        \n",
        "    grads = tape.gradient(current_loss, self.variables)\n",
        "    optimizer.apply_gradients(zip(grads, self.variables))\n",
        "\n",
        "    \n",
        "           \n",
        " def compute_output(self, X, is_train):\n",
        "    \"\"\"\n",
        "    Custom method to obtain output tensor during forward pass\n",
        "    \"\"\"\n",
        "    # if is_train == True:\n",
        "    # Cast X to float32\n",
        "    X_tf = tf.cast(X, dtype=tf.float32)\n",
        "    # print('Training')\n",
        "    # #X_tf = X\n",
        "    \n",
        "    # Compute values in hidden layers\n",
        "    z1 = tf.matmul(X_tf, self.W1) + self.b1\n",
        "    z1=CustomBatchNorm()(z1,training=is_train)\n",
        "    h1 = tf.nn.relu(z1)\n",
        "    \n",
        "    z2 = tf.matmul(h1, self.W2) + self.b2\n",
        "    z2=CustomBatchNorm()(z2,training=is_train)\n",
        "    h2 = tf.nn.relu(z2)\n",
        "    \n",
        "    z3 = tf.matmul(h2, self.W3) + self.b3\n",
        "    z3=CustomBatchNorm()(z3,training=is_train)\n",
        "    h3 = tf.nn.relu(z3)\n",
        "    output = tf.matmul(h3, self.W4) + self.b4\n",
        "    # else:\n",
        "    #   X_tf = tf.cast(X, dtype=tf.float32)\n",
        "    #   z1 = tf.matmul(X_tf, self.W1) + self.b1\n",
        "    #   z1=CustomBatchNorm()(z1,training=False)\n",
        "    #   h1 = tf.nn.relu(z1)\n",
        "      \n",
        "    #   z2 = tf.matmul(h1, self.W2) + self.b2\n",
        "    #   z2=CustomBatchNorm()(z2,training=False)\n",
        "    #   h2 = tf.nn.relu(z2)\n",
        "      \n",
        "    #   z3 = tf.matmul(h2, self.W3) + self.b3\n",
        "    #   z3=CustomBatchNorm()(z3,training=False)\n",
        "    #   h3 = tf.nn.relu(z3)  \n",
        "    #   output = tf.matmul(h3, self.W4) + self.b4   \n",
        "\n",
        "    # Compute output\n",
        "    \n",
        "    \n",
        "    #Now consider two things , First look at inbuild loss functions if they work with softmax or not and then change this \n",
        "    # Second add tf.Softmax(output) and then return this variable\n",
        "    return (output)\n"
      ]
    },
    {
      "cell_type": "markdown",
      "source": [
        "## Three Train Runs"
      ],
      "metadata": {
        "id": "ptVJ92oWkXTf"
      }
    },
    {
      "cell_type": "code",
      "source": [
        "is_train = True\n",
        "\n",
        "# Set number of epochs\n",
        "NUM_EPOCHS = 20\n",
        "\n",
        "# Initialize model using CPU\n",
        "mlp_on_cpu = MLP(size_input, size_hidden1, size_hidden2, size_hidden3, size_output, device='gpu')\n",
        "\n",
        "time_start = time.time()\n",
        "acc = []\n",
        "for epoch in range(NUM_EPOCHS):\n",
        "    \n",
        "  loss_total = tf.zeros([1,1], dtype=tf.float32)\n",
        "  lt = 0\n",
        "    \n",
        "  train_ds = tf.data.Dataset.from_tensor_slices((X_train, y_train)).shuffle(25, seed=epoch*(5997)).batch(128)\n",
        "  kz = 0\n",
        "  accuracy_z = 0.0\n",
        "  cur_train_acc = 0.0\n",
        "  for inputs, outputs in train_ds:\n",
        "    qw, tr = tf.shape(inputs)\n",
        "    kz = kz + 1\n",
        "    preds = mlp_on_cpu.forward(inputs,is_train) \n",
        "    loss_total = loss_total + mlp_on_cpu.loss(preds, outputs)\n",
        "    lt = lt + mlp_on_cpu.loss(preds, outputs)\n",
        "    mlp_on_cpu.backward(inputs, outputs,is_train)\n",
        "\n",
        "  preds = mlp_on_cpu.forward(X_train,is_train)\n",
        "  # Get probs, remember we only have logits from our forward function, we need to apply softmax on top of it to get probs\n",
        "  preds = tf.nn.softmax(preds)\n",
        "  correct_prediction = tf.equal(tf.argmax(preds, 1), tf.argmax(y_train, 1))\n",
        "  accuracy_z = accuracy_z + tf.reduce_mean(tf.cast(correct_prediction, \"float\"))\n",
        "  cur_train_acc += accuracy_z.numpy()\n",
        "  ds = cur_train_acc\n",
        "  print('\\nTrain Accuracy: {:.4f}'.format(ds))\n",
        "  acc.append(ds)\n",
        "  print('Number of Epoch = {} - Average Cross Entropy:= {} '.format(epoch + 1, np.sum(loss_total) / X_train.shape[0]))\n",
        "  preds_val = mlp_on_cpu.forward(X_val,is_train)\n",
        "  preds_val = tf.nn.softmax(preds_val)\n",
        "  correct_prediction = tf.equal(tf.argmax(preds_val, 1), tf.argmax(y_val, 1))\n",
        "\n",
        "  # Calculate accuracy\n",
        "  accuracy = tf.reduce_mean(tf.cast(correct_prediction, \"float\"))\n",
        "  cur_val_acc = accuracy.numpy()\n",
        "\n",
        "  print('\\nValidation Accuracy: {:.4f}'.format(cur_val_acc))\n",
        "  \n",
        "  plt.plot(epoch + 1, np.sum(loss_total) / X_train.shape[0], 'go')\n",
        "\n",
        "        \n",
        "time_taken = time.time() - time_start\n",
        "    \n",
        "# Validate model\n",
        "    \n",
        "\n",
        "\n",
        "print('\\nTotal time taken (in seconds): {:.2f}'.format(time_taken))\n",
        "#For per epoch_time = Total_Time / Number_of_epochs\n"
      ],
      "metadata": {
        "colab": {
          "base_uri": "https://localhost:8080/",
          "height": 1000
        },
        "outputId": "43bb2eeb-4932-46a6-e28b-0159b778f101",
        "id": "y2tl-pwtLQW7"
      },
      "execution_count": 9,
      "outputs": [
        {
          "output_type": "stream",
          "name": "stdout",
          "text": [
            "\n",
            "Train Accuracy: 0.8589\n",
            "Number of Epoch = 1 - Average Cross Entropy:= 0.004319722595214843 \n",
            "\n",
            "Validation Accuracy: 0.8463\n",
            "\n",
            "Train Accuracy: 0.8782\n",
            "Number of Epoch = 2 - Average Cross Entropy:= 0.003007080078125 \n",
            "\n",
            "Validation Accuracy: 0.8631\n",
            "\n",
            "Train Accuracy: 0.8906\n",
            "Number of Epoch = 3 - Average Cross Entropy:= 0.0026547885131835936 \n",
            "\n",
            "Validation Accuracy: 0.8731\n",
            "\n",
            "Train Accuracy: 0.8970\n",
            "Number of Epoch = 4 - Average Cross Entropy:= 0.002415638122558594 \n",
            "\n",
            "Validation Accuracy: 0.8722\n",
            "\n",
            "Train Accuracy: 0.9053\n",
            "Number of Epoch = 5 - Average Cross Entropy:= 0.002229101104736328 \n",
            "\n",
            "Validation Accuracy: 0.8757\n",
            "\n",
            "Train Accuracy: 0.9112\n",
            "Number of Epoch = 6 - Average Cross Entropy:= 0.002078346710205078 \n",
            "\n",
            "Validation Accuracy: 0.8776\n",
            "\n",
            "Train Accuracy: 0.9192\n",
            "Number of Epoch = 7 - Average Cross Entropy:= 0.0019297386169433593 \n",
            "\n",
            "Validation Accuracy: 0.8814\n",
            "\n",
            "Train Accuracy: 0.9231\n",
            "Number of Epoch = 8 - Average Cross Entropy:= 0.0017911866760253906 \n",
            "\n",
            "Validation Accuracy: 0.8800\n",
            "\n",
            "Train Accuracy: 0.9275\n",
            "Number of Epoch = 9 - Average Cross Entropy:= 0.0016744587707519531 \n",
            "\n",
            "Validation Accuracy: 0.8821\n",
            "\n",
            "Train Accuracy: 0.9323\n",
            "Number of Epoch = 10 - Average Cross Entropy:= 0.001555355224609375 \n",
            "\n",
            "Validation Accuracy: 0.8839\n",
            "\n",
            "Train Accuracy: 0.9364\n",
            "Number of Epoch = 11 - Average Cross Entropy:= 0.0014655839538574218 \n",
            "\n",
            "Validation Accuracy: 0.8854\n",
            "\n",
            "Train Accuracy: 0.9424\n",
            "Number of Epoch = 12 - Average Cross Entropy:= 0.00134828369140625 \n",
            "\n",
            "Validation Accuracy: 0.8869\n",
            "\n",
            "Train Accuracy: 0.9430\n",
            "Number of Epoch = 13 - Average Cross Entropy:= 0.001263005142211914 \n",
            "\n",
            "Validation Accuracy: 0.8877\n",
            "\n",
            "Train Accuracy: 0.9415\n",
            "Number of Epoch = 14 - Average Cross Entropy:= 0.0011829319763183594 \n",
            "\n",
            "Validation Accuracy: 0.8805\n",
            "\n",
            "Train Accuracy: 0.9471\n",
            "Number of Epoch = 15 - Average Cross Entropy:= 0.0011023347473144531 \n",
            "\n",
            "Validation Accuracy: 0.8859\n",
            "\n",
            "Train Accuracy: 0.9506\n",
            "Number of Epoch = 16 - Average Cross Entropy:= 0.0010217652893066407 \n",
            "\n",
            "Validation Accuracy: 0.8836\n",
            "\n",
            "Train Accuracy: 0.9500\n",
            "Number of Epoch = 17 - Average Cross Entropy:= 0.0009631459045410157 \n",
            "\n",
            "Validation Accuracy: 0.8806\n",
            "\n",
            "Train Accuracy: 0.9547\n",
            "Number of Epoch = 18 - Average Cross Entropy:= 0.0008914029693603516 \n",
            "\n",
            "Validation Accuracy: 0.8816\n",
            "\n",
            "Train Accuracy: 0.9560\n",
            "Number of Epoch = 19 - Average Cross Entropy:= 0.00082264404296875 \n",
            "\n",
            "Validation Accuracy: 0.8802\n",
            "\n",
            "Train Accuracy: 0.9561\n",
            "Number of Epoch = 20 - Average Cross Entropy:= 0.0007765682983398438 \n",
            "\n",
            "Validation Accuracy: 0.8803\n",
            "\n",
            "Total time taken (in seconds): 719.42\n"
          ]
        },
        {
          "output_type": "display_data",
          "data": {
            "text/plain": [
              "<Figure size 432x288 with 1 Axes>"
            ],
            "image/png": "[encoded data removed]"
          },
          "metadata": {
            "needs_background": "light"
          }
        }
      ]
    },
    {
      "cell_type": "code",
      "source": [
        "from matplotlib import pyplot as plt\n",
        "plt.xlabel('Epochs')\n",
        "plt.ylabel('Train Accuracy')\n",
        "plt.title('FMNIST-784 dataset')\n",
        "plt.plot(acc)"
      ],
      "metadata": {
        "colab": {
          "base_uri": "https://localhost:8080/",
          "height": 313
        },
        "id": "minsbRSVNh9_",
        "outputId": "06ea2cb7-8c6f-46c8-cd52-ae4c7648cb55"
      },
      "execution_count": null,
      "outputs": [
        {
          "output_type": "execute_result",
          "data": {
            "text/plain": [
              "[<matplotlib.lines.Line2D at 0x7f88b543e810>]"
            ]
          },
          "metadata": {},
          "execution_count": 61
        },
        {
          "output_type": "display_data",
          "data": {
            "text/plain": [
              "<Figure size 432x288 with 1 Axes>"
            ],
            "image/png": "[encoded data removed]"
          },
          "metadata": {
            "needs_background": "light"
          }
        }
      ]
    },
    {
      "cell_type": "code",
      "source": [
        "is_train = True\n",
        "\n",
        "# Set number of epochs\n",
        "NUM_EPOCHS = 20\n",
        "\n",
        "# Initialize model using CPU\n",
        "mlp_on_cpu = MLP(size_input, size_hidden1, size_hidden2, size_hidden3, size_output, device='gpu')\n",
        "\n",
        "time_start = time.time()\n",
        "acc = []\n",
        "for epoch in range(NUM_EPOCHS):\n",
        "    \n",
        "  loss_total = tf.zeros([1,1], dtype=tf.float32)\n",
        "  lt = 0\n",
        "    \n",
        "  train_ds = tf.data.Dataset.from_tensor_slices((X_train, y_train)).shuffle(25, seed=epoch*(5927)).batch(128)\n",
        "  kz = 0\n",
        "  accuracy_z = 0.0\n",
        "  cur_train_acc = 0.0\n",
        "  for inputs, outputs in train_ds:\n",
        "    qw, tr = tf.shape(inputs)\n",
        "    kz = kz + 1\n",
        "    preds = mlp_on_cpu.forward(inputs,is_train) \n",
        "    loss_total = loss_total + mlp_on_cpu.loss(preds, outputs)\n",
        "    lt = lt + mlp_on_cpu.loss(preds, outputs)\n",
        "    mlp_on_cpu.backward(inputs, outputs,is_train)\n",
        "\n",
        "  preds = mlp_on_cpu.forward(X_train,is_train)\n",
        "  # Get probs, remember we only have logits from our forward function, we need to apply softmax on top of it to get probs\n",
        "  preds = tf.nn.softmax(preds)\n",
        "  correct_prediction = tf.equal(tf.argmax(preds, 1), tf.argmax(y_train, 1))\n",
        "  accuracy_z = accuracy_z + tf.reduce_mean(tf.cast(correct_prediction, \"float\"))\n",
        "  cur_train_acc += accuracy_z.numpy()\n",
        "  ds = cur_train_acc\n",
        "  print('\\nTrain Accuracy: {:.4f}'.format(ds))\n",
        "  acc.append(ds)\n",
        "  print('Number of Epoch = {} - Average Cross Entropy:= {} '.format(epoch + 1, np.sum(loss_total) / X_train.shape[0]))\n",
        "  preds_val = mlp_on_cpu.forward(X_val,is_train)\n",
        "  preds_val = tf.nn.softmax(preds_val)\n",
        "  correct_prediction = tf.equal(tf.argmax(preds_val, 1), tf.argmax(y_val, 1))\n",
        "\n",
        "  # Calculate accuracy\n",
        "  accuracy = tf.reduce_mean(tf.cast(correct_prediction, \"float\"))\n",
        "  cur_val_acc = accuracy.numpy()\n",
        "\n",
        "  print('\\nValidation Accuracy: {:.4f}'.format(cur_val_acc))\n",
        "  \n",
        "  plt.plot(epoch + 1, np.sum(loss_total) / X_train.shape[0], 'go')\n",
        "\n",
        "        \n",
        "time_taken = time.time() - time_start\n",
        "    \n",
        "# Validate model\n",
        "    \n",
        "\n",
        "\n",
        "print('\\nTotal time taken (in seconds): {:.2f}'.format(time_taken))\n",
        "#For per epoch_time = Total_Time / Number_of_epochs\n"
      ],
      "metadata": {
        "colab": {
          "base_uri": "https://localhost:8080/",
          "height": 1000
        },
        "outputId": "861ee222-fd52-452c-c1cc-8f1f59426260",
        "id": "gcCoWdkVkhD6"
      },
      "execution_count": 24,
      "outputs": [
        {
          "output_type": "stream",
          "name": "stdout",
          "text": [
            "\n",
            "Train Accuracy: 0.8588\n",
            "Number of Epoch = 1 - Average Cross Entropy:= 0.004318357849121094 \n",
            "\n",
            "Validation Accuracy: 0.8472\n",
            "\n",
            "Train Accuracy: 0.8793\n",
            "Number of Epoch = 2 - Average Cross Entropy:= 0.0030068283081054687 \n",
            "\n",
            "Validation Accuracy: 0.8619\n",
            "\n",
            "Train Accuracy: 0.8899\n",
            "Number of Epoch = 3 - Average Cross Entropy:= 0.0026548342895507814 \n",
            "\n",
            "Validation Accuracy: 0.8720\n",
            "\n",
            "Train Accuracy: 0.8973\n",
            "Number of Epoch = 4 - Average Cross Entropy:= 0.0024157321166992187 \n",
            "\n",
            "Validation Accuracy: 0.8731\n",
            "\n",
            "Train Accuracy: 0.9060\n",
            "Number of Epoch = 5 - Average Cross Entropy:= 0.002231148223876953 \n",
            "\n",
            "Validation Accuracy: 0.8777\n",
            "\n",
            "Train Accuracy: 0.9121\n",
            "Number of Epoch = 6 - Average Cross Entropy:= 0.002078911895751953 \n",
            "\n",
            "Validation Accuracy: 0.8778\n",
            "\n",
            "Train Accuracy: 0.9193\n",
            "Number of Epoch = 7 - Average Cross Entropy:= 0.0019313716125488282 \n",
            "\n",
            "Validation Accuracy: 0.8813\n",
            "\n",
            "Train Accuracy: 0.9235\n",
            "Number of Epoch = 8 - Average Cross Entropy:= 0.001798544921875 \n",
            "\n",
            "Validation Accuracy: 0.8801\n",
            "\n",
            "Train Accuracy: 0.9275\n",
            "Number of Epoch = 9 - Average Cross Entropy:= 0.0016784165954589843 \n",
            "\n",
            "Validation Accuracy: 0.8834\n",
            "\n",
            "Train Accuracy: 0.9323\n",
            "Number of Epoch = 10 - Average Cross Entropy:= 0.001560901336669922 \n",
            "\n",
            "Validation Accuracy: 0.8832\n",
            "\n",
            "Train Accuracy: 0.9374\n",
            "Number of Epoch = 11 - Average Cross Entropy:= 0.0014683198547363282 \n",
            "\n",
            "Validation Accuracy: 0.8850\n",
            "\n",
            "Train Accuracy: 0.9411\n",
            "Number of Epoch = 12 - Average Cross Entropy:= 0.0013506959533691406 \n",
            "\n",
            "Validation Accuracy: 0.8851\n",
            "\n",
            "Train Accuracy: 0.9422\n",
            "Number of Epoch = 13 - Average Cross Entropy:= 0.0012731472778320313 \n",
            "\n",
            "Validation Accuracy: 0.8856\n",
            "\n",
            "Train Accuracy: 0.9412\n",
            "Number of Epoch = 14 - Average Cross Entropy:= 0.0011835262298583984 \n",
            "\n",
            "Validation Accuracy: 0.8810\n",
            "\n",
            "Train Accuracy: 0.9468\n",
            "Number of Epoch = 15 - Average Cross Entropy:= 0.00110719970703125 \n",
            "\n",
            "Validation Accuracy: 0.8827\n",
            "\n",
            "Train Accuracy: 0.9500\n",
            "Number of Epoch = 16 - Average Cross Entropy:= 0.001023607940673828 \n",
            "\n",
            "Validation Accuracy: 0.8850\n",
            "\n",
            "Train Accuracy: 0.9506\n",
            "Number of Epoch = 17 - Average Cross Entropy:= 0.0009613743591308594 \n",
            "\n",
            "Validation Accuracy: 0.8822\n",
            "\n",
            "Train Accuracy: 0.9514\n",
            "Number of Epoch = 18 - Average Cross Entropy:= 0.0008972879791259766 \n",
            "\n",
            "Validation Accuracy: 0.8783\n",
            "\n",
            "Train Accuracy: 0.9538\n",
            "Number of Epoch = 19 - Average Cross Entropy:= 0.0008300287628173828 \n",
            "\n",
            "Validation Accuracy: 0.8787\n",
            "\n",
            "Train Accuracy: 0.9545\n",
            "Number of Epoch = 20 - Average Cross Entropy:= 0.0007833522033691406 \n",
            "\n",
            "Validation Accuracy: 0.8797\n",
            "\n",
            "Total time taken (in seconds): 801.91\n"
          ]
        },
        {
          "output_type": "display_data",
          "data": {
            "text/plain": [
              "<Figure size 432x288 with 1 Axes>"
            ],
            "image/png": "[encoded data removed]"
          },
          "metadata": {
            "needs_background": "light"
          }
        }
      ]
    },
    {
      "cell_type": "code",
      "source": [
        "from matplotlib import pyplot as plt\n",
        "plt.xlabel('Epochs')\n",
        "plt.ylabel('Train Accuracy')\n",
        "plt.title('FMNIST-784 dataset')\n",
        "plt.plot(acc)"
      ],
      "metadata": {
        "colab": {
          "base_uri": "https://localhost:8080/",
          "height": 313
        },
        "outputId": "7d53e68f-424f-4401-aba4-33a62264dd58",
        "id": "sBYZrfS-khD6"
      },
      "execution_count": 25,
      "outputs": [
        {
          "output_type": "execute_result",
          "data": {
            "text/plain": [
              "[<matplotlib.lines.Line2D at 0x7fbe8d16f410>]"
            ]
          },
          "metadata": {},
          "execution_count": 25
        },
        {
          "output_type": "display_data",
          "data": {
            "text/plain": [
              "<Figure size 432x288 with 1 Axes>"
            ],
            "image/png": "[encoded data removed]"
          },
          "metadata": {
            "needs_background": "light"
          }
        }
      ]
    },
    {
      "cell_type": "code",
      "source": [
        "is_train = True\n",
        "\n",
        "# Set number of epochs\n",
        "NUM_EPOCHS = 20\n",
        "\n",
        "# Initialize model using CPU\n",
        "mlp_on_cpu = MLP(size_input, size_hidden1, size_hidden2, size_hidden3, size_output, device='gpu')\n",
        "\n",
        "time_start = time.time()\n",
        "acc = []\n",
        "for epoch in range(NUM_EPOCHS):\n",
        "    \n",
        "  loss_total = tf.zeros([1,1], dtype=tf.float32)\n",
        "  lt = 0\n",
        "    \n",
        "  train_ds = tf.data.Dataset.from_tensor_slices((X_train, y_train)).shuffle(25, seed=epoch*(5397)).batch(128)\n",
        "  kz = 0\n",
        "  accuracy_z = 0.0\n",
        "  cur_train_acc = 0.0\n",
        "  for inputs, outputs in train_ds:\n",
        "    qw, tr = tf.shape(inputs)\n",
        "    kz = kz + 1\n",
        "    preds = mlp_on_cpu.forward(inputs,is_train) \n",
        "    loss_total = loss_total + mlp_on_cpu.loss(preds, outputs)\n",
        "    lt = lt + mlp_on_cpu.loss(preds, outputs)\n",
        "    mlp_on_cpu.backward(inputs, outputs,is_train)\n",
        "\n",
        "  preds = mlp_on_cpu.forward(X_train,is_train)\n",
        "  # Get probs, remember we only have logits from our forward function, we need to apply softmax on top of it to get probs\n",
        "  preds = tf.nn.softmax(preds)\n",
        "  correct_prediction = tf.equal(tf.argmax(preds, 1), tf.argmax(y_train, 1))\n",
        "  accuracy_z = accuracy_z + tf.reduce_mean(tf.cast(correct_prediction, \"float\"))\n",
        "  cur_train_acc += accuracy_z.numpy()\n",
        "  ds = cur_train_acc\n",
        "  print('\\nTrain Accuracy: {:.4f}'.format(ds))\n",
        "  acc.append(ds)\n",
        "  print('Number of Epoch = {} - Average Cross Entropy:= {} '.format(epoch + 1, np.sum(loss_total) / X_train.shape[0]))\n",
        "  preds_val = mlp_on_cpu.forward(X_val,is_train)\n",
        "  preds_val = tf.nn.softmax(preds_val)\n",
        "  correct_prediction = tf.equal(tf.argmax(preds_val, 1), tf.argmax(y_val, 1))\n",
        "\n",
        "  # Calculate accuracy\n",
        "  accuracy = tf.reduce_mean(tf.cast(correct_prediction, \"float\"))\n",
        "  cur_val_acc = accuracy.numpy()\n",
        "\n",
        "  print('\\nValidation Accuracy: {:.4f}'.format(cur_val_acc))\n",
        "  \n",
        "  plt.plot(epoch + 1, np.sum(loss_total) / X_train.shape[0], 'go')\n",
        "\n",
        "        \n",
        "time_taken = time.time() - time_start\n",
        "    \n",
        "# Validate model\n",
        "    \n",
        "\n",
        "\n",
        "print('\\nTotal time taken (in seconds): {:.2f}'.format(time_taken))\n",
        "#For per epoch_time = Total_Time / Number_of_epochs\n"
      ],
      "metadata": {
        "colab": {
          "base_uri": "https://localhost:8080/",
          "height": 1000
        },
        "outputId": "15551e98-af9b-4927-9031-f6b501d022ca",
        "id": "bkyH7CSYkhxr"
      },
      "execution_count": 27,
      "outputs": [
        {
          "output_type": "stream",
          "name": "stdout",
          "text": [
            "\n",
            "Train Accuracy: 0.8584\n",
            "Number of Epoch = 1 - Average Cross Entropy:= 0.004245240173339844 \n",
            "\n",
            "Validation Accuracy: 0.8449\n",
            "\n",
            "Train Accuracy: 0.8801\n",
            "Number of Epoch = 2 - Average Cross Entropy:= 0.002991414794921875 \n",
            "\n",
            "Validation Accuracy: 0.8617\n",
            "\n",
            "Train Accuracy: 0.8905\n",
            "Number of Epoch = 3 - Average Cross Entropy:= 0.00264223876953125 \n",
            "\n",
            "Validation Accuracy: 0.8676\n",
            "\n",
            "Train Accuracy: 0.9007\n",
            "Number of Epoch = 4 - Average Cross Entropy:= 0.0024050970458984375 \n",
            "\n",
            "Validation Accuracy: 0.8735\n",
            "\n",
            "Train Accuracy: 0.9085\n",
            "Number of Epoch = 5 - Average Cross Entropy:= 0.0022164158630371095 \n",
            "\n",
            "Validation Accuracy: 0.8784\n",
            "\n",
            "Train Accuracy: 0.9125\n",
            "Number of Epoch = 6 - Average Cross Entropy:= 0.0020558448791503908 \n",
            "\n",
            "Validation Accuracy: 0.8745\n",
            "\n",
            "Train Accuracy: 0.9193\n",
            "Number of Epoch = 7 - Average Cross Entropy:= 0.0019050828552246094 \n",
            "\n",
            "Validation Accuracy: 0.8764\n",
            "\n",
            "Train Accuracy: 0.9235\n",
            "Number of Epoch = 8 - Average Cross Entropy:= 0.0017764181518554688 \n",
            "\n",
            "Validation Accuracy: 0.8762\n",
            "\n",
            "Train Accuracy: 0.9284\n",
            "Number of Epoch = 9 - Average Cross Entropy:= 0.0016545701599121093 \n",
            "\n",
            "Validation Accuracy: 0.8757\n",
            "\n",
            "Train Accuracy: 0.9303\n",
            "Number of Epoch = 10 - Average Cross Entropy:= 0.0015383201599121093 \n",
            "\n",
            "Validation Accuracy: 0.8747\n",
            "\n",
            "Train Accuracy: 0.9356\n",
            "Number of Epoch = 11 - Average Cross Entropy:= 0.0014327145385742187 \n",
            "\n",
            "Validation Accuracy: 0.8746\n",
            "\n",
            "Train Accuracy: 0.9370\n",
            "Number of Epoch = 12 - Average Cross Entropy:= 0.0013344305419921874 \n",
            "\n",
            "Validation Accuracy: 0.8753\n",
            "\n",
            "Train Accuracy: 0.9400\n",
            "Number of Epoch = 13 - Average Cross Entropy:= 0.0012376461029052735 \n",
            "\n",
            "Validation Accuracy: 0.8744\n",
            "\n",
            "Train Accuracy: 0.9436\n",
            "Number of Epoch = 14 - Average Cross Entropy:= 0.0011594921112060546 \n",
            "\n",
            "Validation Accuracy: 0.8751\n",
            "\n",
            "Train Accuracy: 0.9474\n",
            "Number of Epoch = 15 - Average Cross Entropy:= 0.001061980209350586 \n",
            "\n",
            "Validation Accuracy: 0.8756\n",
            "\n",
            "Train Accuracy: 0.9484\n",
            "Number of Epoch = 16 - Average Cross Entropy:= 0.0010006948852539063 \n",
            "\n",
            "Validation Accuracy: 0.8741\n",
            "\n",
            "Train Accuracy: 0.9408\n",
            "Number of Epoch = 17 - Average Cross Entropy:= 0.0009173426818847656 \n",
            "\n",
            "Validation Accuracy: 0.8678\n",
            "\n",
            "Train Accuracy: 0.9549\n",
            "Number of Epoch = 18 - Average Cross Entropy:= 0.0008618130493164062 \n",
            "\n",
            "Validation Accuracy: 0.8757\n",
            "\n",
            "Train Accuracy: 0.9564\n",
            "Number of Epoch = 19 - Average Cross Entropy:= 0.0007877198791503906 \n",
            "\n",
            "Validation Accuracy: 0.8744\n",
            "\n",
            "Train Accuracy: 0.9572\n",
            "Number of Epoch = 20 - Average Cross Entropy:= 0.0007257012939453125 \n",
            "\n",
            "Validation Accuracy: 0.8737\n",
            "\n",
            "Total time taken (in seconds): 733.10\n"
          ]
        },
        {
          "output_type": "display_data",
          "data": {
            "text/plain": [
              "<Figure size 432x288 with 1 Axes>"
            ],
            "image/png": "[encoded data removed]"
          },
          "metadata": {
            "needs_background": "light"
          }
        }
      ]
    },
    {
      "cell_type": "code",
      "source": [
        "from matplotlib import pyplot as plt\n",
        "plt.xlabel('Epochs')\n",
        "plt.ylabel('Train Accuracy')\n",
        "plt.title('FMNIST-784 dataset')\n",
        "plt.plot(acc)"
      ],
      "metadata": {
        "colab": {
          "base_uri": "https://localhost:8080/",
          "height": 313
        },
        "outputId": "e6e6db15-75d5-4b85-a16b-83e814c97aa4",
        "id": "trM4Gvnnkhxs"
      },
      "execution_count": 28,
      "outputs": [
        {
          "output_type": "execute_result",
          "data": {
            "text/plain": [
              "[<matplotlib.lines.Line2D at 0x7fbe8d055090>]"
            ]
          },
          "metadata": {},
          "execution_count": 28
        },
        {
          "output_type": "display_data",
          "data": {
            "text/plain": [
              "<Figure size 432x288 with 1 Axes>"
            ],
            "image/png": "[encoded data removed]"
          },
          "metadata": {
            "needs_background": "light"
          }
        }
      ]
    },
    {
      "cell_type": "markdown",
      "source": [
        "## Three Test Runs"
      ],
      "metadata": {
        "id": "co2jZeiwkjIH"
      }
    },
    {
      "cell_type": "code",
      "source": [
        "# Initialize\n",
        "is_train = False\n",
        "\n",
        "test_loss_total = tf.Variable(0, dtype=tf.float32)\n",
        "correct_prediction = tf.Variable(0, dtype=tf.float32)\n",
        "\n",
        "\n",
        "test_ds = tf.data.Dataset.from_tensor_slices((X_test, y_test)).batch(4)\n",
        "\n",
        "\n",
        "#test_loss_total = 0.0\n",
        "for inputs, outputs in test_ds:\n",
        "  preds = mlp_on_cpu.forward(inputs,is_train)\n",
        "  test_loss_total = test_loss_total + mlp_on_cpu.loss(preds, outputs)\n",
        "print('Test loss: {:.4f}'.format(np.sum(test_loss_total.numpy()) / X_test.shape[0]))\n",
        "\n",
        "# Test model\n",
        "preds_test = mlp_on_cpu.forward(X_test,is_train)\n",
        "preds_test = tf.nn.softmax(preds_test)\n",
        "correct_prediction = tf.equal(tf.argmax(preds_test, 1), tf.argmax(y_test, 1))\n",
        "\n",
        "# Calculate accuracy\n",
        "accuracy = tf.reduce_mean(tf.cast(correct_prediction, \"float\"))\n",
        "cur_test_acc = accuracy.numpy()\n",
        "print('\\nTest Accuracy: {:.2f}'.format(cur_test_acc))\n"
      ],
      "metadata": {
        "colab": {
          "base_uri": "https://localhost:8080/"
        },
        "outputId": "4c930191-4ab1-4816-8411-4a79ac083e9d",
        "id": "goCdAafeLQW7"
      },
      "execution_count": 11,
      "outputs": [
        {
          "output_type": "stream",
          "name": "stdout",
          "text": [
            "Test loss: 0.3806\n",
            "\n",
            "Test Accuracy: 0.88\n"
          ]
        }
      ]
    },
    {
      "cell_type": "code",
      "source": [
        "# Initialize\n",
        "is_train = False\n",
        "\n",
        "test_loss_total = tf.Variable(0, dtype=tf.float32)\n",
        "correct_prediction = tf.Variable(0, dtype=tf.float32)\n",
        "\n",
        "\n",
        "test_ds = tf.data.Dataset.from_tensor_slices((X_test, y_test)).batch(4)\n",
        "\n",
        "\n",
        "#test_loss_total = 0.0\n",
        "for inputs, outputs in test_ds:\n",
        "  preds = mlp_on_cpu.forward(inputs,is_train)\n",
        "  test_loss_total = test_loss_total + mlp_on_cpu.loss(preds, outputs)\n",
        "print('Test loss: {:.4f}'.format(np.sum(test_loss_total.numpy()) / X_test.shape[0]))\n",
        "\n",
        "# Test model\n",
        "preds_test = mlp_on_cpu.forward(X_test,is_train)\n",
        "preds_test = tf.nn.softmax(preds_test)\n",
        "correct_prediction = tf.equal(tf.argmax(preds_test, 1), tf.argmax(y_test, 1))\n",
        "\n",
        "# Calculate accuracy\n",
        "accuracy = tf.reduce_mean(tf.cast(correct_prediction, \"float\"))\n",
        "cur_test_acc = accuracy.numpy()\n",
        "print('\\nTest Accuracy: {:.2f}'.format(cur_test_acc))\n"
      ],
      "metadata": {
        "colab": {
          "base_uri": "https://localhost:8080/"
        },
        "outputId": "0ab61843-5eb8-4416-97c0-299f670ba6d3",
        "id": "gmxLn3Ufkl83"
      },
      "execution_count": 26,
      "outputs": [
        {
          "output_type": "stream",
          "name": "stdout",
          "text": [
            "Test loss: 0.3842\n",
            "\n",
            "Test Accuracy: 0.87\n"
          ]
        }
      ]
    },
    {
      "cell_type": "code",
      "source": [
        "# Initialize\n",
        "is_train = False\n",
        "\n",
        "test_loss_total = tf.Variable(0, dtype=tf.float32)\n",
        "correct_prediction = tf.Variable(0, dtype=tf.float32)\n",
        "\n",
        "\n",
        "test_ds = tf.data.Dataset.from_tensor_slices((X_test, y_test)).batch(4)\n",
        "\n",
        "\n",
        "#test_loss_total = 0.0\n",
        "for inputs, outputs in test_ds:\n",
        "  preds = mlp_on_cpu.forward(inputs,is_train)\n",
        "  test_loss_total = test_loss_total + mlp_on_cpu.loss(preds, outputs)\n",
        "print('Test loss: {:.4f}'.format(np.sum(test_loss_total.numpy()) / X_test.shape[0]))\n",
        "\n",
        "# Test model\n",
        "preds_test = mlp_on_cpu.forward(X_test,is_train)\n",
        "preds_test = tf.nn.softmax(preds_test)\n",
        "correct_prediction = tf.equal(tf.argmax(preds_test, 1), tf.argmax(y_test, 1))\n",
        "\n",
        "# Calculate accuracy\n",
        "accuracy = tf.reduce_mean(tf.cast(correct_prediction, \"float\"))\n",
        "cur_test_acc = accuracy.numpy()\n",
        "print('\\nTest Accuracy: {:.2f}'.format(cur_test_acc))\n"
      ],
      "metadata": {
        "colab": {
          "base_uri": "https://localhost:8080/"
        },
        "outputId": "2a632e46-2512-4d7b-c227-398997f0823d",
        "id": "6md6A4iskmFL"
      },
      "execution_count": 30,
      "outputs": [
        {
          "output_type": "stream",
          "name": "stdout",
          "text": [
            "Test loss: 0.3813\n",
            "\n",
            "Test Accuracy: 0.87\n"
          ]
        }
      ]
    },
    {
      "cell_type": "markdown",
      "source": [
        "# Post-activation MLP class"
      ],
      "metadata": {
        "id": "Tt1MPB4YjRow"
      }
    },
    {
      "cell_type": "code",
      "source": [
        "from keras.layers import Layer\n",
        "import tensorflow as tf\n",
        "\n",
        "class CustomBatchNorm(Layer):\n",
        "    def __init__(self):\n",
        "        super(CustomBatchNorm, self).__init__()\n",
        "\n",
        "        self.eps=1e-5\n",
        "\n",
        "    def build(self, input_shape):\n",
        "        self.beta = self.add_weight(\n",
        "            shape=(input_shape[-1]),\n",
        "            initializer=\"zeros\",\n",
        "            trainable=True,\n",
        "        )\n",
        "\n",
        "        self.gamma = self.add_weight(\n",
        "            shape=(input_shape[-1]),\n",
        "            initializer=\"ones\",\n",
        "            trainable=True,\n",
        "        )\n",
        "\n",
        "        self.moving_mean = self.add_weight(\n",
        "            shape=(input_shape[-1]),\n",
        "            initializer=tf.initializers.zeros,\n",
        "            trainable=False)\n",
        "\n",
        "        self.moving_variance = self.add_weight(\n",
        "            shape=(input_shape[-1]),\n",
        "            initializer=tf.initializers.ones,\n",
        "            trainable=False)\n",
        "\n",
        "    def get_moving_average(self, statistic, new_value):\n",
        "        momentum = 0.9\n",
        "        new_value = statistic * momentum + new_value * (1 - momentum)\n",
        "        return statistic.assign(new_value)\n",
        "\n",
        "    def normalise(self, x, x_mean, x_var):\n",
        "        return (x - x_mean) / tf.sqrt(x_var + 1e-6)\n",
        "\n",
        "    def call(self, inputs, training):\n",
        "        if training:\n",
        "            # assert len(inputs.shape) in (2, 4)\n",
        "            # if len(inputs.shape) > 2:\n",
        "            #     axes = [0, 1, 2]\n",
        "            # else:\n",
        "            #     axes = [0]\n",
        "            # mean, var = tf.nn.moments(inputs, axes=axes, keepdims=False)\n",
        "            \n",
        "            axes = list(range(len(inputs.shape) - 1))\n",
        "            batch_mean = tf.reduce_mean(inputs, axes, keepdims=True)\n",
        "            batch_variance = tf.reduce_mean(tf.math.squared_difference(inputs, tf.stop_gradient(batch_mean)), axes, keepdims=True)\n",
        "            mean = tf.squeeze(batch_mean, axes)\n",
        "            var = tf.squeeze(batch_variance, axes)\n",
        "            self.moving_mean.assign(self.get_moving_average(self.moving_mean, mean))\n",
        "            self.moving_variance.assign(self.get_moving_average(self.moving_variance, var))\n",
        "        else:\n",
        "            mean, var = self.moving_mean, self.moving_variance\n",
        "            \n",
        "        inv = tf.cast(tf.math.rsqrt(var + self.eps), inputs.dtype)\n",
        "        # Scale and shift\n",
        "        inv *= self.gamma\n",
        "        Y = inputs * inv + (self.beta - mean * inv)\n",
        "        return Y"
      ],
      "metadata": {
        "id": "7TfKO-Ai0Z7u"
      },
      "execution_count": 31,
      "outputs": []
    },
    {
      "cell_type": "code",
      "execution_count": 32,
      "metadata": {
        "id": "6qOwJhsQjRox"
      },
      "outputs": [],
      "source": [
        "# Define class to build mlp model\n",
        "class MLP(object):\n",
        " def __init__(self, size_input, size_hidden1, size_hidden2, size_hidden3, size_output, device=None):\n",
        "    \"\"\"\n",
        "    size_input: int, size of input layer\n",
        "    size_hidden1: int, size of the 1st hidden layer\n",
        "    size_hidden2: int, size of the 2nd hidden layer\n",
        "    size_output: int, size of output layer\n",
        "    device: str or None, either 'cpu' or 'gpu' or None. If None, the device to be used will be decided automatically during Eager Execution\n",
        "    \"\"\"\n",
        "    self.size_input, self.size_hidden1, self.size_hidden2, self.size_hidden3, self.size_output, self.device =\\\n",
        "    size_input, size_hidden1, size_hidden2, size_hidden3, size_output, device\n",
        "    \n",
        "    # Initialize weights between input mapping and a layer g(f(x)) = layer\n",
        "    self.W1 = tf.Variable(tf.random.normal([self.size_input, self.size_hidden1],stddev=0.1)) # Xavier(Fan-in fan-out) and Orthogonal\n",
        "    # Initialize biases for hidden layer\n",
        "    self.b1 = tf.Variable(tf.zeros([1, self.size_hidden1])) # 0 or constant(0.01)\n",
        "    \n",
        "    # Initialize weights between input layer and 1st hidden layer\n",
        "    self.W2 = tf.Variable(tf.random.normal([self.size_hidden1, self.size_hidden2],stddev=0.1))\n",
        "    # Initialize biases for hidden layer\n",
        "    self.b2 = tf.Variable(tf.zeros([1, self.size_hidden2]))\n",
        "    \n",
        "    # Initialize weights between 1st hidden layer and 2nd hidden layer\n",
        "    self.W3 = tf.Variable(tf.random.normal([self.size_hidden2, self.size_hidden3],stddev=0.1))\n",
        "    # Initialize biases for hidden layer\n",
        "    self.b3 = tf.Variable(tf.zeros([1, self.size_hidden3]))\n",
        "    \n",
        "     # Initialize weights between 2nd hidden layer and output layer\n",
        "    self.W4 = tf.Variable(tf.random.normal([self.size_hidden3, self.size_output],stddev=0.1))\n",
        "    # Initialize biases for output layer\n",
        "    self.b4 = tf.Variable(tf.zeros([1, self.size_output]))\n",
        "    \n",
        "    # Define variables to be updated during backpropagation\n",
        "    self.variables = [self.W1, self.W2, self.W3, self.W4, self.b1, self.b2, self.b3, self.b4]\n",
        "  \n",
        " def forward(self, X,is_train):\n",
        "    \"\"\"\n",
        "    forward pass\n",
        "    X: Tensor, inputs\n",
        "    \"\"\"\n",
        "    if self.device is not None:\n",
        "      with tf.device('gpu:0' if self.device=='gpu' else 'cpu'):\n",
        "        self.y = self.compute_output(X, is_train)\n",
        "    else:\n",
        "      self.y = self.compute_output(X, is_train)\n",
        "      \n",
        "    return self.y\n",
        "\n",
        " def loss(self, y_pred, y_true):\n",
        "    '''\n",
        "    y_pred - Tensor of shape (batch_size, size_output)\n",
        "    y_true - Tensor of shape (batch_size, size_output)\n",
        "    '''\n",
        "    #y_true_tf = tf.cast(tf.reshape(y_true, (-1, self.size_output)), dtype=tf.float32)\n",
        "    y_true_tf = tf.cast(y_true, dtype=tf.float32)\n",
        "    y_pred_tf = tf.cast(y_pred, dtype=tf.float32)\n",
        "    cce = tf.keras.losses.CategoricalCrossentropy(from_logits=True)\n",
        "    loss_x = cce(y_true_tf, y_pred_tf)\n",
        "    # Use keras or tf_softmax, both should work for any given model\n",
        "    #loss_x = tf.reduce_mean(tf.nn.softmax_cross_entropy_with_logits(logits=y_pred_tf, labels=y_true_tf))\n",
        "    \n",
        "    return loss_x\n",
        "\n",
        "\n",
        " def backward(self, X_train, y_train,is_train):\n",
        "    \"\"\"\n",
        "    backward pass\n",
        "    \"\"\"\n",
        "    optimizer = tf.keras.optimizers.SGD(learning_rate = 0.1)\n",
        "    \n",
        "    with tf.GradientTape() as tape:\n",
        "        \n",
        "      predicted = self.forward(X_train,is_train)\n",
        "      current_loss = self.loss(predicted, y_train)\n",
        "        \n",
        "    grads = tape.gradient(current_loss, self.variables)\n",
        "    optimizer.apply_gradients(zip(grads, self.variables))\n",
        "\n",
        "    \n",
        "           \n",
        " def compute_output(self, X, is_train):\n",
        "    \"\"\"\n",
        "    Custom method to obtain output tensor during forward pass\n",
        "    \"\"\"\n",
        "    if is_train == True:\n",
        "    # Cast X to float32\n",
        "      X_tf = tf.cast(X, dtype=tf.float32)\n",
        "      # print('Training')\n",
        "      # #X_tf = X\n",
        "      \n",
        "      # Compute values in hidden layers\n",
        "      z1 = tf.matmul(X_tf, self.W1) + self.b1\n",
        "      h1 = tf.nn.relu(z1)\n",
        "      h1=CustomBatchNorm()(h1,training=True)\n",
        "      \n",
        "      z2 = tf.matmul(h1, self.W2) + self.b2\n",
        "      h2 = tf.nn.relu(z2)\n",
        "      h2=CustomBatchNorm()(h2,training=True)\n",
        "      \n",
        "      z3 = tf.matmul(h2, self.W3) + self.b3\n",
        "      h3 = tf.nn.relu(z3)\n",
        "      h3=CustomBatchNorm()(h3,training=True)\n",
        "\n",
        "      output = tf.matmul(h3, self.W4) + self.b4\n",
        "    else:\n",
        "      X_tf = tf.cast(X, dtype=tf.float32)\n",
        "      # #X_tf = X\n",
        "      \n",
        "      # Compute values in hidden layers\n",
        "      z1 = tf.matmul(X_tf, self.W1) + self.b1\n",
        "      h1 = tf.nn.relu(z1)\n",
        "      h1=CustomBatchNorm()(h1,training=False)\n",
        "      \n",
        "      z2 = tf.matmul(h1, self.W2) + self.b2\n",
        "      h2 = tf.nn.relu(z2)\n",
        "      h2=CustomBatchNorm()(h2,training=False)\n",
        "      \n",
        "      z3 = tf.matmul(h2, self.W3) + self.b3\n",
        "      h3 = tf.nn.relu(z3)\n",
        "      h3=CustomBatchNorm()(h3,training=False)\n",
        "\n",
        "      output = tf.matmul(h3, self.W4) + self.b4   \n",
        "\n",
        "    # Compute output\n",
        "    \n",
        "    \n",
        "    #Now consider two things , First look at inbuild loss functions if they work with softmax or not and then change this \n",
        "    # Second add tf.Softmax(output) and then return this variable\n",
        "    return (output)\n"
      ]
    },
    {
      "cell_type": "markdown",
      "source": [
        "## Three Train Run"
      ],
      "metadata": {
        "id": "pw0abu7gktgI"
      }
    },
    {
      "cell_type": "code",
      "source": [
        "is_train = True\n",
        "\n",
        "# Set number of epochs\n",
        "NUM_EPOCHS = 20\n",
        "\n",
        "# Initialize model using CPU\n",
        "mlp_on_cpu = MLP(size_input, size_hidden1, size_hidden2, size_hidden3, size_output, device='gpu')\n",
        "\n",
        "time_start = time.time()\n",
        "acc = []\n",
        "for epoch in range(NUM_EPOCHS):\n",
        "    \n",
        "  loss_total = tf.zeros([1,1], dtype=tf.float32)\n",
        "  lt = 0\n",
        "    \n",
        "  train_ds = tf.data.Dataset.from_tensor_slices((X_train, y_train)).shuffle(25, seed=epoch*(5997)).batch(128)\n",
        "  kz = 0\n",
        "  accuracy_z = 0.0\n",
        "  cur_train_acc = 0.0\n",
        "  for inputs, outputs in train_ds:\n",
        "    qw, tr = tf.shape(inputs)\n",
        "    kz = kz + 1\n",
        "    preds = mlp_on_cpu.forward(inputs,is_train) \n",
        "    loss_total = loss_total + mlp_on_cpu.loss(preds, outputs)\n",
        "    lt = lt + mlp_on_cpu.loss(preds, outputs)\n",
        "    mlp_on_cpu.backward(inputs, outputs,is_train)\n",
        "\n",
        "  preds = mlp_on_cpu.forward(X_train,is_train)\n",
        "  # Get probs, remember we only have logits from our forward function, we need to apply softmax on top of it to get probs\n",
        "  preds = tf.nn.softmax(preds)\n",
        "  correct_prediction = tf.equal(tf.argmax(preds, 1), tf.argmax(y_train, 1))\n",
        "  accuracy_z = accuracy_z + tf.reduce_mean(tf.cast(correct_prediction, \"float\"))\n",
        "  cur_train_acc += accuracy_z.numpy()\n",
        "  ds = cur_train_acc\n",
        "  print('\\nTrain Accuracy: {:.4f}'.format(ds))\n",
        "  acc.append(ds)\n",
        "  print('Number of Epoch = {} - Average Cross Entropy:= {} '.format(epoch + 1, np.sum(loss_total) / X_train.shape[0]))\n",
        "  preds_val = mlp_on_cpu.forward(X_val,is_train)\n",
        "  preds_val = tf.nn.softmax(preds_val)\n",
        "  correct_prediction = tf.equal(tf.argmax(preds_val, 1), tf.argmax(y_val, 1))\n",
        "\n",
        "  # Calculate accuracy\n",
        "  accuracy = tf.reduce_mean(tf.cast(correct_prediction, \"float\"))\n",
        "  cur_val_acc = accuracy.numpy()\n",
        "\n",
        "  print('\\nValidation Accuracy: {:.4f}'.format(cur_val_acc))\n",
        "  \n",
        "  plt.plot(epoch + 1, np.sum(loss_total) / X_train.shape[0], 'go')\n",
        "\n",
        "        \n",
        "time_taken = time.time() - time_start\n",
        "    \n",
        "# Validate model\n",
        "    \n",
        "\n",
        "\n",
        "print('\\nTotal time taken (in seconds): {:.2f}'.format(time_taken))\n",
        "#For per epoch_time = Total_Time / Number_of_epochs\n"
      ],
      "metadata": {
        "colab": {
          "base_uri": "https://localhost:8080/",
          "height": 1000
        },
        "outputId": "6c895798-d51d-451b-e835-e628c6dd336e",
        "id": "3CPtiDaWjRoy"
      },
      "execution_count": null,
      "outputs": [
        {
          "output_type": "stream",
          "name": "stdout",
          "text": [
            "\n",
            "Train Accuracy: 0.8621\n",
            "Number of Epoch = 1 - Average Cross Entropy:= 0.004060298461914062 \n",
            "\n",
            "Validation Accuracy: 0.8511\n",
            "\n",
            "Train Accuracy: 0.8793\n",
            "Number of Epoch = 2 - Average Cross Entropy:= 0.0029246661376953124 \n",
            "\n",
            "Validation Accuracy: 0.8632\n",
            "\n",
            "Train Accuracy: 0.8910\n",
            "Number of Epoch = 3 - Average Cross Entropy:= 0.002592463684082031 \n",
            "\n",
            "Validation Accuracy: 0.8725\n",
            "\n",
            "Train Accuracy: 0.9001\n",
            "Number of Epoch = 4 - Average Cross Entropy:= 0.0023688546752929688 \n",
            "\n",
            "Validation Accuracy: 0.8759\n",
            "\n",
            "Train Accuracy: 0.9034\n",
            "Number of Epoch = 5 - Average Cross Entropy:= 0.0021788693237304686 \n",
            "\n",
            "Validation Accuracy: 0.8758\n",
            "\n",
            "Train Accuracy: 0.9101\n",
            "Number of Epoch = 6 - Average Cross Entropy:= 0.00203756103515625 \n",
            "\n",
            "Validation Accuracy: 0.8781\n",
            "\n",
            "Train Accuracy: 0.9137\n",
            "Number of Epoch = 7 - Average Cross Entropy:= 0.0019003076171875 \n",
            "\n",
            "Validation Accuracy: 0.8791\n",
            "\n",
            "Train Accuracy: 0.9182\n",
            "Number of Epoch = 8 - Average Cross Entropy:= 0.00177418212890625 \n",
            "\n",
            "Validation Accuracy: 0.8783\n",
            "\n",
            "Train Accuracy: 0.9200\n",
            "Number of Epoch = 9 - Average Cross Entropy:= 0.0016734124755859376 \n",
            "\n",
            "Validation Accuracy: 0.8783\n",
            "\n",
            "Train Accuracy: 0.9248\n",
            "Number of Epoch = 10 - Average Cross Entropy:= 0.00155672607421875 \n",
            "\n",
            "Validation Accuracy: 0.8771\n",
            "\n",
            "Train Accuracy: 0.9316\n",
            "Number of Epoch = 11 - Average Cross Entropy:= 0.0014760646057128907 \n",
            "\n",
            "Validation Accuracy: 0.8797\n",
            "\n",
            "Train Accuracy: 0.9332\n",
            "Number of Epoch = 12 - Average Cross Entropy:= 0.0013745989990234374 \n",
            "\n",
            "Validation Accuracy: 0.8791\n",
            "\n",
            "Train Accuracy: 0.9371\n",
            "Number of Epoch = 13 - Average Cross Entropy:= 0.0012901632690429687 \n",
            "\n",
            "Validation Accuracy: 0.8797\n",
            "\n",
            "Train Accuracy: 0.9367\n",
            "Number of Epoch = 14 - Average Cross Entropy:= 0.0012237193298339844 \n",
            "\n",
            "Validation Accuracy: 0.8786\n",
            "\n",
            "Train Accuracy: 0.9420\n",
            "Number of Epoch = 15 - Average Cross Entropy:= 0.0011262162780761719 \n",
            "\n",
            "Validation Accuracy: 0.8784\n",
            "\n",
            "Train Accuracy: 0.9377\n",
            "Number of Epoch = 16 - Average Cross Entropy:= 0.0010720040130615235 \n",
            "\n",
            "Validation Accuracy: 0.8751\n",
            "\n",
            "Train Accuracy: 0.9437\n",
            "Number of Epoch = 17 - Average Cross Entropy:= 0.0010235717010498046 \n",
            "\n",
            "Validation Accuracy: 0.8768\n",
            "\n",
            "Train Accuracy: 0.9443\n",
            "Number of Epoch = 18 - Average Cross Entropy:= 0.0009376009368896485 \n",
            "\n",
            "Validation Accuracy: 0.8745\n",
            "\n",
            "Train Accuracy: 0.9455\n",
            "Number of Epoch = 19 - Average Cross Entropy:= 0.0009008533477783203 \n",
            "\n",
            "Validation Accuracy: 0.8771\n",
            "\n",
            "Train Accuracy: 0.9483\n",
            "Number of Epoch = 20 - Average Cross Entropy:= 0.0008639031982421875 \n",
            "\n",
            "Validation Accuracy: 0.8754\n",
            "\n",
            "Total time taken (in seconds): 686.97\n"
          ]
        },
        {
          "output_type": "display_data",
          "data": {
            "text/plain": [
              "<Figure size 432x288 with 1 Axes>"
            ],
            "image/png": "[encoded data removed]"
          },
          "metadata": {
            "needs_background": "light"
          }
        }
      ]
    },
    {
      "cell_type": "code",
      "source": [
        "from matplotlib import pyplot as plt\n",
        "plt.xlabel('Epochs')\n",
        "plt.ylabel('Train Accuracy')\n",
        "plt.title('FMNIST-784 dataset')\n",
        "plt.plot(acc)"
      ],
      "metadata": {
        "colab": {
          "base_uri": "https://localhost:8080/",
          "height": 313
        },
        "outputId": "1cb8472f-0f05-43c3-e91f-9f4c679518ba",
        "id": "A4b536_qjRoz"
      },
      "execution_count": null,
      "outputs": [
        {
          "output_type": "execute_result",
          "data": {
            "text/plain": [
              "[<matplotlib.lines.Line2D at 0x7f88b00c5ad0>]"
            ]
          },
          "metadata": {},
          "execution_count": 32
        },
        {
          "output_type": "display_data",
          "data": {
            "text/plain": [
              "<Figure size 432x288 with 1 Axes>"
            ],
            "image/png": "[encoded data removed]"
          },
          "metadata": {
            "needs_background": "light"
          }
        }
      ]
    },
    {
      "cell_type": "code",
      "source": [
        "is_train = True\n",
        "\n",
        "# Set number of epochs\n",
        "NUM_EPOCHS = 20\n",
        "\n",
        "# Initialize model using CPU\n",
        "mlp_on_cpu = MLP(size_input, size_hidden1, size_hidden2, size_hidden3, size_output, device='gpu')\n",
        "\n",
        "time_start = time.time()\n",
        "acc = []\n",
        "for epoch in range(NUM_EPOCHS):\n",
        "    \n",
        "  loss_total = tf.zeros([1,1], dtype=tf.float32)\n",
        "  lt = 0\n",
        "    \n",
        "  train_ds = tf.data.Dataset.from_tensor_slices((X_train, y_train)).shuffle(25, seed=epoch*(5197)).batch(128)\n",
        "  kz = 0\n",
        "  accuracy_z = 0.0\n",
        "  cur_train_acc = 0.0\n",
        "  for inputs, outputs in train_ds:\n",
        "    qw, tr = tf.shape(inputs)\n",
        "    kz = kz + 1\n",
        "    preds = mlp_on_cpu.forward(inputs,is_train) \n",
        "    loss_total = loss_total + mlp_on_cpu.loss(preds, outputs)\n",
        "    lt = lt + mlp_on_cpu.loss(preds, outputs)\n",
        "    mlp_on_cpu.backward(inputs, outputs,is_train)\n",
        "\n",
        "  preds = mlp_on_cpu.forward(X_train,is_train)\n",
        "  # Get probs, remember we only have logits from our forward function, we need to apply softmax on top of it to get probs\n",
        "  preds = tf.nn.softmax(preds)\n",
        "  correct_prediction = tf.equal(tf.argmax(preds, 1), tf.argmax(y_train, 1))\n",
        "  accuracy_z = accuracy_z + tf.reduce_mean(tf.cast(correct_prediction, \"float\"))\n",
        "  cur_train_acc += accuracy_z.numpy()\n",
        "  ds = cur_train_acc\n",
        "  print('\\nTrain Accuracy: {:.4f}'.format(ds))\n",
        "  acc.append(ds)\n",
        "  print('Number of Epoch = {} - Average Cross Entropy:= {} '.format(epoch + 1, np.sum(loss_total) / X_train.shape[0]))\n",
        "  preds_val = mlp_on_cpu.forward(X_val,is_train)\n",
        "  preds_val = tf.nn.softmax(preds_val)\n",
        "  correct_prediction = tf.equal(tf.argmax(preds_val, 1), tf.argmax(y_val, 1))\n",
        "\n",
        "  # Calculate accuracy\n",
        "  accuracy = tf.reduce_mean(tf.cast(correct_prediction, \"float\"))\n",
        "  cur_val_acc = accuracy.numpy()\n",
        "\n",
        "  print('\\nValidation Accuracy: {:.4f}'.format(cur_val_acc))\n",
        "  \n",
        "  plt.plot(epoch + 1, np.sum(loss_total) / X_train.shape[0], 'go')\n",
        "\n",
        "        \n",
        "time_taken = time.time() - time_start\n",
        "    \n",
        "# Validate model\n",
        "    \n",
        "\n",
        "\n",
        "print('\\nTotal time taken (in seconds): {:.2f}'.format(time_taken))\n",
        "#For per epoch_time = Total_Time / Number_of_epochs\n"
      ],
      "metadata": {
        "colab": {
          "base_uri": "https://localhost:8080/",
          "height": 1000
        },
        "outputId": "80403f09-0b80-4779-c825-040732cb3b7a",
        "id": "Kn54xV90kzQl"
      },
      "execution_count": 33,
      "outputs": [
        {
          "output_type": "stream",
          "name": "stdout",
          "text": [
            "\n",
            "Train Accuracy: 0.8640\n",
            "Number of Epoch = 1 - Average Cross Entropy:= 0.0039915853881835935 \n",
            "\n",
            "Validation Accuracy: 0.8543\n",
            "\n",
            "Train Accuracy: 0.8821\n",
            "Number of Epoch = 2 - Average Cross Entropy:= 0.0028924566650390623 \n",
            "\n",
            "Validation Accuracy: 0.8624\n",
            "\n",
            "Train Accuracy: 0.8931\n",
            "Number of Epoch = 3 - Average Cross Entropy:= 0.002568109130859375 \n",
            "\n",
            "Validation Accuracy: 0.8716\n",
            "\n",
            "Train Accuracy: 0.9012\n",
            "Number of Epoch = 4 - Average Cross Entropy:= 0.002342761993408203 \n",
            "\n",
            "Validation Accuracy: 0.8719\n",
            "\n",
            "Train Accuracy: 0.9096\n",
            "Number of Epoch = 5 - Average Cross Entropy:= 0.0021560188293457032 \n",
            "\n",
            "Validation Accuracy: 0.8765\n",
            "\n",
            "Train Accuracy: 0.9112\n",
            "Number of Epoch = 6 - Average Cross Entropy:= 0.0020019691467285158 \n",
            "\n",
            "Validation Accuracy: 0.8759\n",
            "\n",
            "Train Accuracy: 0.9178\n",
            "Number of Epoch = 7 - Average Cross Entropy:= 0.0018793385314941407 \n",
            "\n",
            "Validation Accuracy: 0.8783\n",
            "\n",
            "Train Accuracy: 0.9226\n",
            "Number of Epoch = 8 - Average Cross Entropy:= 0.0017511062622070311 \n",
            "\n",
            "Validation Accuracy: 0.8772\n",
            "\n",
            "Train Accuracy: 0.9251\n",
            "Number of Epoch = 9 - Average Cross Entropy:= 0.0016303019714355468 \n",
            "\n",
            "Validation Accuracy: 0.8800\n",
            "\n",
            "Train Accuracy: 0.9271\n",
            "Number of Epoch = 10 - Average Cross Entropy:= 0.0015292623901367187 \n",
            "\n",
            "Validation Accuracy: 0.8779\n",
            "\n",
            "Train Accuracy: 0.9293\n",
            "Number of Epoch = 11 - Average Cross Entropy:= 0.0014286787414550782 \n",
            "\n",
            "Validation Accuracy: 0.8793\n",
            "\n",
            "Train Accuracy: 0.9331\n",
            "Number of Epoch = 12 - Average Cross Entropy:= 0.0013570137023925781 \n",
            "\n",
            "Validation Accuracy: 0.8777\n",
            "\n",
            "Train Accuracy: 0.9363\n",
            "Number of Epoch = 13 - Average Cross Entropy:= 0.0012612741851806642 \n",
            "\n",
            "Validation Accuracy: 0.8777\n",
            "\n",
            "Train Accuracy: 0.9346\n",
            "Number of Epoch = 14 - Average Cross Entropy:= 0.0011796980285644532 \n",
            "\n",
            "Validation Accuracy: 0.8774\n",
            "\n",
            "Train Accuracy: 0.9370\n",
            "Number of Epoch = 15 - Average Cross Entropy:= 0.0011172667694091796 \n",
            "\n",
            "Validation Accuracy: 0.8755\n",
            "\n",
            "Train Accuracy: 0.9413\n",
            "Number of Epoch = 16 - Average Cross Entropy:= 0.0010534302520751953 \n",
            "\n",
            "Validation Accuracy: 0.8747\n",
            "\n",
            "Train Accuracy: 0.9426\n",
            "Number of Epoch = 17 - Average Cross Entropy:= 0.0009700063323974609 \n",
            "\n",
            "Validation Accuracy: 0.8760\n",
            "\n",
            "Train Accuracy: 0.9477\n",
            "Number of Epoch = 18 - Average Cross Entropy:= 0.0009084156799316406 \n",
            "\n",
            "Validation Accuracy: 0.8778\n",
            "\n",
            "Train Accuracy: 0.9470\n",
            "Number of Epoch = 19 - Average Cross Entropy:= 0.0008767727661132813 \n",
            "\n",
            "Validation Accuracy: 0.8790\n",
            "\n",
            "Train Accuracy: 0.9473\n",
            "Number of Epoch = 20 - Average Cross Entropy:= 0.0008354423522949219 \n",
            "\n",
            "Validation Accuracy: 0.8768\n",
            "\n",
            "Total time taken (in seconds): 700.96\n"
          ]
        },
        {
          "output_type": "display_data",
          "data": {
            "text/plain": [
              "<Figure size 432x288 with 1 Axes>"
            ],
            "image/png": "[encoded data removed]"
          },
          "metadata": {
            "needs_background": "light"
          }
        }
      ]
    },
    {
      "cell_type": "code",
      "source": [
        "from matplotlib import pyplot as plt\n",
        "plt.xlabel('Epochs')\n",
        "plt.ylabel('Train Accuracy')\n",
        "plt.title('FMNIST-784 dataset')\n",
        "plt.plot(acc)"
      ],
      "metadata": {
        "colab": {
          "base_uri": "https://localhost:8080/",
          "height": 313
        },
        "outputId": "02a119dc-2276-4712-c878-7c3b4dc9269d",
        "id": "yMeS3omgkzQn"
      },
      "execution_count": 34,
      "outputs": [
        {
          "output_type": "execute_result",
          "data": {
            "text/plain": [
              "[<matplotlib.lines.Line2D at 0x7fbe8cea0410>]"
            ]
          },
          "metadata": {},
          "execution_count": 34
        },
        {
          "output_type": "display_data",
          "data": {
            "text/plain": [
              "<Figure size 432x288 with 1 Axes>"
            ],
            "image/png": "[encoded data removed]"
          },
          "metadata": {
            "needs_background": "light"
          }
        }
      ]
    },
    {
      "cell_type": "code",
      "source": [
        "is_train = True\n",
        "\n",
        "# Set number of epochs\n",
        "NUM_EPOCHS = 20\n",
        "\n",
        "# Initialize model using CPU\n",
        "mlp_on_cpu = MLP(size_input, size_hidden1, size_hidden2, size_hidden3, size_output, device='gpu')\n",
        "\n",
        "time_start = time.time()\n",
        "acc = []\n",
        "for epoch in range(NUM_EPOCHS):\n",
        "    \n",
        "  loss_total = tf.zeros([1,1], dtype=tf.float32)\n",
        "  lt = 0\n",
        "    \n",
        "  train_ds = tf.data.Dataset.from_tensor_slices((X_train, y_train)).shuffle(25, seed=epoch*(5994)).batch(128)\n",
        "  kz = 0\n",
        "  accuracy_z = 0.0\n",
        "  cur_train_acc = 0.0\n",
        "  for inputs, outputs in train_ds:\n",
        "    qw, tr = tf.shape(inputs)\n",
        "    kz = kz + 1\n",
        "    preds = mlp_on_cpu.forward(inputs,is_train) \n",
        "    loss_total = loss_total + mlp_on_cpu.loss(preds, outputs)\n",
        "    lt = lt + mlp_on_cpu.loss(preds, outputs)\n",
        "    mlp_on_cpu.backward(inputs, outputs,is_train)\n",
        "\n",
        "  preds = mlp_on_cpu.forward(X_train,is_train)\n",
        "  # Get probs, remember we only have logits from our forward function, we need to apply softmax on top of it to get probs\n",
        "  preds = tf.nn.softmax(preds)\n",
        "  correct_prediction = tf.equal(tf.argmax(preds, 1), tf.argmax(y_train, 1))\n",
        "  accuracy_z = accuracy_z + tf.reduce_mean(tf.cast(correct_prediction, \"float\"))\n",
        "  cur_train_acc += accuracy_z.numpy()\n",
        "  ds = cur_train_acc\n",
        "  print('\\nTrain Accuracy: {:.4f}'.format(ds))\n",
        "  acc.append(ds)\n",
        "  print('Number of Epoch = {} - Average Cross Entropy:= {} '.format(epoch + 1, np.sum(loss_total) / X_train.shape[0]))\n",
        "  preds_val = mlp_on_cpu.forward(X_val,is_train)\n",
        "  preds_val = tf.nn.softmax(preds_val)\n",
        "  correct_prediction = tf.equal(tf.argmax(preds_val, 1), tf.argmax(y_val, 1))\n",
        "\n",
        "  # Calculate accuracy\n",
        "  accuracy = tf.reduce_mean(tf.cast(correct_prediction, \"float\"))\n",
        "  cur_val_acc = accuracy.numpy()\n",
        "\n",
        "  print('\\nValidation Accuracy: {:.4f}'.format(cur_val_acc))\n",
        "  \n",
        "  plt.plot(epoch + 1, np.sum(loss_total) / X_train.shape[0], 'go')\n",
        "\n",
        "        \n",
        "time_taken = time.time() - time_start\n",
        "    \n",
        "# Validate model\n",
        "    \n",
        "\n",
        "\n",
        "print('\\nTotal time taken (in seconds): {:.2f}'.format(time_taken))\n",
        "#For per epoch_time = Total_Time / Number_of_epochs\n"
      ],
      "metadata": {
        "colab": {
          "base_uri": "https://localhost:8080/",
          "height": 1000
        },
        "outputId": "7f02da15-298a-4209-c7fb-5cc0ba5e0621",
        "id": "aLMSBLUckzcE"
      },
      "execution_count": 36,
      "outputs": [
        {
          "output_type": "stream",
          "name": "stdout",
          "text": [
            "\n",
            "Train Accuracy: 0.8613\n",
            "Number of Epoch = 1 - Average Cross Entropy:= 0.004060337524414062 \n",
            "\n",
            "Validation Accuracy: 0.8494\n",
            "\n",
            "Train Accuracy: 0.8805\n",
            "Number of Epoch = 2 - Average Cross Entropy:= 0.0029275473022460936 \n",
            "\n",
            "Validation Accuracy: 0.8634\n",
            "\n",
            "Train Accuracy: 0.8918\n",
            "Number of Epoch = 3 - Average Cross Entropy:= 0.0025989605712890625 \n",
            "\n",
            "Validation Accuracy: 0.8728\n",
            "\n",
            "Train Accuracy: 0.9012\n",
            "Number of Epoch = 4 - Average Cross Entropy:= 0.002370348663330078 \n",
            "\n",
            "Validation Accuracy: 0.8794\n",
            "\n",
            "Train Accuracy: 0.9028\n",
            "Number of Epoch = 5 - Average Cross Entropy:= 0.0021957432556152343 \n",
            "\n",
            "Validation Accuracy: 0.8769\n",
            "\n",
            "Train Accuracy: 0.9094\n",
            "Number of Epoch = 6 - Average Cross Entropy:= 0.0020424041748046875 \n",
            "\n",
            "Validation Accuracy: 0.8789\n",
            "\n",
            "Train Accuracy: 0.9166\n",
            "Number of Epoch = 7 - Average Cross Entropy:= 0.0019191403198242187 \n",
            "\n",
            "Validation Accuracy: 0.8823\n",
            "\n",
            "Train Accuracy: 0.9171\n",
            "Number of Epoch = 8 - Average Cross Entropy:= 0.001802165985107422 \n",
            "\n",
            "Validation Accuracy: 0.8794\n",
            "\n",
            "Train Accuracy: 0.9231\n",
            "Number of Epoch = 9 - Average Cross Entropy:= 0.0016743070983886719 \n",
            "\n",
            "Validation Accuracy: 0.8799\n",
            "\n",
            "Train Accuracy: 0.9266\n",
            "Number of Epoch = 10 - Average Cross Entropy:= 0.001563486328125 \n",
            "\n",
            "Validation Accuracy: 0.8814\n",
            "\n",
            "Train Accuracy: 0.9283\n",
            "Number of Epoch = 11 - Average Cross Entropy:= 0.0014985665893554687 \n",
            "\n",
            "Validation Accuracy: 0.8798\n",
            "\n",
            "Train Accuracy: 0.9331\n",
            "Number of Epoch = 12 - Average Cross Entropy:= 0.0013794520568847655 \n",
            "\n",
            "Validation Accuracy: 0.8826\n",
            "\n",
            "Train Accuracy: 0.9328\n",
            "Number of Epoch = 13 - Average Cross Entropy:= 0.0013180499267578126 \n",
            "\n",
            "Validation Accuracy: 0.8765\n",
            "\n",
            "Train Accuracy: 0.9346\n",
            "Number of Epoch = 14 - Average Cross Entropy:= 0.0012343041229248048 \n",
            "\n",
            "Validation Accuracy: 0.8816\n",
            "\n",
            "Train Accuracy: 0.9324\n",
            "Number of Epoch = 15 - Average Cross Entropy:= 0.0011625431060791015 \n",
            "\n",
            "Validation Accuracy: 0.8744\n",
            "\n",
            "Train Accuracy: 0.9395\n",
            "Number of Epoch = 16 - Average Cross Entropy:= 0.0010812854766845703 \n",
            "\n",
            "Validation Accuracy: 0.8795\n",
            "\n",
            "Train Accuracy: 0.9428\n",
            "Number of Epoch = 17 - Average Cross Entropy:= 0.0010219133758544922 \n",
            "\n",
            "Validation Accuracy: 0.8789\n",
            "\n",
            "Train Accuracy: 0.9442\n",
            "Number of Epoch = 18 - Average Cross Entropy:= 0.0009725196838378906 \n",
            "\n",
            "Validation Accuracy: 0.8787\n",
            "\n",
            "Train Accuracy: 0.9395\n",
            "Number of Epoch = 19 - Average Cross Entropy:= 0.0009067579650878906 \n",
            "\n",
            "Validation Accuracy: 0.8728\n",
            "\n",
            "Train Accuracy: 0.9476\n",
            "Number of Epoch = 20 - Average Cross Entropy:= 0.0008513790893554688 \n",
            "\n",
            "Validation Accuracy: 0.8766\n",
            "\n",
            "Total time taken (in seconds): 713.29\n"
          ]
        },
        {
          "output_type": "display_data",
          "data": {
            "text/plain": [
              "<Figure size 432x288 with 1 Axes>"
            ],
            "image/png": "[encoded data removed]"
          },
          "metadata": {
            "needs_background": "light"
          }
        }
      ]
    },
    {
      "cell_type": "code",
      "source": [
        "from matplotlib import pyplot as plt\n",
        "plt.xlabel('Epochs')\n",
        "plt.ylabel('Train Accuracy')\n",
        "plt.title('FMNIST-784 dataset')\n",
        "plt.plot(acc)"
      ],
      "metadata": {
        "colab": {
          "base_uri": "https://localhost:8080/",
          "height": 313
        },
        "outputId": "f549224d-f9b6-4a53-b05b-a9307f78a0c5",
        "id": "1bnjRMuKkzcE"
      },
      "execution_count": 37,
      "outputs": [
        {
          "output_type": "execute_result",
          "data": {
            "text/plain": [
              "[<matplotlib.lines.Line2D at 0x7fbe8cd07c10>]"
            ]
          },
          "metadata": {},
          "execution_count": 37
        },
        {
          "output_type": "display_data",
          "data": {
            "text/plain": [
              "<Figure size 432x288 with 1 Axes>"
            ],
            "image/png": "[encoded data removed]"
          },
          "metadata": {
            "needs_background": "light"
          }
        }
      ]
    },
    {
      "cell_type": "markdown",
      "source": [
        "## Three Test Runs"
      ],
      "metadata": {
        "id": "tDJcHfokk1NY"
      }
    },
    {
      "cell_type": "code",
      "source": [
        "# Initialize\n",
        "is_train = False\n",
        "\n",
        "test_loss_total = tf.Variable(0, dtype=tf.float32)\n",
        "correct_prediction = tf.Variable(0, dtype=tf.float32)\n",
        "\n",
        "\n",
        "test_ds = tf.data.Dataset.from_tensor_slices((X_test, y_test)).batch(4)\n",
        "\n",
        "\n",
        "#test_loss_total = 0.0\n",
        "for inputs, outputs in test_ds:\n",
        "  preds = mlp_on_cpu.forward(inputs,is_train)\n",
        "  test_loss_total = test_loss_total + mlp_on_cpu.loss(preds, outputs)\n",
        "print('Test loss: {:.4f}'.format(np.sum(test_loss_total.numpy()) / X_test.shape[0]))\n",
        "\n",
        "# Test model\n",
        "preds_test = mlp_on_cpu.forward(X_test,is_train)\n",
        "preds_test = tf.nn.softmax(preds_test)\n",
        "correct_prediction = tf.equal(tf.argmax(preds_test, 1), tf.argmax(y_test, 1))\n",
        "\n",
        "# Calculate accuracy\n",
        "accuracy = tf.reduce_mean(tf.cast(correct_prediction, \"float\"))\n",
        "cur_test_acc = accuracy.numpy()\n",
        "print('\\nTest Accuracy: {:.2f}'.format(cur_test_acc))"
      ],
      "metadata": {
        "colab": {
          "base_uri": "https://localhost:8080/"
        },
        "outputId": "11e98fcc-9a48-4cc8-8c1b-6a4b7709e725",
        "id": "KPOixq5IjRoz"
      },
      "execution_count": 35,
      "outputs": [
        {
          "output_type": "stream",
          "name": "stdout",
          "text": [
            "Test loss: 0.3775\n",
            "\n",
            "Test Accuracy: 0.87\n"
          ]
        }
      ]
    },
    {
      "cell_type": "code",
      "source": [
        "# Initialize\n",
        "is_train = False\n",
        "test_loss_total = tf.Variable(0, dtype=tf.float32)\n",
        "correct_prediction = tf.Variable(0, dtype=tf.float32)\n",
        "\n",
        "\n",
        "test_ds = tf.data.Dataset.from_tensor_slices((X_test, y_test)).batch(4)\n",
        "\n",
        "\n",
        "#test_loss_total = 0.0\n",
        "for inputs, outputs in test_ds:\n",
        "  preds = mlp_on_cpu.forward(inputs,is_train)\n",
        "  test_loss_total = test_loss_total + mlp_on_cpu.loss(preds, outputs)\n",
        "print('Test loss: {:.4f}'.format(np.sum(test_loss_total.numpy()) / X_test.shape[0]))\n",
        "\n",
        "# Test model\n",
        "preds_test = mlp_on_cpu.forward(X_test,is_train)\n",
        "preds_test = tf.nn.softmax(preds_test)\n",
        "correct_prediction = tf.equal(tf.argmax(preds_test, 1), tf.argmax(y_test, 1))\n",
        "\n",
        "# Calculate accuracy\n",
        "accuracy = tf.reduce_mean(tf.cast(correct_prediction, \"float\"))\n",
        "cur_test_acc = accuracy.numpy()\n",
        "print('\\nTest Accuracy: {:.2f}'.format(cur_test_acc))"
      ],
      "metadata": {
        "colab": {
          "base_uri": "https://localhost:8080/"
        },
        "outputId": "217b9b45-a8cd-42df-88cb-e441489863f4",
        "id": "HCHIEtjIk-Jf"
      },
      "execution_count": 38,
      "outputs": [
        {
          "output_type": "stream",
          "name": "stdout",
          "text": [
            "Test loss: 0.3847\n",
            "\n",
            "Test Accuracy: 0.87\n"
          ]
        }
      ]
    },
    {
      "cell_type": "code",
      "source": [
        "# Initialize\n",
        "is_train = False\n",
        "\n",
        "test_loss_total = tf.Variable(0, dtype=tf.float32)\n",
        "correct_prediction = tf.Variable(0, dtype=tf.float32)\n",
        "\n",
        "\n",
        "test_ds = tf.data.Dataset.from_tensor_slices((X_test, y_test)).batch(4)\n",
        "\n",
        "\n",
        "#test_loss_total = 0.0\n",
        "for inputs, outputs in test_ds:\n",
        "  preds = mlp_on_cpu.forward(inputs,is_train)\n",
        "  test_loss_total = test_loss_total + mlp_on_cpu.loss(preds, outputs)\n",
        "print('Test loss: {:.4f}'.format(np.sum(test_loss_total.numpy()) / X_test.shape[0]))\n",
        "\n",
        "# Test model\n",
        "preds_test = mlp_on_cpu.forward(X_test,is_train)\n",
        "preds_test = tf.nn.softmax(preds_test)\n",
        "correct_prediction = tf.equal(tf.argmax(preds_test, 1), tf.argmax(y_test, 1))\n",
        "\n",
        "# Calculate accuracy\n",
        "accuracy = tf.reduce_mean(tf.cast(correct_prediction, \"float\"))\n",
        "cur_test_acc = accuracy.numpy()\n",
        "print('\\nTest Accuracy: {:.2f}'.format(cur_test_acc))"
      ],
      "metadata": {
        "colab": {
          "base_uri": "https://localhost:8080/"
        },
        "outputId": "2868c911-fd02-45ea-f09c-33f5b3785edf",
        "id": "E-p6LSrxk-Ow"
      },
      "execution_count": 39,
      "outputs": [
        {
          "output_type": "stream",
          "name": "stdout",
          "text": [
            "Test loss: 0.3847\n",
            "\n",
            "Test Accuracy: 0.87\n"
          ]
        }
      ]
    },
    {
      "cell_type": "code",
      "source": [
        ""
      ],
      "metadata": {
        "id": "1N3VN-wsPVOj"
      },
      "execution_count": null,
      "outputs": []
    }
  ],
  "metadata": {
    "kernelspec": {
      "display_name": "Python 3",
      "language": "python",
      "name": "python3"
    },
    "language_info": {
      "codemirror_mode": {
        "name": "ipython",
        "version": 3
      },
      "file_extension": ".py",
      "mimetype": "text/x-python",
      "name": "python",
      "nbconvert_exporter": "python",
      "pygments_lexer": "ipython3",
      "version": "3.7.9"
    },
    "colab": {
      "name": "Ass_4_IST597_MLP.ipynb",
      "provenance": [],
      "collapsed_sections": [],
      "toc_visible": true
    }
  },
  "nbformat": 4,
  "nbformat_minor": 0
}