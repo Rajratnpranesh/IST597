{
  "cells": [
    {
      "cell_type": "code",
      "execution_count": 51,
      "metadata": {
        "id": "SK3DMbzThNBc"
      },
      "outputs": [],
      "source": [
        "import tensorflow as tf\n",
        "import numpy as np\n",
        "import matplotlib.pyplot as plt\n",
        "\n",
        "np.random.seed(5336)"
      ]
    },
    {
      "cell_type": "code",
      "execution_count": 52,
      "metadata": {
        "colab": {
          "base_uri": "https://localhost:8080/"
        },
        "id": "WWo3ho3whTWU",
        "outputId": "fae4a745-08a4-4eb2-e34e-ad5f189ba535"
      },
      "outputs": [
        {
          "output_type": "stream",
          "name": "stdout",
          "text": [
            "(50000, 28, 28, 1)\n",
            "(10000, 28, 28, 1)\n",
            "(10000, 28, 28, 1)\n",
            "391\n",
            "79\n",
            "79\n"
          ]
        }
      ],
      "source": [
        "(x_train, y_train), (x_test, y_test) = tf.keras.datasets.fashion_mnist.load_data()\n",
        "x_val = x_train[50000:60000]\n",
        "x_train = x_train[0:50000]\n",
        "y_val = y_train[50000:60000]\n",
        "y_train = y_train[0:50000]\n",
        "x_train = x_train.astype(np.float32).reshape(-1,28,28,1) / 255.0\n",
        "x_val = x_val.astype(np.float32).reshape(-1,28,28,1) / 255.0\n",
        "x_test = x_test.astype(np.float32).reshape(-1,28,28,1) / 255.0\n",
        "y_train = tf.one_hot(y_train, depth=10)\n",
        "y_val = tf.one_hot(y_val, depth=10)\n",
        "y_test = tf.one_hot(y_test, depth=10)\n",
        "print(x_train.shape)\n",
        "print(x_test.shape)\n",
        "print(x_val.shape)\n",
        "train_dataset = tf.data.Dataset.from_tensor_slices((x_train, y_train))\n",
        "train_dataset = train_dataset.shuffle(buffer_size=1024).batch(128)\n",
        "train_dataset_full = train_dataset.shuffle(buffer_size=1024).batch(len(train_dataset))\n",
        "val_dataset = tf.data.Dataset.from_tensor_slices((x_val, y_val))\n",
        "val_dataset = val_dataset.batch(128)\n",
        "test_dataset = tf.data.Dataset.from_tensor_slices((x_test, y_test))\n",
        "test_dataset = test_dataset.batch(128)\n",
        "print(len(train_dataset))\n",
        "print(len(val_dataset))\n",
        "print(len(test_dataset))"
      ]
    },
    {
      "cell_type": "markdown",
      "metadata": {
        "id": "Rs9r9QDvO48Y"
      },
      "source": [
        "# Pre-activation CNN class\n",
        "* Convolution layers has 4D weights of size (h,w,input_feature, output_feature), where h=height of your kernel and w = width of our kernel. If you add batches then it is 5D.\n",
        "* Now your model will convolve across your input feature map with kernel and create output feature map, that is then passed to next layer.\n",
        "* As we have learned in our prior class, to initialize your weights, we use tf.Variable(weight_init(size)), tf.keras.layers.Conv2D will do this for you. Play with the function and see how it works for your problem.\n",
        "* Few important concepts, learn to save your model after every k epochs and start re-training from last checkpoint. This is very useful, and you don't need to retrain your model from scratch.\n"
      ]
    },
    {
      "cell_type": "code",
      "execution_count": 3,
      "metadata": {
        "id": "2Su2hHhAoaQn"
      },
      "outputs": [],
      "source": [
        "# from keras.layers import Layer\n",
        "# import tensorflow as tf\n",
        "\n",
        "# class CustomBatchNorm(Layer):\n",
        "#     def __init__(self):\n",
        "#         super(CustomBatchNorm, self).__init__()\n",
        "\n",
        "#     def build(self, input_shape):\n",
        "#         self.beta = self.add_weight(\n",
        "#             shape=(input_shape[-1]),\n",
        "#             initializer=\"zeros\",\n",
        "#             trainable=True,\n",
        "#         )\n",
        "\n",
        "#         self.gamma = self.add_weight(\n",
        "#             shape=(input_shape[-1]),\n",
        "#             initializer=\"ones\",\n",
        "#             trainable=True,\n",
        "#         )\n",
        "\n",
        "#         self.moving_mean = self.add_weight(\n",
        "#             shape=(input_shape[-1]),\n",
        "#             initializer=tf.initializers.zeros,\n",
        "#             trainable=False)\n",
        "\n",
        "#         self.moving_variance = self.add_weight(\n",
        "#             shape=(input_shape[-1]),\n",
        "#             initializer=tf.initializers.ones,\n",
        "#             trainable=False)\n",
        "\n",
        "#     def get_moving_average(self, statistic, new_value):\n",
        "#         momentum = 0.9\n",
        "#         new_value = statistic * momentum + new_value * (1 - momentum)\n",
        "#         return statistic.assign(new_value)\n",
        "\n",
        "#     def normalise(self, x, x_mean, x_var):\n",
        "#         return (x - x_mean) / tf.sqrt(x_var + 1e-6)\n",
        "\n",
        "#     def call(self, inputs, training):\n",
        "#         if training:\n",
        "#             axes = list(range(len(inputs.shape) - 1))\n",
        "#             batch_mean = tf.reduce_mean(inputs, axes, keepdims=True)\n",
        "#             batch_variance = tf.reduce_mean(tf.math.squared_difference(inputs, tf.stop_gradient(batch_mean)), axes, keepdims=True)\n",
        "#             mean = tf.squeeze(batch_mean, axes)\n",
        "#             var = tf.squeeze(batch_variance, axes)\n",
        "#             self.moving_mean.assign(self.get_moving_average(self.moving_mean, mean))\n",
        "#             self.moving_variance.assign(self.get_moving_average(self.moving_variance, var))\n",
        "#         else:\n",
        "#             mean, var = self.moving_mean, self.moving_variance\n",
        "\n",
        "#         x = self.normalise(inputs, mean, var)\n",
        "#         return self.gamma * x + self.beta"
      ]
    },
    {
      "cell_type": "code",
      "source": [
        "from keras.layers import Layer\n",
        "import tensorflow as tf\n",
        "\n",
        "class CustomBatchNorm(Layer):\n",
        "    def __init__(self):\n",
        "        super(CustomBatchNorm, self).__init__()\n",
        "\n",
        "        self.eps=1e-5\n",
        "\n",
        "    def build(self, input_shape):\n",
        "        self.beta = self.add_weight(\n",
        "            shape=(input_shape[-1]),\n",
        "            initializer=\"zeros\",\n",
        "            trainable=True,\n",
        "        )\n",
        "\n",
        "        self.gamma = self.add_weight(\n",
        "            shape=(input_shape[-1]),\n",
        "            initializer=\"ones\",\n",
        "            trainable=True,\n",
        "        )\n",
        "\n",
        "        self.moving_mean = self.add_weight(\n",
        "            shape=(input_shape[-1]),\n",
        "            initializer=tf.initializers.zeros,\n",
        "            trainable=False)\n",
        "\n",
        "        self.moving_variance = self.add_weight(\n",
        "            shape=(input_shape[-1]),\n",
        "            initializer=tf.initializers.ones,\n",
        "            trainable=False)\n",
        "\n",
        "    def get_moving_average(self, statistic, new_value):\n",
        "        momentum = 0.9\n",
        "        new_value = statistic * momentum + new_value * (1 - momentum)\n",
        "        return statistic.assign(new_value)\n",
        "\n",
        "    def normalise(self, x, x_mean, x_var):\n",
        "        return (x - x_mean) / tf.sqrt(x_var + 1e-6)\n",
        "\n",
        "    def call(self, inputs, training):\n",
        "        if training:\n",
        "            # assert len(inputs.shape) in (2, 4)\n",
        "            # if len(inputs.shape) > 2:\n",
        "            #     axes = [0, 1, 2]\n",
        "            # else:\n",
        "            #     axes = [0]\n",
        "            # mean, var = tf.nn.moments(inputs, axes=axes, keepdims=False)\n",
        "            \n",
        "            axes = list(range(len(inputs.shape) - 1))\n",
        "            batch_mean = tf.reduce_mean(inputs, axes, keepdims=True)\n",
        "            batch_variance = tf.reduce_mean(tf.math.squared_difference(inputs, tf.stop_gradient(batch_mean)), axes, keepdims=True)\n",
        "            mean = tf.squeeze(batch_mean, axes)\n",
        "            var = tf.squeeze(batch_variance, axes)\n",
        "            self.moving_mean.assign(self.get_moving_average(self.moving_mean, mean))\n",
        "            self.moving_variance.assign(self.get_moving_average(self.moving_variance, var))\n",
        "        else:\n",
        "            mean, var = self.moving_mean, self.moving_variance\n",
        "            \n",
        "        inv = tf.cast(tf.math.rsqrt(var + self.eps), inputs.dtype)\n",
        "        # Scale and shift\n",
        "        inv *= self.gamma\n",
        "        Y = inputs * inv + (self.beta - mean * inv)\n",
        "        return Y"
      ],
      "metadata": {
        "id": "GOkC0I9vD6PV"
      },
      "execution_count": 53,
      "outputs": []
    },
    {
      "cell_type": "code",
      "source": [
        "# from keras.layers import Layer\n",
        "# import tensorflow as tf\n",
        "\n",
        "# class CustomBatchNorm(Layer):\n",
        "#     def __init__(self):\n",
        "#         super(CustomBatchNorm, self).__init__()\n",
        "\n",
        "#         self.eps=1e-5\n",
        "\n",
        "#     def build(self, input_shape):\n",
        "#         self.beta = self.add_weight(\n",
        "#             shape=(input_shape[-1]),\n",
        "#             initializer=\"zeros\",\n",
        "#             trainable=True,\n",
        "#         )\n",
        "\n",
        "#         self.gamma = self.add_weight(\n",
        "#             shape=(input_shape[-1]),\n",
        "#             initializer=\"ones\",\n",
        "#             trainable=True,\n",
        "#         )\n",
        "\n",
        "#         self.moving_mean = self.add_weight(\n",
        "#             shape=(input_shape[-1]),\n",
        "#             initializer=tf.initializers.zeros,\n",
        "#             trainable=False)\n",
        "\n",
        "#         self.moving_variance = self.add_weight(\n",
        "#             shape=(input_shape[-1]),\n",
        "#             initializer=tf.initializers.ones,\n",
        "#             trainable=False)\n",
        "\n",
        "#     def get_moving_average(self, statistic, new_value):\n",
        "#         momentum = 0.9\n",
        "#         new_value = statistic * momentum + new_value * (1 - momentum)\n",
        "#         return statistic.assign(new_value)\n",
        "\n",
        "#     def normalise(self, x, x_mean, x_var):\n",
        "#         return (x - x_mean) / tf.sqrt(x_var + 1e-6)\n",
        "\n",
        "#     def call(self, inputs, training):\n",
        "#         if training:\n",
        "#             # assert len(inputs.shape) in (2, 4)\n",
        "#             # if len(inputs.shape) > 2:\n",
        "#             #     axes = [0, 1, 2]\n",
        "#             # else:\n",
        "#             #     axes = [0]\n",
        "#             # mean, var = tf.nn.moments(inputs, axes=axes, keepdims=False)\n",
        "            \n",
        "#             axes = list(range(len(inputs.shape) - 1))\n",
        "#             batch_mean = tf.reduce_mean(inputs, axes, keepdims=True)\n",
        "#             batch_variance = tf.reduce_mean(tf.math.squared_difference(inputs, tf.stop_gradient(batch_mean)), axes, keepdims=True)\n",
        "#             mean = tf.squeeze(batch_mean, axes)\n",
        "#             var = tf.squeeze(batch_variance, axes)\n",
        "#             self.moving_mean.assign(self.get_moving_average(self.moving_mean, mean))\n",
        "#             self.moving_variance.assign(self.get_moving_average(self.moving_variance, var))\n",
        "#         else:\n",
        "#             mean, var = self.moving_mean, self.moving_variance\n",
        "            \n",
        "#         inv = tf.cast(tf.math.rsqrt(var + self.eps), inputs.dtype)\n",
        "#         # Scale and shift\n",
        "#         inv *= self.gamma\n",
        "#         x = self.normalise(inputs, mean, var)\n",
        "#         Y = x * inv + (self.beta - mean * inv)\n",
        "#         return Y"
      ],
      "metadata": {
        "id": "sK05AuU4aASz"
      },
      "execution_count": 11,
      "outputs": []
    },
    {
      "cell_type": "code",
      "execution_count": 54,
      "metadata": {
        "id": "KGjSk_lMhb7V"
      },
      "outputs": [],
      "source": [
        "class ImageRecognitionCNN(tf.keras.Model):\n",
        "    \n",
        "    def __init__(self, num_classes, device='cpu:0', checkpoint_directory=None):\n",
        "        ''' Define the parameterized layers used during forward-pass, the device\n",
        "            where you would like to run the computation (GPU, TPU, CPU) on and the checkpoint\n",
        "            directory.\n",
        "            \n",
        "            Args:\n",
        "                num_classes: the number of labels in the network.\n",
        "                device: string, 'cpu:n' or 'gpu:n' (n can vary). Default, 'cpu:0'.\n",
        "                checkpoint_directory: the directory where you would like to save or \n",
        "                                      restore a model.\n",
        "        ''' \n",
        "        super(ImageRecognitionCNN, self).__init__()\n",
        "        \n",
        "        # Initialize layers\n",
        "        self.conv1 = tf.keras.layers.Conv2D(64, 3, padding='same', activation=None)\n",
        "        self.conv2 = tf.keras.layers.Conv2D(64, 3,padding='same', activation=None)\n",
        "        self.pool1 = tf.keras.layers.MaxPool2D()\n",
        "        self.conv3 = tf.keras.layers.Conv2D(64, 3, padding='same', activation=None)\n",
        "        self.conv4 = tf.keras.layers.Conv2D(64, 3, padding='same', activation=None)\n",
        "        # self.pool2 = tf.keras.layers.MaxPool2D()\n",
        "        # self.conv5 = tf.keras.layers.Conv2D(64, 3, padding='same', activation=None)\n",
        "        # self.pool2 = tf.keras.layers.MaxPool2D()\n",
        "        # self.conv6 = tf.keras.layers.Conv2D(64, 3, 2, padding='same', activation=None)\n",
        "        # self.conv7 = tf.keras.layers.Conv2D(64, 1, padding='same', activation=None)\n",
        "        self.conv8 = tf.keras.layers.Conv2D(num_classes, 1, padding='same', activation=None)\n",
        "        \n",
        "        # Define the device \n",
        "        self.device = device\n",
        "        \n",
        "        # Define the checkpoint directory\n",
        "        self.checkpoint_directory = '/content/models_checkpoints/fmnist'\n",
        "        self.acc = tf.keras.metrics.Accuracy()\n",
        "\n",
        "\n",
        "    def predict(self, images, training):\n",
        "        \"\"\" Predicts the probability of each class, based on the input sample.\n",
        "            \n",
        "            Args:\n",
        "                images: 4D tensor. Either an image or a batch of images.\n",
        "                training: Boolean. Either the network is predicting in\n",
        "                          training mode or not.\n",
        "                         \n",
        "\n",
        "\n",
        "        \"\"\"\n",
        "        # print(images.shape)\n",
        "        x = self.conv1(images) # (128, 28, 28, 1)(batch,28,28,1) ->(128, 28, 28, 64)<class 'tensorflow.python.framework.ops.EagerTensor'>\n",
        "\n",
        "        x=CustomBatchNorm()(x,training=training)\n",
        "        x = tf.nn.relu(x)\n",
        "        x = self.pool1(x)\n",
        "        x = self.conv2(x)\n",
        "        x=CustomBatchNorm()(x,training=training)\n",
        "        x = tf.nn.relu(x)\n",
        "        x = self.pool1(x)\n",
        "        x = self.conv3(x)\n",
        "        x=CustomBatchNorm()(x,training=training)\n",
        "        x = tf.nn.relu(x)\n",
        "        x = self.pool1(x)\n",
        "        x = self.conv4(x)\n",
        "        x=CustomBatchNorm()(x,training=training)\n",
        "        x = tf.nn.relu(x)\n",
        "        x = self.pool1(x)\n",
        "        x = self.conv8(x)\n",
        "        #x = tf.nn.relu(x)\n",
        "        #print(x.shape)\n",
        "        x = tf.reshape(x, (-1, 1, 10))\n",
        "        #x = tf.keras.layers.Flatten(x)\n",
        "        return x\n",
        "\n",
        "\n",
        "\n",
        "    def loss_fn(self, images, target, training):\n",
        "        \"\"\" Defines the loss function used during \n",
        "            training.         \n",
        "        \"\"\"\n",
        "        preds = self.predict(images, training)\n",
        "        #print(preds.shape)\n",
        "        #print(target.shape)\n",
        "        loss = tf.nn.softmax_cross_entropy_with_logits(labels=target, logits=preds)\n",
        "        return loss\n",
        "\n",
        "\n",
        "    def grads_fn(self, images, target, training):\n",
        "        \"\"\" Dynamically computes the gradients of the loss value\n",
        "            with respect to the parameters of the model, in each\n",
        "            forward pass.\n",
        "        \"\"\"\n",
        "        with tf.GradientTape() as tape:\n",
        "            loss = self.loss_fn(images, target, training)\n",
        "        return tape.gradient(loss, self.variables)\n",
        "    \n",
        "    def restore_model(self):\n",
        "        \"\"\" Function to restore trained model.\n",
        "        \"\"\"\n",
        "        with tf.device(self.device):\n",
        "            # Run the model once to initialize variables\n",
        "            dummy_input = tf.constant(tf.zeros((1,48,48,1)))\n",
        "            dummy_pred = self.predict(dummy_input, training)\n",
        "            # Restore the variables of the model\n",
        "            saver = tf.Saver(self.variables)\n",
        "            saver.restore(tf.train.latest_checkpoint\n",
        "                          (self.checkpoint_directory))\n",
        "    \n",
        "    def save_model(self, global_step=0):\n",
        "        \"\"\" Function to save trained model.\n",
        "        \"\"\"\n",
        "        tf.compat.v1.train.Saver(self.variables).save(self.checkpoint_directory, \n",
        "                                       global_step=global_step)   \n",
        "    \n",
        "    # def compute_accuracy(self, input_data):\n",
        "    #     \"\"\" Compute the accuracy on the input data.\n",
        "    #     \"\"\"\n",
        "    #     with tf.device(self.device):\n",
        "    #         #acc = tf.metrics.Accuracy()\n",
        "    #         for step ,(images, targets) in enumerate(input_data):\n",
        "    #             # Predict the probability of each class\n",
        "    #             #print(targets.shape)\n",
        "    #             logits = self.predict(images, training=False)\n",
        "    #             # Select the class with the highest probability\n",
        "    #             #print(logits.shape)\n",
        "    #             logits = tf.nn.softmax(logits)\n",
        "    #             logits = tf.reshape(logits, [-1, 10])\n",
        "    #             targets = tf.reshape(targets, [-1,10])\n",
        "    #             preds = tf.argmax(logits, axis=1)\n",
        "                \n",
        "    #             #m1.update_state\n",
        "    #             # Compute the accuracy\n",
        "    #             #print(preds.shape)\n",
        "    #             acc(tf.reshape(targets, preds))\n",
        "    #     return acc\n",
        "\n",
        "    def compute_accuracy_2(self, images, targets,is_train):\n",
        "        \"\"\" Compute the accuracy on the input data.\n",
        "        \"\"\"\n",
        "        with tf.device(self.device):\n",
        "            \n",
        "            # Predict the probability of each class\n",
        "            logits = self.predict(images, is_train)\n",
        "            # Select the class with the highest probability\n",
        "            \n",
        "            logits = tf.nn.softmax(logits)\n",
        "            logits = tf.reshape(logits, [-1, 10])\n",
        "            targets = tf.reshape(targets, [-1,10])\n",
        "            preds = tf.argmax(logits, axis=1)\n",
        "            goal = tf.argmax(targets, axis=1)\n",
        "            self.acc.update_state(goal, preds)\n",
        "            # Compute the accuracy\n",
        "            result = self.acc.result().numpy()\n",
        "        return result\n",
        "\n",
        "        \n",
        "\n",
        "\n",
        "\n",
        "    def fit_fc(self, training_data, eval_data, optimizer,is_train, num_epochs=500, \n",
        "            early_stopping_rounds=10, verbose=10, train_from_scratch=False):\n",
        "        \"\"\" Function to train the model, using the selected optimizer and\n",
        "            for the desired number of epochs. You can either train from scratch\n",
        "            or load the latest model trained. Early stopping is used in order to\n",
        "            mitigate the risk of overfitting the network.\n",
        "            \n",
        "            Args:\n",
        "                training_data: the data you would like to train the model on.\n",
        "                                Must be in the tf.data.Dataset format.\n",
        "                eval_data: the data you would like to evaluate the model on.\n",
        "                            Must be in the tf.data.Dataset format.\n",
        "                optimizer: the optimizer used during training.\n",
        "                num_epochs: the maximum number of iterations you would like to \n",
        "                            train the model.\n",
        "                early_stopping_rounds: stop training if the loss on the eval \n",
        "                                       dataset does not decrease after n epochs.\n",
        "                verbose: int. Specify how often to print the loss value of the network.\n",
        "                train_from_scratch: boolean. Whether to initialize variables of the\n",
        "                                    the last trained model or initialize them\n",
        "                                    randomly.\n",
        "        \"\"\" \n",
        "    \n",
        "        if train_from_scratch==False:\n",
        "            self.restore_model()\n",
        "        \n",
        "        # Initialize best loss. This variable will store the lowest loss on the\n",
        "        # eval dataset.\n",
        "        best_loss = 999\n",
        "\n",
        "        training = is_train\n",
        "        \n",
        "        # Initialize classes to update the mean loss of train and eval\n",
        "        train_loss = tf.keras.metrics.Mean('train_loss')\n",
        "        eval_loss = tf.keras.metrics.Mean('eval_loss')\n",
        "        acc_train = tf.keras.metrics.Mean('train_acc')\n",
        "        acc_val = tf.keras.metrics.Mean('val_acc')\n",
        "        \n",
        "        # Initialize dictionary to store the loss history\n",
        "        self.history = {}\n",
        "        self.history['train_loss'] = []\n",
        "        self.history['eval_loss'] = []\n",
        "        self.history['train_acc'] = []\n",
        "        self.history['val_acc'] = []\n",
        "        \n",
        "        # Begin training\n",
        "        with tf.device(self.device):\n",
        "            for i in range(num_epochs):\n",
        "                # Training with gradient descent\n",
        "                #training_data_x = training_data.shuffle(buffer_size=1024).batch(128)\n",
        "                for step, (images, target) in enumerate(training_data):\n",
        "                    grads = self.grads_fn(images, target, is_train)\n",
        "                    optimizer.apply_gradients(zip(grads, self.variables))\n",
        "                    \n",
        "                # Compute the loss on the training data after one epoch\n",
        "                for step, (images, target) in enumerate(training_data):\n",
        "                    loss = self.loss_fn(images, target, is_train)\n",
        "                    accuracy = self.compute_accuracy_2(images,target,is_train)\n",
        "                    acc_train(accuracy)\n",
        "                    train_loss(loss)\n",
        "                self.history['train_loss'].append(train_loss.result().numpy())\n",
        "                self.history['train_acc'].append(acc_train.result().numpy())\n",
        "                # Reset metrics\n",
        "                train_loss.reset_states()\n",
        "                acc_train.reset_states()\n",
        "                \n",
        "                # Compute the loss on the eval data after one epoch\n",
        "                for step, (images, target) in enumerate(eval_data):\n",
        "                    loss = self.loss_fn(images, target, is_train)\n",
        "                    accuracy = self.compute_accuracy_2(images,target,is_train)\n",
        "                    acc_val(accuracy)\n",
        "                    eval_loss(loss)\n",
        "                self.history['eval_loss'].append(eval_loss.result().numpy())\n",
        "                self.history['val_acc'].append(acc_val.result().numpy())\n",
        "                # Reset metrics\n",
        "                eval_loss.reset_states()\n",
        "                acc_val.reset_states()\n",
        "                \n",
        "                # Print train and eval losses\n",
        "                if (i==0) | ((i+1)%verbose==0):\n",
        "                    print('Train loss at epoch %d: ' %(i+1), self.history['train_loss'][-1])\n",
        "                    print('Train Acc at epoch %d: ' %(i+1), self.history['train_acc'][-1])\n",
        "                    \n",
        "                    print('Eval loss at epoch %d: ' %(i+1), self.history['eval_loss'][-1])\n",
        "                    print('Eval Acc at epoch %d: ' %(i+1), self.history['val_acc'][-1])\n",
        "\n",
        "                # Check for early stopping\n",
        "                if self.history['eval_loss'][-1]<best_loss:\n",
        "                    best_loss = self.history['eval_loss'][-1]\n",
        "                    count = early_stopping_rounds\n",
        "                else:\n",
        "                    count -= 1\n",
        "                if count==0:\n",
        "                    break\n",
        "\n",
        "        # self.save_model()\n",
        "\n",
        "        # return self.history"
      ]
    },
    {
      "cell_type": "markdown",
      "source": [
        "### Three Train Runs"
      ],
      "metadata": {
        "id": "ScUd1SfvpiTd"
      }
    },
    {
      "cell_type": "code",
      "execution_count": 44,
      "metadata": {
        "id": "4a-iuiHIypry",
        "colab": {
          "base_uri": "https://localhost:8080/"
        },
        "outputId": "e42d9cad-5288-4deb-fa0e-87633f2e8ba1"
      },
      "outputs": [
        {
          "output_type": "stream",
          "name": "stdout",
          "text": [
            "mkdir: cannot create directory ‘/content/models_checkpoints/’: File exists\n",
            "mkdir: cannot create directory ‘/content/models_checkpoints/fmnist’: File exists\n"
          ]
        }
      ],
      "source": [
        "# Specify the path where you want to save/restore the trained variables.\n",
        "!mkdir /content/models_checkpoints/\n",
        "!mkdir /content/models_checkpoints/fmnist\n",
        "\n",
        "checkpoint_directory = '/content/models_checkpoints/fmnist'\n",
        "\n",
        "# Use the GPU if available.\n",
        "device = 'gpu:0'\n",
        "\n",
        "# Define optimizer.\n",
        "optimizer = tf.compat.v1.train.AdamOptimizer(learning_rate=1e-4)\n",
        "\n",
        "# Instantiate model. This doesn't initialize the variables yet.\n",
        "model = ImageRecognitionCNN(num_classes=10, device=device,checkpoint_directory=checkpoint_directory)\n",
        "\n",
        "#model = ImageRecognitionCNN(num_classes=7, device=device)"
      ]
    },
    {
      "cell_type": "code",
      "source": [
        "# Train model Best\n",
        "is_train = True\n",
        "histories = model.fit_fc(train_dataset, val_dataset, optimizer, is_train,num_epochs=20,early_stopping_rounds=2, verbose=2, train_from_scratch=True)"
      ],
      "metadata": {
        "colab": {
          "base_uri": "https://localhost:8080/"
        },
        "id": "xvVi48iaazoA",
        "outputId": "400e4654-d883-4200-c2b5-d9a8d932d95a"
      },
      "execution_count": 19,
      "outputs": [
        {
          "output_type": "stream",
          "name": "stdout",
          "text": [
            "Train loss at epoch 1:  0.22946998\n",
            "Train Acc at epoch 1:  0.8842776\n",
            "Eval loss at epoch 1:  0.29369318\n",
            "Eval Acc at epoch 1:  0.8878031\n",
            "Train loss at epoch 2:  0.21339831\n",
            "Train Acc at epoch 2:  0.89066994\n",
            "Eval loss at epoch 2:  0.2865494\n",
            "Eval Acc at epoch 2:  0.8934703\n",
            "Train loss at epoch 4:  0.1829768\n",
            "Train Acc at epoch 4:  0.9004749\n",
            "Eval loss at epoch 4:  0.27654183\n",
            "Eval Acc at epoch 4:  0.9026142\n",
            "Train loss at epoch 6:  0.1609493\n",
            "Train Acc at epoch 6:  0.9082181\n",
            "Eval loss at epoch 6:  0.2708322\n",
            "Eval Acc at epoch 6:  0.909992\n",
            "Train loss at epoch 8:  0.13454865\n",
            "Train Acc at epoch 8:  0.91472954\n",
            "Eval loss at epoch 8:  0.2637624\n",
            "Eval Acc at epoch 8:  0.91630214\n",
            "Train loss at epoch 10:  0.114976756\n",
            "Train Acc at epoch 10:  0.92012525\n",
            "Eval loss at epoch 10:  0.26323918\n",
            "Eval Acc at epoch 10:  0.9214822\n",
            "Train loss at epoch 12:  0.10229952\n",
            "Train Acc at epoch 12:  0.92498595\n",
            "Eval loss at epoch 12:  0.26618356\n",
            "Eval Acc at epoch 12:  0.9261552\n"
          ]
        }
      ]
    },
    {
      "cell_type": "code",
      "execution_count": null,
      "metadata": {
        "colab": {
          "base_uri": "https://localhost:8080/"
        },
        "outputId": "e42d9cad-5288-4deb-fa0e-87633f2e8ba1",
        "id": "W78oVcgmqbLW"
      },
      "outputs": [
        {
          "output_type": "stream",
          "name": "stdout",
          "text": [
            "mkdir: cannot create directory ‘/content/models_checkpoints/’: File exists\n",
            "mkdir: cannot create directory ‘/content/models_checkpoints/fmnist’: File exists\n"
          ]
        }
      ],
      "source": [
        "# Specify the path where you want to save/restore the trained variables.\n",
        "!mkdir /content/models_checkpoints/\n",
        "!mkdir /content/models_checkpoints/fmnist\n",
        "\n",
        "checkpoint_directory = '/content/models_checkpoints/fmnist'\n",
        "\n",
        "# Use the GPU if available.\n",
        "device = 'gpu:0'\n",
        "\n",
        "# Define optimizer.\n",
        "optimizer = tf.compat.v1.train.AdamOptimizer(learning_rate=1e-4)\n",
        "\n",
        "# Instantiate model. This doesn't initialize the variables yet.\n",
        "model = ImageRecognitionCNN(num_classes=10, device=device,checkpoint_directory=checkpoint_directory)\n",
        "\n",
        "#model = ImageRecognitionCNN(num_classes=7, device=device)"
      ]
    },
    {
      "cell_type": "code",
      "source": [
        "# Train model Best\n",
        "is_train = True\n",
        "histories = model.fit_fc(train_dataset, val_dataset, optimizer, is_train,num_epochs=20,early_stopping_rounds=2, verbose=2, train_from_scratch=True)"
      ],
      "metadata": {
        "colab": {
          "base_uri": "https://localhost:8080/"
        },
        "id": "S6_05t72gQFV",
        "outputId": "aee665b9-367b-421b-c56f-077e6ebcc88a"
      },
      "execution_count": 45,
      "outputs": [
        {
          "output_type": "stream",
          "name": "stdout",
          "text": [
            "Train loss at epoch 1:  0.41631556\n",
            "Train Acc at epoch 1:  0.8567671\n",
            "Eval loss at epoch 1:  0.439395\n",
            "Eval Acc at epoch 1:  0.8582013\n",
            "Train loss at epoch 2:  0.31927055\n",
            "Train Acc at epoch 2:  0.86566925\n",
            "Eval loss at epoch 2:  0.35250497\n",
            "Eval Acc at epoch 2:  0.8725399\n",
            "Train loss at epoch 4:  0.2466213\n",
            "Train Acc at epoch 4:  0.88467103\n",
            "Eval loss at epoch 4:  0.29947865\n",
            "Eval Acc at epoch 4:  0.8884536\n",
            "Train loss at epoch 6:  0.21065088\n",
            "Train Acc at epoch 6:  0.89675164\n",
            "Eval loss at epoch 6:  0.28522044\n",
            "Eval Acc at epoch 6:  0.89909095\n",
            "Train loss at epoch 8:  0.17810808\n",
            "Train Acc at epoch 8:  0.904944\n",
            "Eval loss at epoch 8:  0.26988605\n",
            "Eval Acc at epoch 8:  0.9069022\n",
            "Train loss at epoch 10:  0.15316838\n",
            "Train Acc at epoch 10:  0.9114325\n",
            "Eval loss at epoch 10:  0.26333016\n",
            "Eval Acc at epoch 10:  0.9130985\n",
            "Train loss at epoch 12:  0.13613988\n",
            "Train Acc at epoch 12:  0.9173503\n",
            "Eval loss at epoch 12:  0.26327783\n",
            "Eval Acc at epoch 12:  0.9187424\n"
          ]
        }
      ]
    },
    {
      "cell_type": "code",
      "execution_count": 55,
      "metadata": {
        "colab": {
          "base_uri": "https://localhost:8080/"
        },
        "outputId": "0799e109-5cdf-40c9-ce11-1e5db35f149b",
        "id": "xUkEUv6NqeBV"
      },
      "outputs": [
        {
          "output_type": "stream",
          "name": "stdout",
          "text": [
            "mkdir: cannot create directory ‘/content/models_checkpoints/’: File exists\n",
            "mkdir: cannot create directory ‘/content/models_checkpoints/fmnist’: File exists\n"
          ]
        }
      ],
      "source": [
        "# Specify the path where you want to save/restore the trained variables.\n",
        "!mkdir /content/models_checkpoints/\n",
        "!mkdir /content/models_checkpoints/fmnist\n",
        "\n",
        "checkpoint_directory = '/content/models_checkpoints/fmnist'\n",
        "\n",
        "# Use the GPU if available.\n",
        "device = 'gpu:0'\n",
        "\n",
        "# Define optimizer.\n",
        "optimizer = tf.compat.v1.train.AdamOptimizer(learning_rate=1e-4)\n",
        "\n",
        "# Instantiate model. This doesn't initialize the variables yet.\n",
        "model = ImageRecognitionCNN(num_classes=10, device=device,checkpoint_directory=checkpoint_directory)\n",
        "\n",
        "#model = ImageRecognitionCNN(num_classes=7, device=device)"
      ]
    },
    {
      "cell_type": "code",
      "source": [
        "# Train model Best\n",
        "is_train = True\n",
        "histories = model.fit_fc(train_dataset, val_dataset, optimizer, is_train,num_epochs=20,early_stopping_rounds=2, verbose=2, train_from_scratch=True)"
      ],
      "metadata": {
        "colab": {
          "base_uri": "https://localhost:8080/"
        },
        "outputId": "e43ae4d8-d973-45f8-f847-7f68efd930b2",
        "id": "BPs7NoFQqeBW"
      },
      "execution_count": 56,
      "outputs": [
        {
          "output_type": "stream",
          "name": "stdout",
          "text": [
            "Train loss at epoch 1:  0.4327047\n",
            "Train Acc at epoch 1:  0.85400844\n",
            "Eval loss at epoch 1:  0.45348564\n",
            "Eval Acc at epoch 1:  0.8549791\n",
            "Train loss at epoch 2:  0.33707497\n",
            "Train Acc at epoch 2:  0.86183274\n",
            "Eval loss at epoch 2:  0.36767787\n",
            "Eval Acc at epoch 2:  0.86814696\n",
            "Train loss at epoch 4:  0.26067293\n",
            "Train Acc at epoch 4:  0.88054603\n",
            "Eval loss at epoch 4:  0.30743316\n",
            "Eval Acc at epoch 4:  0.88419765\n",
            "Train loss at epoch 6:  0.22163148\n",
            "Train Acc at epoch 6:  0.8925156\n",
            "Eval loss at epoch 6:  0.2851878\n",
            "Eval Acc at epoch 6:  0.8950138\n",
            "Train loss at epoch 8:  0.19094507\n",
            "Train Acc at epoch 8:  0.9013838\n",
            "Eval loss at epoch 8:  0.27291295\n",
            "Eval Acc at epoch 8:  0.90336686\n",
            "Train loss at epoch 10:  0.17821941\n",
            "Train Acc at epoch 10:  0.9080685\n",
            "Eval loss at epoch 10:  0.2771733\n",
            "Eval Acc at epoch 10:  0.909475\n",
            "Train loss at epoch 12:  0.14682263\n",
            "Train Acc at epoch 12:  0.9136951\n",
            "Eval loss at epoch 12:  0.26102123\n",
            "Eval Acc at epoch 12:  0.9151389\n",
            "Train loss at epoch 14:  0.13635652\n",
            "Train Acc at epoch 14:  0.91859835\n",
            "Eval loss at epoch 14:  0.27077132\n",
            "Eval Acc at epoch 14:  0.9197315\n"
          ]
        }
      ]
    },
    {
      "cell_type": "markdown",
      "metadata": {
        "id": "eniA73ysAFs8"
      },
      "source": [
        "### Plot and Test"
      ]
    },
    {
      "cell_type": "code",
      "execution_count": 20,
      "metadata": {
        "colab": {
          "base_uri": "https://localhost:8080/",
          "height": 283
        },
        "id": "ngnLjWcxAFI3",
        "outputId": "a1d79216-d927-4af0-9725-73429c481077"
      },
      "outputs": [
        {
          "output_type": "execute_result",
          "data": {
            "text/plain": [
              "[<matplotlib.lines.Line2D at 0x7f4cdc176dd0>]"
            ]
          },
          "metadata": {},
          "execution_count": 20
        },
        {
          "output_type": "display_data",
          "data": {
            "text/plain": [
              "<Figure size 432x288 with 1 Axes>"
            ],
            "image/png": "[encoded data removed]"
          },
          "metadata": {
            "needs_background": "light"
          }
        }
      ],
      "source": [
        "plt.plot(histories['train_loss'],'bo--')"
      ]
    },
    {
      "cell_type": "code",
      "source": [
        "plt.plot(histories['train_acc'],'go--')"
      ],
      "metadata": {
        "colab": {
          "base_uri": "https://localhost:8080/",
          "height": 283
        },
        "id": "jT3NDxmOCbzo",
        "outputId": "66fa52ae-aa9f-4c56-da01-4c51a40af4ff"
      },
      "execution_count": 21,
      "outputs": [
        {
          "output_type": "execute_result",
          "data": {
            "text/plain": [
              "[<matplotlib.lines.Line2D at 0x7f4cc649bf50>]"
            ]
          },
          "metadata": {},
          "execution_count": 21
        },
        {
          "output_type": "display_data",
          "data": {
            "text/plain": [
              "<Figure size 432x288 with 1 Axes>"
            ],
            "image/png": "[encoded data removed]"
          },
          "metadata": {
            "needs_background": "light"
          }
        }
      ]
    },
    {
      "cell_type": "code",
      "source": [
        "plt.plot(histories['val_acc'],'go--')"
      ],
      "metadata": {
        "colab": {
          "base_uri": "https://localhost:8080/",
          "height": 283
        },
        "id": "FKNYvWTtCbut",
        "outputId": "40473cc2-66bf-4e57-8bed-973280f314ed"
      },
      "execution_count": 22,
      "outputs": [
        {
          "output_type": "execute_result",
          "data": {
            "text/plain": [
              "[<matplotlib.lines.Line2D at 0x7f4c8f45fdd0>]"
            ]
          },
          "metadata": {},
          "execution_count": 22
        },
        {
          "output_type": "display_data",
          "data": {
            "text/plain": [
              "<Figure size 432x288 with 1 Axes>"
            ],
            "image/png": "[encoded data removed]"
          },
          "metadata": {
            "needs_background": "light"
          }
        }
      ]
    },
    {
      "cell_type": "code",
      "source": [
        "plt.plot(histories['eval_loss'],'go--')"
      ],
      "metadata": {
        "colab": {
          "base_uri": "https://localhost:8080/",
          "height": 286
        },
        "id": "BlGs4J3BC-b2",
        "outputId": "6f28984e-5310-4aa3-c4cb-029cb153ed63"
      },
      "execution_count": 23,
      "outputs": [
        {
          "output_type": "execute_result",
          "data": {
            "text/plain": [
              "[<matplotlib.lines.Line2D at 0x7f4c8f396a90>]"
            ]
          },
          "metadata": {},
          "execution_count": 23
        },
        {
          "output_type": "display_data",
          "data": {
            "text/plain": [
              "<Figure size 432x288 with 1 Axes>"
            ],
            "image/png": "[encoded data removed]"
          },
          "metadata": {
            "needs_background": "light"
          }
        }
      ]
    },
    {
      "cell_type": "markdown",
      "source": [
        "### Three Test Runs"
      ],
      "metadata": {
        "id": "Sn9VLQ1Mq4Qt"
      }
    },
    {
      "cell_type": "code",
      "source": [
        "## Test Data\n",
        "is_train = False\n",
        "acc = tf.keras.metrics.Accuracy()\n",
        "test_loss = tf.keras.metrics.Mean('test_loss')\n",
        "acc_test = tf.keras.metrics.Mean('acc_test')\n",
        "\n",
        "def loss_fn(images, target, training):\n",
        "    \"\"\" Defines the loss function        \n",
        "    \"\"\"\n",
        "    preds = model.predict(images, training)\n",
        "    loss = tf.nn.softmax_cross_entropy_with_logits(labels=target, logits=preds)\n",
        "    return loss\n",
        "\n",
        "\n",
        "def compute_accuracy_2(images, targets,is_train):\n",
        "    \"\"\" Compute the accuracy on the input data.\n",
        "    \"\"\"\n",
        "    with tf.device(device):\n",
        "        \n",
        "        # Predict the probability of each class\n",
        "        logits = model.predict(images, is_train)\n",
        "        # Select the class with the highest probability\n",
        "        \n",
        "        logits = tf.nn.softmax(logits)\n",
        "        logits = tf.reshape(logits, [-1, 10])\n",
        "        targets = tf.reshape(targets, [-1,10])\n",
        "        preds = tf.argmax(logits, axis=1)\n",
        "        goal = tf.argmax(targets, axis=1)\n",
        "        acc.update_state(goal, preds)\n",
        "        # Compute the accuracy\n",
        "        result = acc.result().numpy()\n",
        "    return result"
      ],
      "metadata": {
        "id": "MafxghtqJHpa"
      },
      "execution_count": 26,
      "outputs": []
    },
    {
      "cell_type": "code",
      "source": [
        "# Compute the loss and accuracy over testing dataset\n",
        "for step, (images, target) in enumerate(test_dataset):\n",
        "    loss = loss_fn(images, target, is_train)\n",
        "    accuracy = compute_accuracy_2(images,target,is_train)\n",
        "    acc_test(accuracy)\n",
        "    test_loss(loss)\n",
        "l = test_loss.result().numpy()\n",
        "a = acc_test.result().numpy()\n",
        "print('\\nTest Accuracy: {:.2f}'.format(a))\n",
        "print('Test loss: {:.4f}'.format(l))"
      ],
      "metadata": {
        "colab": {
          "base_uri": "https://localhost:8080/"
        },
        "outputId": "719b991d-7b3b-4b68-f1bd-650b6a8077bd",
        "id": "MbKYDOufJHpo"
      },
      "execution_count": 27,
      "outputs": [
        {
          "output_type": "stream",
          "name": "stdout",
          "text": [
            "\n",
            "Test Accuracy: 0.90\n",
            "Test loss: 0.2699\n"
          ]
        }
      ]
    },
    {
      "cell_type": "code",
      "source": [
        "## Test Data\n",
        "is_train = False\n",
        "acc = tf.keras.metrics.Accuracy()\n",
        "test_loss = tf.keras.metrics.Mean('test_loss')\n",
        "acc_test = tf.keras.metrics.Mean('acc_test')\n",
        "\n",
        "def loss_fn(images, target, training):\n",
        "    \"\"\" Defines the loss function        \n",
        "    \"\"\"\n",
        "    preds = model.predict(images, training)\n",
        "    loss = tf.nn.softmax_cross_entropy_with_logits(labels=target, logits=preds)\n",
        "    return loss\n",
        "\n",
        "\n",
        "def compute_accuracy_2(images, targets,is_train):\n",
        "    \"\"\" Compute the accuracy on the input data.\n",
        "    \"\"\"\n",
        "    with tf.device(device):\n",
        "        \n",
        "        # Predict the probability of each class\n",
        "        logits = model.predict(images, is_train)\n",
        "        # Select the class with the highest probability\n",
        "        \n",
        "        logits = tf.nn.softmax(logits)\n",
        "        logits = tf.reshape(logits, [-1, 10])\n",
        "        targets = tf.reshape(targets, [-1,10])\n",
        "        preds = tf.argmax(logits, axis=1)\n",
        "        goal = tf.argmax(targets, axis=1)\n",
        "        acc.update_state(goal, preds)\n",
        "        # Compute the accuracy\n",
        "        result = acc.result().numpy()\n",
        "    return result"
      ],
      "metadata": {
        "id": "U8xnM6cojl8K"
      },
      "execution_count": 48,
      "outputs": []
    },
    {
      "cell_type": "code",
      "source": [
        "# Compute the loss and accuracy over testing dataset\n",
        "for step, (images, target) in enumerate(test_dataset):\n",
        "    loss = loss_fn(images, target, is_train)\n",
        "    accuracy = compute_accuracy_2(images,target,is_train)\n",
        "    acc_test(accuracy)\n",
        "    test_loss(loss)\n",
        "l = test_loss.result().numpy()\n",
        "a = acc_test.result().numpy()\n",
        "print('\\nTest Accuracy: {:.2f}'.format(a))\n",
        "print('Test loss: {:.4f}'.format(l))"
      ],
      "metadata": {
        "colab": {
          "base_uri": "https://localhost:8080/"
        },
        "outputId": "17c0dcb3-55af-4ebd-d335-704eab63f987",
        "id": "USgp_reCjl8K"
      },
      "execution_count": 49,
      "outputs": [
        {
          "output_type": "stream",
          "name": "stdout",
          "text": [
            "\n",
            "Test Accuracy: 0.90\n",
            "Test loss: 0.2820\n"
          ]
        }
      ]
    },
    {
      "cell_type": "code",
      "source": [
        "## Test Data\n",
        "is_train = False\n",
        "acc = tf.keras.metrics.Accuracy()\n",
        "test_loss = tf.keras.metrics.Mean('test_loss')\n",
        "acc_test = tf.keras.metrics.Mean('acc_test')\n",
        "\n",
        "def loss_fn(images, target, training):\n",
        "    \"\"\" Defines the loss function        \n",
        "    \"\"\"\n",
        "    preds = model.predict(images, training)\n",
        "    loss = tf.nn.softmax_cross_entropy_with_logits(labels=target, logits=preds)\n",
        "    return loss\n",
        "\n",
        "\n",
        "def compute_accuracy_2(images, targets,is_train):\n",
        "    \"\"\" Compute the accuracy on the input data.\n",
        "    \"\"\"\n",
        "    with tf.device(device):\n",
        "        \n",
        "        # Predict the probability of each class\n",
        "        logits = model.predict(images, is_train)\n",
        "        # Select the class with the highest probability\n",
        "        \n",
        "        logits = tf.nn.softmax(logits)\n",
        "        logits = tf.reshape(logits, [-1, 10])\n",
        "        targets = tf.reshape(targets, [-1,10])\n",
        "        preds = tf.argmax(logits, axis=1)\n",
        "        goal = tf.argmax(targets, axis=1)\n",
        "        acc.update_state(goal, preds)\n",
        "        # Compute the accuracy\n",
        "        result = acc.result().numpy()\n",
        "    return result"
      ],
      "metadata": {
        "id": "6lU-SR_Aqzyt"
      },
      "execution_count": 57,
      "outputs": []
    },
    {
      "cell_type": "code",
      "source": [
        "# Compute the loss and accuracy over testing dataset\n",
        "for step, (images, target) in enumerate(test_dataset):\n",
        "    loss = loss_fn(images, target, is_train)\n",
        "    accuracy = compute_accuracy_2(images,target,is_train)\n",
        "    acc_test(accuracy)\n",
        "    test_loss(loss)\n",
        "l = test_loss.result().numpy()\n",
        "a = acc_test.result().numpy()\n",
        "print('\\nTest Accuracy: {:.2f}'.format(a))\n",
        "print('Test loss: {:.4f}'.format(l))"
      ],
      "metadata": {
        "colab": {
          "base_uri": "https://localhost:8080/"
        },
        "outputId": "86e3a357-3c49-4d0b-9ec9-0a0c08c15e8d",
        "id": "nWXoWEEXqzyu"
      },
      "execution_count": 58,
      "outputs": [
        {
          "output_type": "stream",
          "name": "stdout",
          "text": [
            "\n",
            "Test Accuracy: 0.90\n",
            "Test loss: 0.2905\n"
          ]
        }
      ]
    },
    {
      "cell_type": "markdown",
      "metadata": {
        "id": "BuEQdypeTFZv"
      },
      "source": [
        "# Post-activation CNN class\n",
        "* Convolution layers has 4D weights of size (h,w,input_feature, output_feature), where h=height of your kernel and w = width of our kernel. If you add batches then it is 5D.\n",
        "* Now your model will convolve across your input feature map with kernel and create output feature map, that is then passed to next layer.\n",
        "* As we have learned in our prior class, to initialize your weights, we use tf.Variable(weight_init(size)), tf.keras.layers.Conv2D will do this for you. Play with the function and see how it works for your problem.\n",
        "* Few important concepts, learn to save your model after every k epochs and start re-training from last checkpoint. This is very useful, and you don't need to retrain your model from scratch.\n"
      ]
    },
    {
      "cell_type": "code",
      "execution_count": 59,
      "metadata": {
        "id": "CekCS16oTFZw"
      },
      "outputs": [],
      "source": [
        "from keras.layers import Layer\n",
        "import tensorflow as tf\n",
        "\n",
        "class CustomBatchNorm(Layer):\n",
        "    def __init__(self):\n",
        "        super(CustomBatchNorm, self).__init__()\n",
        "\n",
        "        self.eps=1e-5\n",
        "\n",
        "    def build(self, input_shape):\n",
        "        self.beta = self.add_weight(\n",
        "            shape=(input_shape[-1]),\n",
        "            initializer=\"zeros\",\n",
        "            trainable=True,\n",
        "        )\n",
        "\n",
        "        self.gamma = self.add_weight(\n",
        "            shape=(input_shape[-1]),\n",
        "            initializer=\"ones\",\n",
        "            trainable=True,\n",
        "        )\n",
        "\n",
        "        self.moving_mean = self.add_weight(\n",
        "            shape=(input_shape[-1]),\n",
        "            initializer=tf.initializers.zeros,\n",
        "            trainable=False)\n",
        "\n",
        "        self.moving_variance = self.add_weight(\n",
        "            shape=(input_shape[-1]),\n",
        "            initializer=tf.initializers.ones,\n",
        "            trainable=False)\n",
        "\n",
        "    def get_moving_average(self, statistic, new_value):\n",
        "        momentum = 0.9\n",
        "        new_value = statistic * momentum + new_value * (1 - momentum)\n",
        "        return statistic.assign(new_value)\n",
        "\n",
        "    def normalise(self, x, x_mean, x_var):\n",
        "        return (x - x_mean) / tf.sqrt(x_var + 1e-6)\n",
        "\n",
        "    def call(self, inputs, training):\n",
        "        if training:\n",
        "            # assert len(inputs.shape) in (2, 4)\n",
        "            # if len(inputs.shape) > 2:\n",
        "            #     axes = [0, 1, 2]\n",
        "            # else:\n",
        "            #     axes = [0]\n",
        "            # mean, var = tf.nn.moments(inputs, axes=axes, keepdims=False)\n",
        "            \n",
        "            axes = list(range(len(inputs.shape) - 1))\n",
        "            batch_mean = tf.reduce_mean(inputs, axes, keepdims=True)\n",
        "            batch_variance = tf.reduce_mean(tf.math.squared_difference(inputs, tf.stop_gradient(batch_mean)), axes, keepdims=True)\n",
        "            mean = tf.squeeze(batch_mean, axes)\n",
        "            var = tf.squeeze(batch_variance, axes)\n",
        "            self.moving_mean.assign(self.get_moving_average(self.moving_mean, mean))\n",
        "            self.moving_variance.assign(self.get_moving_average(self.moving_variance, var))\n",
        "        else:\n",
        "            mean, var = self.moving_mean, self.moving_variance\n",
        "            \n",
        "        inv = tf.cast(tf.math.rsqrt(var + self.eps), inputs.dtype)\n",
        "        # Scale and shift\n",
        "        inv *= self.gamma\n",
        "        Y = inputs * inv + (self.beta - mean * inv)\n",
        "        return Y"
      ]
    },
    {
      "cell_type": "code",
      "execution_count": 60,
      "metadata": {
        "id": "-ttdjvdbTFZx"
      },
      "outputs": [],
      "source": [
        "class ImageRecognitionCNN(tf.keras.Model):\n",
        "    \n",
        "    def __init__(self, num_classes, device='cpu:0', checkpoint_directory=None):\n",
        "        ''' Define the parameterized layers used during forward-pass, the device\n",
        "            where you would like to run the computation (GPU, TPU, CPU) on and the checkpoint\n",
        "            directory.\n",
        "            \n",
        "            Args:\n",
        "                num_classes: the number of labels in the network.\n",
        "                device: string, 'cpu:n' or 'gpu:n' (n can vary). Default, 'cpu:0'.\n",
        "                checkpoint_directory: the directory where you would like to save or \n",
        "                                      restore a model.\n",
        "        ''' \n",
        "        super(ImageRecognitionCNN, self).__init__()\n",
        "        \n",
        "        # Initialize layers\n",
        "        self.conv1 = tf.keras.layers.Conv2D(64, 3, padding='same', activation=None)\n",
        "        self.conv2 = tf.keras.layers.Conv2D(64, 3,padding='same', activation=None)\n",
        "        self.pool1 = tf.keras.layers.MaxPool2D()\n",
        "        self.conv3 = tf.keras.layers.Conv2D(64, 3, padding='same', activation=None)\n",
        "        self.conv4 = tf.keras.layers.Conv2D(64, 3, padding='same', activation=None)\n",
        "        # self.pool2 = tf.keras.layers.MaxPool2D()\n",
        "        # self.conv5 = tf.keras.layers.Conv2D(64, 3, padding='same', activation=None)\n",
        "        # self.pool2 = tf.keras.layers.MaxPool2D()\n",
        "        # self.conv6 = tf.keras.layers.Conv2D(64, 3, 2, padding='same', activation=None)\n",
        "        # self.conv7 = tf.keras.layers.Conv2D(64, 1, padding='same', activation=None)\n",
        "        self.conv8 = tf.keras.layers.Conv2D(num_classes, 1, padding='same', activation=None)\n",
        "        \n",
        "        # Define the device \n",
        "        self.device = device\n",
        "        \n",
        "        # Define the checkpoint directory\n",
        "        self.checkpoint_directory = '/content/models_checkpoints/fmnist'\n",
        "        self.acc = tf.keras.metrics.Accuracy()\n",
        "\n",
        "\n",
        "    def predict(self, images, training):\n",
        "        \"\"\" Predicts the probability of each class, based on the input sample.\n",
        "            \n",
        "            Args:\n",
        "                images: 4D tensor. Either an image or a batch of images.\n",
        "                training: Boolean. Either the network is predicting in\n",
        "                          training mode or not.\n",
        "                         \n",
        "\n",
        "\n",
        "        \"\"\"\n",
        "        # print(images.shape)\n",
        "        x = self.conv1(images) # (128, 28, 28, 1)(batch,28,28,1) ->(128, 28, 28, 64)<class 'tensorflow.python.framework.ops.EagerTensor'>\n",
        "\n",
        "        \n",
        "        x = tf.nn.relu(x)\n",
        "        x=CustomBatchNorm()(x,training=training)\n",
        "        x = self.pool1(x)\n",
        "        x = self.conv2(x)\n",
        "        \n",
        "        x = tf.nn.relu(x)\n",
        "        x=CustomBatchNorm()(x,training=training)\n",
        "        x = self.pool1(x)\n",
        "        x = self.conv3(x)\n",
        "        \n",
        "        x = tf.nn.relu(x)\n",
        "        x=CustomBatchNorm()(x,training=training)\n",
        "        x = self.pool1(x)\n",
        "        x = self.conv4(x)\n",
        "        \n",
        "        x = tf.nn.relu(x)\n",
        "        x=CustomBatchNorm()(x,training=training)\n",
        "        x = self.pool1(x)\n",
        "        x = self.conv8(x)\n",
        "        #x = tf.nn.relu(x)\n",
        "        #print(x.shape)\n",
        "        x = tf.reshape(x, (-1, 1, 10))\n",
        "        #x = tf.keras.layers.Flatten(x)\n",
        "        return x\n",
        "\n",
        "\n",
        "\n",
        "    def loss_fn(self, images, target, training):\n",
        "        \"\"\" Defines the loss function used during \n",
        "            training.         \n",
        "        \"\"\"\n",
        "        preds = self.predict(images, training)\n",
        "        #print(preds.shape)\n",
        "        #print(target.shape)\n",
        "        loss = tf.nn.softmax_cross_entropy_with_logits(labels=target, logits=preds)\n",
        "        return loss\n",
        "\n",
        "\n",
        "    def grads_fn(self, images, target, training):\n",
        "        \"\"\" Dynamically computes the gradients of the loss value\n",
        "            with respect to the parameters of the model, in each\n",
        "            forward pass.\n",
        "        \"\"\"\n",
        "        with tf.GradientTape() as tape:\n",
        "            loss = self.loss_fn(images, target, training)\n",
        "        return tape.gradient(loss, self.variables)\n",
        "    \n",
        "    def restore_model(self):\n",
        "        \"\"\" Function to restore trained model.\n",
        "        \"\"\"\n",
        "        with tf.device(self.device):\n",
        "            # Run the model once to initialize variables\n",
        "            dummy_input = tf.constant(tf.zeros((1,48,48,1)))\n",
        "            dummy_pred = self.predict(dummy_input, training)\n",
        "            # Restore the variables of the model\n",
        "            saver = tf.Saver(self.variables)\n",
        "            saver.restore(tf.train.latest_checkpoint\n",
        "                          (self.checkpoint_directory))\n",
        "    \n",
        "    def save_model(self, global_step=0):\n",
        "        \"\"\" Function to save trained model.\n",
        "        \"\"\"\n",
        "        tf.compat.v1.train.Saver(self.variables).save(self.checkpoint_directory, \n",
        "                                       global_step=global_step)   \n",
        "    \n",
        "    # def compute_accuracy(self, input_data):\n",
        "    #     \"\"\" Compute the accuracy on the input data.\n",
        "    #     \"\"\"\n",
        "    #     with tf.device(self.device):\n",
        "    #         #acc = tf.metrics.Accuracy()\n",
        "    #         for step ,(images, targets) in enumerate(input_data):\n",
        "    #             # Predict the probability of each class\n",
        "    #             #print(targets.shape)\n",
        "    #             logits = self.predict(images, training=False)\n",
        "    #             # Select the class with the highest probability\n",
        "    #             #print(logits.shape)\n",
        "    #             logits = tf.nn.softmax(logits)\n",
        "    #             logits = tf.reshape(logits, [-1, 10])\n",
        "    #             targets = tf.reshape(targets, [-1,10])\n",
        "    #             preds = tf.argmax(logits, axis=1)\n",
        "                \n",
        "    #             #m1.update_state\n",
        "    #             # Compute the accuracy\n",
        "    #             #print(preds.shape)\n",
        "    #             acc(tf.reshape(targets, preds))\n",
        "    #     return acc\n",
        "\n",
        "    def compute_accuracy_2(self, images, targets,is_train):\n",
        "        \"\"\" Compute the accuracy on the input data.\n",
        "        \"\"\"\n",
        "        with tf.device(self.device):\n",
        "            \n",
        "            # Predict the probability of each class\n",
        "            logits = self.predict(images, is_train)\n",
        "            # Select the class with the highest probability\n",
        "            \n",
        "            logits = tf.nn.softmax(logits)\n",
        "            logits = tf.reshape(logits, [-1, 10])\n",
        "            targets = tf.reshape(targets, [-1,10])\n",
        "            preds = tf.argmax(logits, axis=1)\n",
        "            goal = tf.argmax(targets, axis=1)\n",
        "            self.acc.update_state(goal, preds)\n",
        "            # Compute the accuracy\n",
        "            result = self.acc.result().numpy()\n",
        "        return result\n",
        "\n",
        "        \n",
        "\n",
        "\n",
        "\n",
        "    def fit_fc(self, training_data, eval_data, optimizer,is_train, num_epochs=500, \n",
        "            early_stopping_rounds=10, verbose=10, train_from_scratch=False):\n",
        "        \"\"\" Function to train the model, using the selected optimizer and\n",
        "            for the desired number of epochs. You can either train from scratch\n",
        "            or load the latest model trained. Early stopping is used in order to\n",
        "            mitigate the risk of overfitting the network.\n",
        "            \n",
        "            Args:\n",
        "                training_data: the data you would like to train the model on.\n",
        "                                Must be in the tf.data.Dataset format.\n",
        "                eval_data: the data you would like to evaluate the model on.\n",
        "                            Must be in the tf.data.Dataset format.\n",
        "                optimizer: the optimizer used during training.\n",
        "                num_epochs: the maximum number of iterations you would like to \n",
        "                            train the model.\n",
        "                early_stopping_rounds: stop training if the loss on the eval \n",
        "                                       dataset does not decrease after n epochs.\n",
        "                verbose: int. Specify how often to print the loss value of the network.\n",
        "                train_from_scratch: boolean. Whether to initialize variables of the\n",
        "                                    the last trained model or initialize them\n",
        "                                    randomly.\n",
        "        \"\"\" \n",
        "    \n",
        "        if train_from_scratch==False:\n",
        "            self.restore_model()\n",
        "        \n",
        "        # Initialize best loss. This variable will store the lowest loss on the\n",
        "        # eval dataset.\n",
        "        best_loss = 999\n",
        "\n",
        "        training = is_train\n",
        "        \n",
        "        # Initialize classes to update the mean loss of train and eval\n",
        "        train_loss = tf.keras.metrics.Mean('train_loss')\n",
        "        eval_loss = tf.keras.metrics.Mean('eval_loss')\n",
        "        acc_train = tf.keras.metrics.Mean('train_acc')\n",
        "        acc_val = tf.keras.metrics.Mean('val_acc')\n",
        "        \n",
        "        # Initialize dictionary to store the loss history\n",
        "        self.history = {}\n",
        "        self.history['train_loss'] = []\n",
        "        self.history['eval_loss'] = []\n",
        "        self.history['train_acc'] = []\n",
        "        self.history['val_acc'] = []\n",
        "        \n",
        "        # Begin training\n",
        "        with tf.device(self.device):\n",
        "            for i in range(num_epochs):\n",
        "                # Training with gradient descent\n",
        "                #training_data_x = training_data.shuffle(buffer_size=1024).batch(128)\n",
        "                for step, (images, target) in enumerate(training_data):\n",
        "                    grads = self.grads_fn(images, target, is_train)\n",
        "                    optimizer.apply_gradients(zip(grads, self.variables))\n",
        "                    \n",
        "                # Compute the loss on the training data after one epoch\n",
        "                for step, (images, target) in enumerate(training_data):\n",
        "                    loss = self.loss_fn(images, target, is_train)\n",
        "                    accuracy = self.compute_accuracy_2(images,target,is_train)\n",
        "                    acc_train(accuracy)\n",
        "                    train_loss(loss)\n",
        "                self.history['train_loss'].append(train_loss.result().numpy())\n",
        "                self.history['train_acc'].append(acc_train.result().numpy())\n",
        "                # Reset metrics\n",
        "                train_loss.reset_states()\n",
        "                acc_train.reset_states()\n",
        "                \n",
        "                # Compute the loss on the eval data after one epoch\n",
        "                for step, (images, target) in enumerate(eval_data):\n",
        "                    loss = self.loss_fn(images, target, is_train)\n",
        "                    accuracy = self.compute_accuracy_2(images,target,is_train)\n",
        "                    acc_val(accuracy)\n",
        "                    eval_loss(loss)\n",
        "                self.history['eval_loss'].append(eval_loss.result().numpy())\n",
        "                self.history['val_acc'].append(acc_val.result().numpy())\n",
        "                # Reset metrics\n",
        "                eval_loss.reset_states()\n",
        "                acc_val.reset_states()\n",
        "                \n",
        "                # Print train and eval losses\n",
        "                if (i==0) | ((i+1)%verbose==0):\n",
        "                    print('Train loss at epoch %d: ' %(i+1), self.history['train_loss'][-1])\n",
        "                    print('Train Acc at epoch %d: ' %(i+1), self.history['train_acc'][-1])\n",
        "                    \n",
        "                    print('Eval loss at epoch %d: ' %(i+1), self.history['eval_loss'][-1])\n",
        "                    print('Eval Acc at epoch %d: ' %(i+1), self.history['val_acc'][-1])\n",
        "\n",
        "                # Check for early stopping\n",
        "                if self.history['eval_loss'][-1]<best_loss:\n",
        "                    best_loss = self.history['eval_loss'][-1]\n",
        "                    count = early_stopping_rounds\n",
        "                else:\n",
        "                    count -= 1\n",
        "                if count==0:\n",
        "                    break\n",
        "\n",
        "        # self.save_model()\n",
        "\n",
        "        # return self.history"
      ]
    },
    {
      "cell_type": "markdown",
      "source": [
        "### Three Train Runs"
      ],
      "metadata": {
        "id": "RFfZvqAkrV4-"
      }
    },
    {
      "cell_type": "code",
      "execution_count": 66,
      "metadata": {
        "colab": {
          "base_uri": "https://localhost:8080/"
        },
        "outputId": "ab372e67-e826-4570-9886-6922d2d15181",
        "id": "rA4FqXxFHa5z"
      },
      "outputs": [
        {
          "output_type": "stream",
          "name": "stdout",
          "text": [
            "mkdir: cannot create directory ‘/content/models_checkpoints/’: File exists\n",
            "mkdir: cannot create directory ‘/content/models_checkpoints/fmnist’: File exists\n"
          ]
        }
      ],
      "source": [
        "# Specify the path where you want to save/restore the trained variables.\n",
        "!mkdir /content/models_checkpoints/\n",
        "!mkdir /content/models_checkpoints/fmnist\n",
        "\n",
        "checkpoint_directory = '/content/models_checkpoints/fmnist'\n",
        "\n",
        "# Use the GPU if available.\n",
        "device = 'gpu:0'\n",
        "\n",
        "# Define optimizer.\n",
        "optimizer = tf.compat.v1.train.AdamOptimizer(learning_rate=1e-4)\n",
        "\n",
        "# Instantiate model. This doesn't initialize the variables yet.\n",
        "model = ImageRecognitionCNN(num_classes=10, device=device,checkpoint_directory=checkpoint_directory)\n",
        "\n",
        "#model = ImageRecognitionCNN(num_classes=7, device=device)"
      ]
    },
    {
      "cell_type": "code",
      "execution_count": 67,
      "metadata": {
        "colab": {
          "base_uri": "https://localhost:8080/"
        },
        "outputId": "6d6e3cc7-fb6b-459e-be2d-e13113d6a43c",
        "id": "nSDcZ-egTFZy"
      },
      "outputs": [
        {
          "output_type": "stream",
          "name": "stdout",
          "text": [
            "Train loss at epoch 1:  0.40361848\n",
            "Train Acc at epoch 1:  0.8563433\n",
            "Eval loss at epoch 1:  0.45763808\n",
            "Eval Acc at epoch 1:  0.85689247\n",
            "Train loss at epoch 2:  0.31735635\n",
            "Train Acc at epoch 2:  0.86357045\n",
            "Eval loss at epoch 2:  0.38922626\n",
            "Eval Acc at epoch 2:  0.8698573\n",
            "Train loss at epoch 4:  0.24314843\n",
            "Train Acc at epoch 4:  0.88256556\n",
            "Eval loss at epoch 4:  0.3484836\n",
            "Eval Acc at epoch 4:  0.88621646\n",
            "Train loss at epoch 6:  0.19507232\n",
            "Train Acc at epoch 6:  0.89462095\n",
            "Eval loss at epoch 6:  0.33084756\n",
            "Eval Acc at epoch 6:  0.8973586\n",
            "Train loss at epoch 8:  0.15192986\n",
            "Train Acc at epoch 8:  0.9045842\n",
            "Eval loss at epoch 8:  0.32633013\n",
            "Eval Acc at epoch 8:  0.9069496\n"
          ]
        }
      ],
      "source": [
        "# Train model Best\n",
        "is_train = True\n",
        "model.fit_fc(train_dataset, test_dataset, optimizer, is_train,num_epochs=20,early_stopping_rounds=2, verbose=2, train_from_scratch=True)"
      ]
    },
    {
      "cell_type": "code",
      "execution_count": 62,
      "metadata": {
        "colab": {
          "base_uri": "https://localhost:8080/"
        },
        "outputId": "625ad01f-f5fe-4882-b74f-12ecd837622f",
        "id": "4eBOsqcZrQgr"
      },
      "outputs": [
        {
          "output_type": "stream",
          "name": "stdout",
          "text": [
            "mkdir: cannot create directory ‘/content/models_checkpoints/’: File exists\n",
            "mkdir: cannot create directory ‘/content/models_checkpoints/fmnist’: File exists\n"
          ]
        }
      ],
      "source": [
        "# Specify the path where you want to save/restore the trained variables.\n",
        "!mkdir /content/models_checkpoints/\n",
        "!mkdir /content/models_checkpoints/fmnist\n",
        "\n",
        "checkpoint_directory = '/content/models_checkpoints/fmnist'\n",
        "\n",
        "# Use the GPU if available.\n",
        "device = 'gpu:0'\n",
        "\n",
        "# Define optimizer.\n",
        "optimizer = tf.compat.v1.train.AdamOptimizer(learning_rate=1e-4)\n",
        "\n",
        "# Instantiate model. This doesn't initialize the variables yet.\n",
        "model = ImageRecognitionCNN(num_classes=10, device=device,checkpoint_directory=checkpoint_directory)\n",
        "\n",
        "#model = ImageRecognitionCNN(num_classes=7, device=device)"
      ]
    },
    {
      "cell_type": "code",
      "execution_count": 63,
      "metadata": {
        "colab": {
          "base_uri": "https://localhost:8080/"
        },
        "outputId": "577ea46c-2981-471c-ef2c-09201647a68c",
        "id": "Gcj0aQsWrQgr"
      },
      "outputs": [
        {
          "output_type": "stream",
          "name": "stdout",
          "text": [
            "Train loss at epoch 1:  0.3895354\n",
            "Train Acc at epoch 1:  0.8570453\n",
            "Eval loss at epoch 1:  0.44856802\n",
            "Eval Acc at epoch 1:  0.8592224\n",
            "Train loss at epoch 2:  0.30332243\n",
            "Train Acc at epoch 2:  0.8654205\n",
            "Eval loss at epoch 2:  0.38006198\n",
            "Eval Acc at epoch 2:  0.8723777\n",
            "Train loss at epoch 4:  0.22784726\n",
            "Train Acc at epoch 4:  0.8861757\n",
            "Eval loss at epoch 4:  0.32934362\n",
            "Eval Acc at epoch 4:  0.89021367\n",
            "Train loss at epoch 6:  0.18262735\n",
            "Train Acc at epoch 6:  0.89896595\n",
            "Eval loss at epoch 6:  0.3136128\n",
            "Eval Acc at epoch 6:  0.90181035\n",
            "Train loss at epoch 8:  0.14989333\n",
            "Train Acc at epoch 8:  0.90823233\n",
            "Eval loss at epoch 8:  0.3158323\n",
            "Eval Acc at epoch 8:  0.91044664\n"
          ]
        }
      ],
      "source": [
        "# Train model Best\n",
        "is_train = True\n",
        "model.fit_fc(train_dataset, test_dataset, optimizer, is_train,num_epochs=20,early_stopping_rounds=2, verbose=2, train_from_scratch=True)"
      ]
    },
    {
      "cell_type": "code",
      "execution_count": 72,
      "metadata": {
        "colab": {
          "base_uri": "https://localhost:8080/"
        },
        "outputId": "eb1d348e-4105-4303-9d4b-3c9de44fc650",
        "id": "dX9lod2LrQlb"
      },
      "outputs": [
        {
          "output_type": "stream",
          "name": "stdout",
          "text": [
            "mkdir: cannot create directory ‘/content/models_checkpoints/’: File exists\n",
            "mkdir: cannot create directory ‘/content/models_checkpoints/fmnist’: File exists\n"
          ]
        }
      ],
      "source": [
        "# Specify the path where you want to save/restore the trained variables.\n",
        "!mkdir /content/models_checkpoints/\n",
        "!mkdir /content/models_checkpoints/fmnist\n",
        "\n",
        "checkpoint_directory = '/content/models_checkpoints/fmnist'\n",
        "\n",
        "# Use the GPU if available.\n",
        "device = 'gpu:0'\n",
        "\n",
        "# Define optimizer.\n",
        "optimizer = tf.compat.v1.train.AdamOptimizer(learning_rate=1e-4)\n",
        "\n",
        "# Instantiate model. This doesn't initialize the variables yet.\n",
        "model = ImageRecognitionCNN(num_classes=10, device=device,checkpoint_directory=checkpoint_directory)\n",
        "\n",
        "#model = ImageRecognitionCNN(num_classes=7, device=device)"
      ]
    },
    {
      "cell_type": "code",
      "execution_count": 73,
      "metadata": {
        "colab": {
          "base_uri": "https://localhost:8080/"
        },
        "outputId": "89e39253-bc53-45b5-8c03-ba574d4ec8a3",
        "id": "qyDsoVZYrQlb"
      },
      "outputs": [
        {
          "output_type": "stream",
          "name": "stdout",
          "text": [
            "Train loss at epoch 1:  0.4109569\n",
            "Train Acc at epoch 1:  0.8520833\n",
            "Eval loss at epoch 1:  0.45860255\n",
            "Eval Acc at epoch 1:  0.85386187\n",
            "Train loss at epoch 2:  0.32258222\n",
            "Train Acc at epoch 2:  0.86047745\n",
            "Eval loss at epoch 2:  0.38613063\n",
            "Eval Acc at epoch 2:  0.86729133\n",
            "Train loss at epoch 4:  0.24881124\n",
            "Train Acc at epoch 4:  0.88120514\n",
            "Eval loss at epoch 4:  0.34256154\n",
            "Eval Acc at epoch 4:  0.88486314\n",
            "Train loss at epoch 6:  0.19126697\n",
            "Train Acc at epoch 6:  0.89433753\n",
            "Eval loss at epoch 6:  0.31611085\n",
            "Eval Acc at epoch 6:  0.8972276\n",
            "Train loss at epoch 8:  0.15491693\n",
            "Train Acc at epoch 8:  0.90432507\n",
            "Eval loss at epoch 8:  0.3141275\n",
            "Eval Acc at epoch 8:  0.9066254\n",
            "Train loss at epoch 10:  0.12733746\n",
            "Train Acc at epoch 10:  0.9123902\n",
            "Eval loss at epoch 10:  0.3242094\n",
            "Eval Acc at epoch 10:  0.9142121\n"
          ]
        }
      ],
      "source": [
        "# Train model Best\n",
        "is_train = True\n",
        "model.fit_fc(train_dataset, test_dataset, optimizer, is_train,num_epochs=20,early_stopping_rounds=2, verbose=2, train_from_scratch=True)"
      ]
    },
    {
      "cell_type": "markdown",
      "metadata": {
        "id": "lji2BjhKTFZz"
      },
      "source": [
        "### Plot and Test"
      ]
    },
    {
      "cell_type": "code",
      "execution_count": null,
      "metadata": {
        "colab": {
          "base_uri": "https://localhost:8080/",
          "height": 283
        },
        "outputId": "06bf8807-8005-4f56-ee48-890ec8214d7b",
        "id": "Un87ybgITFZz"
      },
      "outputs": [
        {
          "output_type": "execute_result",
          "data": {
            "text/plain": [
              "[<matplotlib.lines.Line2D at 0x7f61b329aa90>]"
            ]
          },
          "metadata": {},
          "execution_count": 74
        },
        {
          "output_type": "display_data",
          "data": {
            "text/plain": [
              "<Figure size 432x288 with 1 Axes>"
            ],
            "image/png": "[encoded data removed]"
          },
          "metadata": {
            "needs_background": "light"
          }
        }
      ],
      "source": [
        "plt.plot(model.history['train_loss'],'bo--')"
      ]
    },
    {
      "cell_type": "code",
      "source": [
        "plt.plot(model.history['train_acc'],'go--')"
      ],
      "metadata": {
        "colab": {
          "base_uri": "https://localhost:8080/",
          "height": 283
        },
        "outputId": "adda5d25-57bf-4731-8bb5-bdbde70287df",
        "id": "XwvB_7m_TFZz"
      },
      "execution_count": null,
      "outputs": [
        {
          "output_type": "execute_result",
          "data": {
            "text/plain": [
              "[<matplotlib.lines.Line2D at 0x7f61b3395f50>]"
            ]
          },
          "metadata": {},
          "execution_count": 60
        },
        {
          "output_type": "display_data",
          "data": {
            "text/plain": [
              "<Figure size 432x288 with 1 Axes>"
            ],
            "image/png": "[encoded data removed]"
          },
          "metadata": {
            "needs_background": "light"
          }
        }
      ]
    },
    {
      "cell_type": "code",
      "source": [
        "plt.plot(model.history['val_acc'],'go--')"
      ],
      "metadata": {
        "colab": {
          "base_uri": "https://localhost:8080/",
          "height": 283
        },
        "outputId": "1f201c87-22ae-4634-cf02-f05190b275d3",
        "id": "kghUKjn5TFZz"
      },
      "execution_count": null,
      "outputs": [
        {
          "output_type": "execute_result",
          "data": {
            "text/plain": [
              "[<matplotlib.lines.Line2D at 0x7f61b330ad50>]"
            ]
          },
          "metadata": {},
          "execution_count": 61
        },
        {
          "output_type": "display_data",
          "data": {
            "text/plain": [
              "<Figure size 432x288 with 1 Axes>"
            ],
            "image/png": "[encoded data removed]"
          },
          "metadata": {
            "needs_background": "light"
          }
        }
      ]
    },
    {
      "cell_type": "code",
      "source": [
        "plt.plot(model.history['eval_loss'],'go--')"
      ],
      "metadata": {
        "colab": {
          "base_uri": "https://localhost:8080/",
          "height": 285
        },
        "outputId": "1c5b25bb-ec2a-4ff1-8935-45ad04e557e7",
        "id": "-HwimFrPTFZz"
      },
      "execution_count": null,
      "outputs": [
        {
          "output_type": "execute_result",
          "data": {
            "text/plain": [
              "[<matplotlib.lines.Line2D at 0x7f61bbed3790>]"
            ]
          },
          "metadata": {},
          "execution_count": 62
        },
        {
          "output_type": "display_data",
          "data": {
            "text/plain": [
              "<Figure size 432x288 with 1 Axes>"
            ],
            "image/png": "[encoded data removed]"
          },
          "metadata": {
            "needs_background": "light"
          }
        }
      ]
    },
    {
      "cell_type": "markdown",
      "source": [
        "### Three Test Runs"
      ],
      "metadata": {
        "id": "iagslDEyrMgu"
      }
    },
    {
      "cell_type": "code",
      "source": [
        "## Test Data\n",
        "is_train = True\n",
        "acc = tf.keras.metrics.Accuracy()\n",
        "test_loss = tf.keras.metrics.Mean('test_loss')\n",
        "acc_test = tf.keras.metrics.Mean('acc_test')\n",
        "\n",
        "def loss_fn(images, target, training):\n",
        "    \"\"\" Defines the loss function        \n",
        "    \"\"\"\n",
        "    preds = model.predict(images, training)\n",
        "    loss = tf.nn.softmax_cross_entropy_with_logits(labels=target, logits=preds)\n",
        "    return loss\n",
        "\n",
        "\n",
        "def compute_accuracy_2(images, targets,is_train):\n",
        "    \"\"\" Compute the accuracy on the input data.\n",
        "    \"\"\"\n",
        "    with tf.device(device):\n",
        "        \n",
        "        # Predict the probability of each class\n",
        "        logits = model.predict(images, is_train)\n",
        "        # Select the class with the highest probability\n",
        "        \n",
        "        logits = tf.nn.softmax(logits)\n",
        "        logits = tf.reshape(logits, [-1, 10])\n",
        "        targets = tf.reshape(targets, [-1,10])\n",
        "        preds = tf.argmax(logits, axis=1)\n",
        "        goal = tf.argmax(targets, axis=1)\n",
        "        acc.update_state(goal, preds)\n",
        "        # Compute the accuracy\n",
        "        result = acc.result().numpy()\n",
        "    return result"
      ],
      "metadata": {
        "id": "QAuTB-20rMg3"
      },
      "execution_count": 64,
      "outputs": []
    },
    {
      "cell_type": "code",
      "source": [
        "# Compute the loss and accuracy over testing dataset\n",
        "for step, (images, target) in enumerate(test_dataset):\n",
        "    loss = loss_fn(images, target, is_train)\n",
        "    accuracy = compute_accuracy_2(images,target,is_train)\n",
        "    acc_test(accuracy)\n",
        "    test_loss(loss)\n",
        "l = test_loss.result().numpy()\n",
        "a = acc_test.result().numpy()\n",
        "print('\\nTest Accuracy: {:.2f}'.format(a))\n",
        "print('Test loss: {:.4f}'.format(l))"
      ],
      "metadata": {
        "colab": {
          "base_uri": "https://localhost:8080/"
        },
        "outputId": "9faaea81-ef9d-4dc9-bd27-2334b43c893f",
        "id": "dPQsQ0wprMg3"
      },
      "execution_count": 65,
      "outputs": [
        {
          "output_type": "stream",
          "name": "stdout",
          "text": [
            "\n",
            "Test Accuracy: 0.89\n",
            "Test loss: 0.3158\n"
          ]
        }
      ]
    },
    {
      "cell_type": "code",
      "source": [
        "## Test Data\n",
        "is_train = False\n",
        "acc = tf.keras.metrics.Accuracy()\n",
        "test_loss = tf.keras.metrics.Mean('test_loss')\n",
        "acc_test = tf.keras.metrics.Mean('acc_test')\n",
        "\n",
        "def loss_fn(images, target, training):\n",
        "    \"\"\" Defines the loss function        \n",
        "    \"\"\"\n",
        "    preds = model.predict(images, training)\n",
        "    loss = tf.nn.softmax_cross_entropy_with_logits(labels=target, logits=preds)\n",
        "    return loss\n",
        "\n",
        "\n",
        "def compute_accuracy_2(images, targets,is_train):\n",
        "    \"\"\" Compute the accuracy on the input data.\n",
        "    \"\"\"\n",
        "    with tf.device(device):\n",
        "        \n",
        "        # Predict the probability of each class\n",
        "        logits = model.predict(images, is_train)\n",
        "        # Select the class with the highest probability\n",
        "        \n",
        "        logits = tf.nn.softmax(logits)\n",
        "        logits = tf.reshape(logits, [-1, 10])\n",
        "        targets = tf.reshape(targets, [-1,10])\n",
        "        preds = tf.argmax(logits, axis=1)\n",
        "        goal = tf.argmax(targets, axis=1)\n",
        "        acc.update_state(goal, preds)\n",
        "        # Compute the accuracy\n",
        "        result = acc.result().numpy()\n",
        "    return result"
      ],
      "metadata": {
        "id": "BWKTODHErMg3"
      },
      "execution_count": 70,
      "outputs": []
    },
    {
      "cell_type": "code",
      "source": [
        "# Compute the loss and accuracy over testing dataset\n",
        "for step, (images, target) in enumerate(test_dataset):\n",
        "    loss = loss_fn(images, target, is_train)\n",
        "    accuracy = compute_accuracy_2(images,target,is_train)\n",
        "    acc_test(accuracy)\n",
        "    test_loss(loss)\n",
        "l = test_loss.result().numpy()\n",
        "a = acc_test.result().numpy()\n",
        "print('\\nTest Accuracy: {:.2f}'.format(a))\n",
        "print('Test loss: {:.4f}'.format(l))"
      ],
      "metadata": {
        "colab": {
          "base_uri": "https://localhost:8080/"
        },
        "outputId": "79e6f590-fc94-4ce9-9283-03befc6fb406",
        "id": "u_ekFMmkrMg3"
      },
      "execution_count": 71,
      "outputs": [
        {
          "output_type": "stream",
          "name": "stdout",
          "text": [
            "\n",
            "Test Accuracy: 0.89\n",
            "Test loss: 0.3287\n"
          ]
        }
      ]
    },
    {
      "cell_type": "code",
      "source": [
        "## Test Data\n",
        "is_train = False\n",
        "acc = tf.keras.metrics.Accuracy()\n",
        "test_loss = tf.keras.metrics.Mean('test_loss')\n",
        "acc_test = tf.keras.metrics.Mean('acc_test')\n",
        "\n",
        "def loss_fn(images, target, training):\n",
        "    \"\"\" Defines the loss function        \n",
        "    \"\"\"\n",
        "    preds = model.predict(images, training)\n",
        "    loss = tf.nn.softmax_cross_entropy_with_logits(labels=target, logits=preds)\n",
        "    return loss\n",
        "\n",
        "\n",
        "def compute_accuracy_2(images, targets,is_train):\n",
        "    \"\"\" Compute the accuracy on the input data.\n",
        "    \"\"\"\n",
        "    with tf.device(device):\n",
        "        \n",
        "        # Predict the probability of each class\n",
        "        logits = model.predict(images, is_train)\n",
        "        # Select the class with the highest probability\n",
        "        \n",
        "        logits = tf.nn.softmax(logits)\n",
        "        logits = tf.reshape(logits, [-1, 10])\n",
        "        targets = tf.reshape(targets, [-1,10])\n",
        "        preds = tf.argmax(logits, axis=1)\n",
        "        goal = tf.argmax(targets, axis=1)\n",
        "        acc.update_state(goal, preds)\n",
        "        # Compute the accuracy\n",
        "        result = acc.result().numpy()\n",
        "    return result"
      ],
      "metadata": {
        "id": "XAVeJXdQrMg3"
      },
      "execution_count": 74,
      "outputs": []
    },
    {
      "cell_type": "code",
      "source": [
        "# Compute the loss and accuracy over testing dataset\n",
        "for step, (images, target) in enumerate(test_dataset):\n",
        "    loss = loss_fn(images, target, is_train)\n",
        "    accuracy = compute_accuracy_2(images,target,is_train)\n",
        "    acc_test(accuracy)\n",
        "    test_loss(loss)\n",
        "l = test_loss.result().numpy()\n",
        "a = acc_test.result().numpy()\n",
        "print('\\nTest Accuracy: {:.2f}'.format(a))\n",
        "print('Test loss: {:.4f}'.format(l))"
      ],
      "metadata": {
        "colab": {
          "base_uri": "https://localhost:8080/"
        },
        "outputId": "bf5f8a10-0090-4d6c-b49c-f19b562357e9",
        "id": "n9LNaoa6rMg3"
      },
      "execution_count": 75,
      "outputs": [
        {
          "output_type": "stream",
          "name": "stdout",
          "text": [
            "\n",
            "Test Accuracy: 0.89\n",
            "Test loss: 0.3242\n"
          ]
        }
      ]
    },
    {
      "cell_type": "code",
      "source": [
        ""
      ],
      "metadata": {
        "id": "k5DF1lba4H3o"
      },
      "execution_count": null,
      "outputs": []
    }
  ],
  "metadata": {
    "accelerator": "GPU",
    "colab": {
      "collapsed_sections": [],
      "name": "Ass_4_IST597_CNN.ipynb",
      "provenance": [],
      "toc_visible": true
    },
    "kernelspec": {
      "display_name": "Python 3",
      "name": "python3"
    },
    "language_info": {
      "name": "python"
    }
  },
  "nbformat": 4,
  "nbformat_minor": 0
}